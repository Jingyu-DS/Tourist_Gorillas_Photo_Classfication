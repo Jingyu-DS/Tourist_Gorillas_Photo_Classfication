{
  "nbformat": 4,
  "nbformat_minor": 0,
  "metadata": {
    "colab": {
      "name": "People_in_training_Stress_testing_with_human_added_Different_inception_model_try: Feature_Selection_Multi_input_classifier.ipynb",
      "provenance": [],
      "collapsed_sections": []
    },
    "kernelspec": {
      "name": "python3",
      "display_name": "Python 3"
    },
    "language_info": {
      "name": "python"
    }
  },
  "cells": [
    {
      "cell_type": "code",
      "source": [
        "import numpy as np\n",
        "import pandas as pd\n",
        "import glob\n",
        "import cv2\n",
        "import os\n",
        "from tensorflow.keras.preprocessing.image import ImageDataGenerator\n",
        "from sklearn.preprocessing import MinMaxScaler\n",
        "from tensorflow.keras.models import Sequential\n",
        "from tensorflow.keras.layers import BatchNormalization\n",
        "from tensorflow.keras.layers import Conv2D\n",
        "from tensorflow.keras.layers import MaxPooling2D\n",
        "from tensorflow.keras.layers import Activation\n",
        "from tensorflow.keras.layers import Dropout\n",
        "from tensorflow.keras.layers import Dense\n",
        "from tensorflow.keras.layers import Flatten\n",
        "from tensorflow.keras.layers import Input\n",
        "from tensorflow.keras.layers import concatenate\n",
        "from tensorflow.keras.models import Model\n",
        "import tensorflow as tf\n",
        "import matplotlib.pyplot as plt"
      ],
      "metadata": {
        "id": "UNIXvaKLgusb"
      },
      "execution_count": 1,
      "outputs": []
    },
    {
      "cell_type": "code",
      "source": [
        "from google.colab import drive\n",
        "drive.mount('/content/gdrive')"
      ],
      "metadata": {
        "colab": {
          "base_uri": "https://localhost:8080/"
        },
        "id": "1h8ZRAlABEKQ",
        "outputId": "bca5377a-e739-48b7-89bd-bd7c53067f21"
      },
      "execution_count": 2,
      "outputs": [
        {
          "output_type": "stream",
          "name": "stdout",
          "text": [
            "Mounted at /content/gdrive\n"
          ]
        }
      ]
    },
    {
      "cell_type": "markdown",
      "source": [
        "### Use features for training data to perform feature selection"
      ],
      "metadata": {
        "id": "i5qzC9p5El4a"
      }
    },
    {
      "cell_type": "code",
      "source": [
        "human_vio = pd.read_csv('/content/gdrive/MyDrive/human-human-raw/Violation.csv')\n",
        "human_non = pd.read_csv('/content/gdrive/MyDrive/human-human-raw/Non-Violation.csv')\n",
        "print(human_vio.shape)\n",
        "print(human_non.shape)"
      ],
      "metadata": {
        "colab": {
          "base_uri": "https://localhost:8080/"
        },
        "id": "DJn9_VDyR6za",
        "outputId": "28e67aee-4037-441e-bf3f-ee39ef783f6a"
      },
      "execution_count": 3,
      "outputs": [
        {
          "output_type": "stream",
          "name": "stdout",
          "text": [
            "(27, 13)\n",
            "(14, 13)\n"
          ]
        }
      ]
    },
    {
      "cell_type": "code",
      "source": [
        "human_vio_training = human_vio.sample(n=10, random_state=6)\n",
        "human_non_training = human_non.sample(n=10, random_state=5)"
      ],
      "metadata": {
        "id": "aydjTT3rSVUu"
      },
      "execution_count": 4,
      "outputs": []
    },
    {
      "cell_type": "code",
      "source": [
        "human_vio_val = human_vio.sample(n=10, random_state=10)\n",
        "human_non_val = human_non.sample(n=10, random_state=12)"
      ],
      "metadata": {
        "id": "v_seiYpsS1oN"
      },
      "execution_count": 5,
      "outputs": []
    },
    {
      "cell_type": "code",
      "source": [
        "human_vio_test = human_vio.sample(n=8, random_state=7)\n",
        "human_non_test = human_non.sample(n=8, random_state=9)"
      ],
      "metadata": {
        "id": "d6C0lLCKS7tt"
      },
      "execution_count": 6,
      "outputs": []
    },
    {
      "cell_type": "code",
      "source": [
        "training_vio = pd.read_csv('/content/gdrive/MyDrive/Multi_input_data/Violation-training.csv')\n",
        "training_non = pd.read_csv('/content/gdrive/MyDrive/Multi_input_data/Non-violation-training.csv')\n",
        "training = pd.concat([training_vio, training_non, human_vio_training, human_non_training], ignore_index=True)\n",
        "training.tail()"
      ],
      "metadata": {
        "colab": {
          "base_uri": "https://localhost:8080/",
          "height": 354
        },
        "id": "a8RU__w67SDr",
        "outputId": "fcfd688e-5b91-47c8-987a-570e8ce9d6ed"
      },
      "execution_count": 7,
      "outputs": [
        {
          "output_type": "execute_result",
          "data": {
            "text/plain": [
              "     Unnamed: 0        File Name  Closest Distance          Human Target  \\\n",
              "225          13  images (29).jpg        591.017132  (145, 118, 500, 225)   \n",
              "226          11  images (25).jpg        363.401981  (500, 389, 783, 547)   \n",
              "227           4   images (4).jpg        540.501850  (15, 512, 1020, 979)   \n",
              "228           8  images (12).jpg        632.401178   (66, 404, 350, 680)   \n",
              "229           9  images (19).jpg        575.460251  (199, 312, 960, 455)   \n",
              "\n",
              "     Human Width  Human Length  Human Area           Animal Taget  \\\n",
              "225          107           355       37985   (151, 687, 716, 817)   \n",
              "226          158           283       44714   (444, 112, 539, 162)   \n",
              "227          467          1005      469335  (323, 113, 1024, 343)   \n",
              "228          276           284       78384  (651, 172, 1026, 814)   \n",
              "229          143           761      108823   (38, 865, 828, 1015)   \n",
              "\n",
              "     Animal Width  Animal Length  Animal Area  Area Ratio  Label  \n",
              "225           130            565        73450    1.933658      0  \n",
              "226            50             95         4750    9.413474      0  \n",
              "227           230            701       161230    2.910966      0  \n",
              "228           642            375       240750    3.071418      0  \n",
              "229           150            790       118500    1.088924      0  "
            ],
            "text/html": [
              "\n",
              "  <div id=\"df-67680caa-c097-4210-b898-398b17bcf302\">\n",
              "    <div class=\"colab-df-container\">\n",
              "      <div>\n",
              "<style scoped>\n",
              "    .dataframe tbody tr th:only-of-type {\n",
              "        vertical-align: middle;\n",
              "    }\n",
              "\n",
              "    .dataframe tbody tr th {\n",
              "        vertical-align: top;\n",
              "    }\n",
              "\n",
              "    .dataframe thead th {\n",
              "        text-align: right;\n",
              "    }\n",
              "</style>\n",
              "<table border=\"1\" class=\"dataframe\">\n",
              "  <thead>\n",
              "    <tr style=\"text-align: right;\">\n",
              "      <th></th>\n",
              "      <th>Unnamed: 0</th>\n",
              "      <th>File Name</th>\n",
              "      <th>Closest Distance</th>\n",
              "      <th>Human Target</th>\n",
              "      <th>Human Width</th>\n",
              "      <th>Human Length</th>\n",
              "      <th>Human Area</th>\n",
              "      <th>Animal Taget</th>\n",
              "      <th>Animal Width</th>\n",
              "      <th>Animal Length</th>\n",
              "      <th>Animal Area</th>\n",
              "      <th>Area Ratio</th>\n",
              "      <th>Label</th>\n",
              "    </tr>\n",
              "  </thead>\n",
              "  <tbody>\n",
              "    <tr>\n",
              "      <th>225</th>\n",
              "      <td>13</td>\n",
              "      <td>images (29).jpg</td>\n",
              "      <td>591.017132</td>\n",
              "      <td>(145, 118, 500, 225)</td>\n",
              "      <td>107</td>\n",
              "      <td>355</td>\n",
              "      <td>37985</td>\n",
              "      <td>(151, 687, 716, 817)</td>\n",
              "      <td>130</td>\n",
              "      <td>565</td>\n",
              "      <td>73450</td>\n",
              "      <td>1.933658</td>\n",
              "      <td>0</td>\n",
              "    </tr>\n",
              "    <tr>\n",
              "      <th>226</th>\n",
              "      <td>11</td>\n",
              "      <td>images (25).jpg</td>\n",
              "      <td>363.401981</td>\n",
              "      <td>(500, 389, 783, 547)</td>\n",
              "      <td>158</td>\n",
              "      <td>283</td>\n",
              "      <td>44714</td>\n",
              "      <td>(444, 112, 539, 162)</td>\n",
              "      <td>50</td>\n",
              "      <td>95</td>\n",
              "      <td>4750</td>\n",
              "      <td>9.413474</td>\n",
              "      <td>0</td>\n",
              "    </tr>\n",
              "    <tr>\n",
              "      <th>227</th>\n",
              "      <td>4</td>\n",
              "      <td>images (4).jpg</td>\n",
              "      <td>540.501850</td>\n",
              "      <td>(15, 512, 1020, 979)</td>\n",
              "      <td>467</td>\n",
              "      <td>1005</td>\n",
              "      <td>469335</td>\n",
              "      <td>(323, 113, 1024, 343)</td>\n",
              "      <td>230</td>\n",
              "      <td>701</td>\n",
              "      <td>161230</td>\n",
              "      <td>2.910966</td>\n",
              "      <td>0</td>\n",
              "    </tr>\n",
              "    <tr>\n",
              "      <th>228</th>\n",
              "      <td>8</td>\n",
              "      <td>images (12).jpg</td>\n",
              "      <td>632.401178</td>\n",
              "      <td>(66, 404, 350, 680)</td>\n",
              "      <td>276</td>\n",
              "      <td>284</td>\n",
              "      <td>78384</td>\n",
              "      <td>(651, 172, 1026, 814)</td>\n",
              "      <td>642</td>\n",
              "      <td>375</td>\n",
              "      <td>240750</td>\n",
              "      <td>3.071418</td>\n",
              "      <td>0</td>\n",
              "    </tr>\n",
              "    <tr>\n",
              "      <th>229</th>\n",
              "      <td>9</td>\n",
              "      <td>images (19).jpg</td>\n",
              "      <td>575.460251</td>\n",
              "      <td>(199, 312, 960, 455)</td>\n",
              "      <td>143</td>\n",
              "      <td>761</td>\n",
              "      <td>108823</td>\n",
              "      <td>(38, 865, 828, 1015)</td>\n",
              "      <td>150</td>\n",
              "      <td>790</td>\n",
              "      <td>118500</td>\n",
              "      <td>1.088924</td>\n",
              "      <td>0</td>\n",
              "    </tr>\n",
              "  </tbody>\n",
              "</table>\n",
              "</div>\n",
              "      <button class=\"colab-df-convert\" onclick=\"convertToInteractive('df-67680caa-c097-4210-b898-398b17bcf302')\"\n",
              "              title=\"Convert this dataframe to an interactive table.\"\n",
              "              style=\"display:none;\">\n",
              "        \n",
              "  <svg xmlns=\"http://www.w3.org/2000/svg\" height=\"24px\"viewBox=\"0 0 24 24\"\n",
              "       width=\"24px\">\n",
              "    <path d=\"M0 0h24v24H0V0z\" fill=\"none\"/>\n",
              "    <path d=\"M18.56 5.44l.94 2.06.94-2.06 2.06-.94-2.06-.94-.94-2.06-.94 2.06-2.06.94zm-11 1L8.5 8.5l.94-2.06 2.06-.94-2.06-.94L8.5 2.5l-.94 2.06-2.06.94zm10 10l.94 2.06.94-2.06 2.06-.94-2.06-.94-.94-2.06-.94 2.06-2.06.94z\"/><path d=\"M17.41 7.96l-1.37-1.37c-.4-.4-.92-.59-1.43-.59-.52 0-1.04.2-1.43.59L10.3 9.45l-7.72 7.72c-.78.78-.78 2.05 0 2.83L4 21.41c.39.39.9.59 1.41.59.51 0 1.02-.2 1.41-.59l7.78-7.78 2.81-2.81c.8-.78.8-2.07 0-2.86zM5.41 20L4 18.59l7.72-7.72 1.47 1.35L5.41 20z\"/>\n",
              "  </svg>\n",
              "      </button>\n",
              "      \n",
              "  <style>\n",
              "    .colab-df-container {\n",
              "      display:flex;\n",
              "      flex-wrap:wrap;\n",
              "      gap: 12px;\n",
              "    }\n",
              "\n",
              "    .colab-df-convert {\n",
              "      background-color: #E8F0FE;\n",
              "      border: none;\n",
              "      border-radius: 50%;\n",
              "      cursor: pointer;\n",
              "      display: none;\n",
              "      fill: #1967D2;\n",
              "      height: 32px;\n",
              "      padding: 0 0 0 0;\n",
              "      width: 32px;\n",
              "    }\n",
              "\n",
              "    .colab-df-convert:hover {\n",
              "      background-color: #E2EBFA;\n",
              "      box-shadow: 0px 1px 2px rgba(60, 64, 67, 0.3), 0px 1px 3px 1px rgba(60, 64, 67, 0.15);\n",
              "      fill: #174EA6;\n",
              "    }\n",
              "\n",
              "    [theme=dark] .colab-df-convert {\n",
              "      background-color: #3B4455;\n",
              "      fill: #D2E3FC;\n",
              "    }\n",
              "\n",
              "    [theme=dark] .colab-df-convert:hover {\n",
              "      background-color: #434B5C;\n",
              "      box-shadow: 0px 1px 3px 1px rgba(0, 0, 0, 0.15);\n",
              "      filter: drop-shadow(0px 1px 2px rgba(0, 0, 0, 0.3));\n",
              "      fill: #FFFFFF;\n",
              "    }\n",
              "  </style>\n",
              "\n",
              "      <script>\n",
              "        const buttonEl =\n",
              "          document.querySelector('#df-67680caa-c097-4210-b898-398b17bcf302 button.colab-df-convert');\n",
              "        buttonEl.style.display =\n",
              "          google.colab.kernel.accessAllowed ? 'block' : 'none';\n",
              "\n",
              "        async function convertToInteractive(key) {\n",
              "          const element = document.querySelector('#df-67680caa-c097-4210-b898-398b17bcf302');\n",
              "          const dataTable =\n",
              "            await google.colab.kernel.invokeFunction('convertToInteractive',\n",
              "                                                     [key], {});\n",
              "          if (!dataTable) return;\n",
              "\n",
              "          const docLinkHtml = 'Like what you see? Visit the ' +\n",
              "            '<a target=\"_blank\" href=https://colab.research.google.com/notebooks/data_table.ipynb>data table notebook</a>'\n",
              "            + ' to learn more about interactive tables.';\n",
              "          element.innerHTML = '';\n",
              "          dataTable['output_type'] = 'display_data';\n",
              "          await google.colab.output.renderOutput(dataTable, element);\n",
              "          const docLink = document.createElement('div');\n",
              "          docLink.innerHTML = docLinkHtml;\n",
              "          element.appendChild(docLink);\n",
              "        }\n",
              "      </script>\n",
              "    </div>\n",
              "  </div>\n",
              "  "
            ]
          },
          "metadata": {},
          "execution_count": 7
        }
      ]
    },
    {
      "cell_type": "code",
      "source": [
        "h_ymin = []\n",
        "h_xmin = []\n",
        "h_ymax = [] \n",
        "h_xmax = []\n",
        "for i in training['Human Target']:\n",
        "  goal = i[1:-1].split(\",\")\n",
        "  h_ymin.append(int(goal[0]))\n",
        "  h_xmin.append(int(goal[1]))\n",
        "  h_ymax.append(int(goal[2]))\n",
        "  h_xmax.append(int(goal[-1]))\n",
        "\n",
        "training['h_ymin'] = h_ymin\n",
        "training['h_xmin'] = h_xmin\n",
        "training['h_ymax'] = h_ymax\n",
        "training['h_xmax'] = h_xmax\n",
        "\n",
        "training.head()\n"
      ],
      "metadata": {
        "colab": {
          "base_uri": "https://localhost:8080/",
          "height": 389
        },
        "id": "2EME23I57iZq",
        "outputId": "b675ca46-f02e-43b8-f721-038c2c171f13"
      },
      "execution_count": 8,
      "outputs": [
        {
          "output_type": "execute_result",
          "data": {
            "text/plain": [
              "   Unnamed: 0     File Name  Closest Distance          Human Target  \\\n",
              "0           0     Bpic5.jpg        221.594788    (24, 3, 1028, 972)   \n",
              "1           1     Bpic6.jpg        279.289277  (227, 174, 841, 585)   \n",
              "2           2    Bpic7.jpeg        407.217694   (113, 0, 1027, 610)   \n",
              "3           3  c_photo2.jpg        321.840022  (155, 302, 477, 541)   \n",
              "4           4  c_photo3.jpg        356.719778  (222, 528, 488, 630)   \n",
              "\n",
              "   Human Width  Human Length  Human Area            Animal Taget  \\\n",
              "0          969          1004      972876    (170, 401, 753, 998)   \n",
              "1          411           614      252354    (405, 498, 910, 762)   \n",
              "2          610           914      557540   (251, 437, 1025, 976)   \n",
              "3          239           322       76958    (225, 0, 1025, 1023)   \n",
              "4          102           266       27132  (290, 516, 1020, 1028)   \n",
              "\n",
              "   Animal Width  Animal Length  Animal Area  Area Ratio  Label  h_ymin  \\\n",
              "0           597            583       348051    2.795211      1      24   \n",
              "1           264            505       133320    1.892844      1     227   \n",
              "2           539            774       417186    1.336430      1     113   \n",
              "3          1023            800       818400   10.634372      1     155   \n",
              "4           512            730       373760   13.775616      1     222   \n",
              "\n",
              "   h_xmin  h_ymax  h_xmax  \n",
              "0       3    1028     972  \n",
              "1     174     841     585  \n",
              "2       0    1027     610  \n",
              "3     302     477     541  \n",
              "4     528     488     630  "
            ],
            "text/html": [
              "\n",
              "  <div id=\"df-0d67d877-9e43-43e9-94db-37d08549aa6c\">\n",
              "    <div class=\"colab-df-container\">\n",
              "      <div>\n",
              "<style scoped>\n",
              "    .dataframe tbody tr th:only-of-type {\n",
              "        vertical-align: middle;\n",
              "    }\n",
              "\n",
              "    .dataframe tbody tr th {\n",
              "        vertical-align: top;\n",
              "    }\n",
              "\n",
              "    .dataframe thead th {\n",
              "        text-align: right;\n",
              "    }\n",
              "</style>\n",
              "<table border=\"1\" class=\"dataframe\">\n",
              "  <thead>\n",
              "    <tr style=\"text-align: right;\">\n",
              "      <th></th>\n",
              "      <th>Unnamed: 0</th>\n",
              "      <th>File Name</th>\n",
              "      <th>Closest Distance</th>\n",
              "      <th>Human Target</th>\n",
              "      <th>Human Width</th>\n",
              "      <th>Human Length</th>\n",
              "      <th>Human Area</th>\n",
              "      <th>Animal Taget</th>\n",
              "      <th>Animal Width</th>\n",
              "      <th>Animal Length</th>\n",
              "      <th>Animal Area</th>\n",
              "      <th>Area Ratio</th>\n",
              "      <th>Label</th>\n",
              "      <th>h_ymin</th>\n",
              "      <th>h_xmin</th>\n",
              "      <th>h_ymax</th>\n",
              "      <th>h_xmax</th>\n",
              "    </tr>\n",
              "  </thead>\n",
              "  <tbody>\n",
              "    <tr>\n",
              "      <th>0</th>\n",
              "      <td>0</td>\n",
              "      <td>Bpic5.jpg</td>\n",
              "      <td>221.594788</td>\n",
              "      <td>(24, 3, 1028, 972)</td>\n",
              "      <td>969</td>\n",
              "      <td>1004</td>\n",
              "      <td>972876</td>\n",
              "      <td>(170, 401, 753, 998)</td>\n",
              "      <td>597</td>\n",
              "      <td>583</td>\n",
              "      <td>348051</td>\n",
              "      <td>2.795211</td>\n",
              "      <td>1</td>\n",
              "      <td>24</td>\n",
              "      <td>3</td>\n",
              "      <td>1028</td>\n",
              "      <td>972</td>\n",
              "    </tr>\n",
              "    <tr>\n",
              "      <th>1</th>\n",
              "      <td>1</td>\n",
              "      <td>Bpic6.jpg</td>\n",
              "      <td>279.289277</td>\n",
              "      <td>(227, 174, 841, 585)</td>\n",
              "      <td>411</td>\n",
              "      <td>614</td>\n",
              "      <td>252354</td>\n",
              "      <td>(405, 498, 910, 762)</td>\n",
              "      <td>264</td>\n",
              "      <td>505</td>\n",
              "      <td>133320</td>\n",
              "      <td>1.892844</td>\n",
              "      <td>1</td>\n",
              "      <td>227</td>\n",
              "      <td>174</td>\n",
              "      <td>841</td>\n",
              "      <td>585</td>\n",
              "    </tr>\n",
              "    <tr>\n",
              "      <th>2</th>\n",
              "      <td>2</td>\n",
              "      <td>Bpic7.jpeg</td>\n",
              "      <td>407.217694</td>\n",
              "      <td>(113, 0, 1027, 610)</td>\n",
              "      <td>610</td>\n",
              "      <td>914</td>\n",
              "      <td>557540</td>\n",
              "      <td>(251, 437, 1025, 976)</td>\n",
              "      <td>539</td>\n",
              "      <td>774</td>\n",
              "      <td>417186</td>\n",
              "      <td>1.336430</td>\n",
              "      <td>1</td>\n",
              "      <td>113</td>\n",
              "      <td>0</td>\n",
              "      <td>1027</td>\n",
              "      <td>610</td>\n",
              "    </tr>\n",
              "    <tr>\n",
              "      <th>3</th>\n",
              "      <td>3</td>\n",
              "      <td>c_photo2.jpg</td>\n",
              "      <td>321.840022</td>\n",
              "      <td>(155, 302, 477, 541)</td>\n",
              "      <td>239</td>\n",
              "      <td>322</td>\n",
              "      <td>76958</td>\n",
              "      <td>(225, 0, 1025, 1023)</td>\n",
              "      <td>1023</td>\n",
              "      <td>800</td>\n",
              "      <td>818400</td>\n",
              "      <td>10.634372</td>\n",
              "      <td>1</td>\n",
              "      <td>155</td>\n",
              "      <td>302</td>\n",
              "      <td>477</td>\n",
              "      <td>541</td>\n",
              "    </tr>\n",
              "    <tr>\n",
              "      <th>4</th>\n",
              "      <td>4</td>\n",
              "      <td>c_photo3.jpg</td>\n",
              "      <td>356.719778</td>\n",
              "      <td>(222, 528, 488, 630)</td>\n",
              "      <td>102</td>\n",
              "      <td>266</td>\n",
              "      <td>27132</td>\n",
              "      <td>(290, 516, 1020, 1028)</td>\n",
              "      <td>512</td>\n",
              "      <td>730</td>\n",
              "      <td>373760</td>\n",
              "      <td>13.775616</td>\n",
              "      <td>1</td>\n",
              "      <td>222</td>\n",
              "      <td>528</td>\n",
              "      <td>488</td>\n",
              "      <td>630</td>\n",
              "    </tr>\n",
              "  </tbody>\n",
              "</table>\n",
              "</div>\n",
              "      <button class=\"colab-df-convert\" onclick=\"convertToInteractive('df-0d67d877-9e43-43e9-94db-37d08549aa6c')\"\n",
              "              title=\"Convert this dataframe to an interactive table.\"\n",
              "              style=\"display:none;\">\n",
              "        \n",
              "  <svg xmlns=\"http://www.w3.org/2000/svg\" height=\"24px\"viewBox=\"0 0 24 24\"\n",
              "       width=\"24px\">\n",
              "    <path d=\"M0 0h24v24H0V0z\" fill=\"none\"/>\n",
              "    <path d=\"M18.56 5.44l.94 2.06.94-2.06 2.06-.94-2.06-.94-.94-2.06-.94 2.06-2.06.94zm-11 1L8.5 8.5l.94-2.06 2.06-.94-2.06-.94L8.5 2.5l-.94 2.06-2.06.94zm10 10l.94 2.06.94-2.06 2.06-.94-2.06-.94-.94-2.06-.94 2.06-2.06.94z\"/><path d=\"M17.41 7.96l-1.37-1.37c-.4-.4-.92-.59-1.43-.59-.52 0-1.04.2-1.43.59L10.3 9.45l-7.72 7.72c-.78.78-.78 2.05 0 2.83L4 21.41c.39.39.9.59 1.41.59.51 0 1.02-.2 1.41-.59l7.78-7.78 2.81-2.81c.8-.78.8-2.07 0-2.86zM5.41 20L4 18.59l7.72-7.72 1.47 1.35L5.41 20z\"/>\n",
              "  </svg>\n",
              "      </button>\n",
              "      \n",
              "  <style>\n",
              "    .colab-df-container {\n",
              "      display:flex;\n",
              "      flex-wrap:wrap;\n",
              "      gap: 12px;\n",
              "    }\n",
              "\n",
              "    .colab-df-convert {\n",
              "      background-color: #E8F0FE;\n",
              "      border: none;\n",
              "      border-radius: 50%;\n",
              "      cursor: pointer;\n",
              "      display: none;\n",
              "      fill: #1967D2;\n",
              "      height: 32px;\n",
              "      padding: 0 0 0 0;\n",
              "      width: 32px;\n",
              "    }\n",
              "\n",
              "    .colab-df-convert:hover {\n",
              "      background-color: #E2EBFA;\n",
              "      box-shadow: 0px 1px 2px rgba(60, 64, 67, 0.3), 0px 1px 3px 1px rgba(60, 64, 67, 0.15);\n",
              "      fill: #174EA6;\n",
              "    }\n",
              "\n",
              "    [theme=dark] .colab-df-convert {\n",
              "      background-color: #3B4455;\n",
              "      fill: #D2E3FC;\n",
              "    }\n",
              "\n",
              "    [theme=dark] .colab-df-convert:hover {\n",
              "      background-color: #434B5C;\n",
              "      box-shadow: 0px 1px 3px 1px rgba(0, 0, 0, 0.15);\n",
              "      filter: drop-shadow(0px 1px 2px rgba(0, 0, 0, 0.3));\n",
              "      fill: #FFFFFF;\n",
              "    }\n",
              "  </style>\n",
              "\n",
              "      <script>\n",
              "        const buttonEl =\n",
              "          document.querySelector('#df-0d67d877-9e43-43e9-94db-37d08549aa6c button.colab-df-convert');\n",
              "        buttonEl.style.display =\n",
              "          google.colab.kernel.accessAllowed ? 'block' : 'none';\n",
              "\n",
              "        async function convertToInteractive(key) {\n",
              "          const element = document.querySelector('#df-0d67d877-9e43-43e9-94db-37d08549aa6c');\n",
              "          const dataTable =\n",
              "            await google.colab.kernel.invokeFunction('convertToInteractive',\n",
              "                                                     [key], {});\n",
              "          if (!dataTable) return;\n",
              "\n",
              "          const docLinkHtml = 'Like what you see? Visit the ' +\n",
              "            '<a target=\"_blank\" href=https://colab.research.google.com/notebooks/data_table.ipynb>data table notebook</a>'\n",
              "            + ' to learn more about interactive tables.';\n",
              "          element.innerHTML = '';\n",
              "          dataTable['output_type'] = 'display_data';\n",
              "          await google.colab.output.renderOutput(dataTable, element);\n",
              "          const docLink = document.createElement('div');\n",
              "          docLink.innerHTML = docLinkHtml;\n",
              "          element.appendChild(docLink);\n",
              "        }\n",
              "      </script>\n",
              "    </div>\n",
              "  </div>\n",
              "  "
            ]
          },
          "metadata": {},
          "execution_count": 8
        }
      ]
    },
    {
      "cell_type": "code",
      "source": [
        "a_ymin = []\n",
        "a_xmin = []\n",
        "a_ymax = [] \n",
        "a_xmax = []\n",
        "for i in training['Animal Taget']:\n",
        "  goal = i[1:-1].split(\",\")\n",
        "  a_ymin.append(int(goal[0]))\n",
        "  a_xmin.append(int(goal[1]))\n",
        "  a_ymax.append(int(goal[2]))\n",
        "  a_xmax.append(int(goal[-1]))\n",
        "\n",
        "training['a_ymin'] = a_ymin\n",
        "training['a_xmin'] = a_xmin\n",
        "training['a_ymax'] = a_ymax\n",
        "training['a_xmax'] = a_xmax\n",
        "\n",
        "training.head()"
      ],
      "metadata": {
        "colab": {
          "base_uri": "https://localhost:8080/",
          "height": 577
        },
        "id": "Fh4KrDXI-PsF",
        "outputId": "549e2fc0-f4c9-4e47-f629-ee833ace0f8f"
      },
      "execution_count": 9,
      "outputs": [
        {
          "output_type": "execute_result",
          "data": {
            "text/plain": [
              "   Unnamed: 0     File Name  Closest Distance          Human Target  \\\n",
              "0           0     Bpic5.jpg        221.594788    (24, 3, 1028, 972)   \n",
              "1           1     Bpic6.jpg        279.289277  (227, 174, 841, 585)   \n",
              "2           2    Bpic7.jpeg        407.217694   (113, 0, 1027, 610)   \n",
              "3           3  c_photo2.jpg        321.840022  (155, 302, 477, 541)   \n",
              "4           4  c_photo3.jpg        356.719778  (222, 528, 488, 630)   \n",
              "\n",
              "   Human Width  Human Length  Human Area            Animal Taget  \\\n",
              "0          969          1004      972876    (170, 401, 753, 998)   \n",
              "1          411           614      252354    (405, 498, 910, 762)   \n",
              "2          610           914      557540   (251, 437, 1025, 976)   \n",
              "3          239           322       76958    (225, 0, 1025, 1023)   \n",
              "4          102           266       27132  (290, 516, 1020, 1028)   \n",
              "\n",
              "   Animal Width  Animal Length  ...  Area Ratio  Label  h_ymin  h_xmin  \\\n",
              "0           597            583  ...    2.795211      1      24       3   \n",
              "1           264            505  ...    1.892844      1     227     174   \n",
              "2           539            774  ...    1.336430      1     113       0   \n",
              "3          1023            800  ...   10.634372      1     155     302   \n",
              "4           512            730  ...   13.775616      1     222     528   \n",
              "\n",
              "   h_ymax  h_xmax  a_ymin  a_xmin  a_ymax  a_xmax  \n",
              "0    1028     972     170     401     753     998  \n",
              "1     841     585     405     498     910     762  \n",
              "2    1027     610     251     437    1025     976  \n",
              "3     477     541     225       0    1025    1023  \n",
              "4     488     630     290     516    1020    1028  \n",
              "\n",
              "[5 rows x 21 columns]"
            ],
            "text/html": [
              "\n",
              "  <div id=\"df-436bc0fd-89ca-4cdf-9aab-57daf09dac34\">\n",
              "    <div class=\"colab-df-container\">\n",
              "      <div>\n",
              "<style scoped>\n",
              "    .dataframe tbody tr th:only-of-type {\n",
              "        vertical-align: middle;\n",
              "    }\n",
              "\n",
              "    .dataframe tbody tr th {\n",
              "        vertical-align: top;\n",
              "    }\n",
              "\n",
              "    .dataframe thead th {\n",
              "        text-align: right;\n",
              "    }\n",
              "</style>\n",
              "<table border=\"1\" class=\"dataframe\">\n",
              "  <thead>\n",
              "    <tr style=\"text-align: right;\">\n",
              "      <th></th>\n",
              "      <th>Unnamed: 0</th>\n",
              "      <th>File Name</th>\n",
              "      <th>Closest Distance</th>\n",
              "      <th>Human Target</th>\n",
              "      <th>Human Width</th>\n",
              "      <th>Human Length</th>\n",
              "      <th>Human Area</th>\n",
              "      <th>Animal Taget</th>\n",
              "      <th>Animal Width</th>\n",
              "      <th>Animal Length</th>\n",
              "      <th>...</th>\n",
              "      <th>Area Ratio</th>\n",
              "      <th>Label</th>\n",
              "      <th>h_ymin</th>\n",
              "      <th>h_xmin</th>\n",
              "      <th>h_ymax</th>\n",
              "      <th>h_xmax</th>\n",
              "      <th>a_ymin</th>\n",
              "      <th>a_xmin</th>\n",
              "      <th>a_ymax</th>\n",
              "      <th>a_xmax</th>\n",
              "    </tr>\n",
              "  </thead>\n",
              "  <tbody>\n",
              "    <tr>\n",
              "      <th>0</th>\n",
              "      <td>0</td>\n",
              "      <td>Bpic5.jpg</td>\n",
              "      <td>221.594788</td>\n",
              "      <td>(24, 3, 1028, 972)</td>\n",
              "      <td>969</td>\n",
              "      <td>1004</td>\n",
              "      <td>972876</td>\n",
              "      <td>(170, 401, 753, 998)</td>\n",
              "      <td>597</td>\n",
              "      <td>583</td>\n",
              "      <td>...</td>\n",
              "      <td>2.795211</td>\n",
              "      <td>1</td>\n",
              "      <td>24</td>\n",
              "      <td>3</td>\n",
              "      <td>1028</td>\n",
              "      <td>972</td>\n",
              "      <td>170</td>\n",
              "      <td>401</td>\n",
              "      <td>753</td>\n",
              "      <td>998</td>\n",
              "    </tr>\n",
              "    <tr>\n",
              "      <th>1</th>\n",
              "      <td>1</td>\n",
              "      <td>Bpic6.jpg</td>\n",
              "      <td>279.289277</td>\n",
              "      <td>(227, 174, 841, 585)</td>\n",
              "      <td>411</td>\n",
              "      <td>614</td>\n",
              "      <td>252354</td>\n",
              "      <td>(405, 498, 910, 762)</td>\n",
              "      <td>264</td>\n",
              "      <td>505</td>\n",
              "      <td>...</td>\n",
              "      <td>1.892844</td>\n",
              "      <td>1</td>\n",
              "      <td>227</td>\n",
              "      <td>174</td>\n",
              "      <td>841</td>\n",
              "      <td>585</td>\n",
              "      <td>405</td>\n",
              "      <td>498</td>\n",
              "      <td>910</td>\n",
              "      <td>762</td>\n",
              "    </tr>\n",
              "    <tr>\n",
              "      <th>2</th>\n",
              "      <td>2</td>\n",
              "      <td>Bpic7.jpeg</td>\n",
              "      <td>407.217694</td>\n",
              "      <td>(113, 0, 1027, 610)</td>\n",
              "      <td>610</td>\n",
              "      <td>914</td>\n",
              "      <td>557540</td>\n",
              "      <td>(251, 437, 1025, 976)</td>\n",
              "      <td>539</td>\n",
              "      <td>774</td>\n",
              "      <td>...</td>\n",
              "      <td>1.336430</td>\n",
              "      <td>1</td>\n",
              "      <td>113</td>\n",
              "      <td>0</td>\n",
              "      <td>1027</td>\n",
              "      <td>610</td>\n",
              "      <td>251</td>\n",
              "      <td>437</td>\n",
              "      <td>1025</td>\n",
              "      <td>976</td>\n",
              "    </tr>\n",
              "    <tr>\n",
              "      <th>3</th>\n",
              "      <td>3</td>\n",
              "      <td>c_photo2.jpg</td>\n",
              "      <td>321.840022</td>\n",
              "      <td>(155, 302, 477, 541)</td>\n",
              "      <td>239</td>\n",
              "      <td>322</td>\n",
              "      <td>76958</td>\n",
              "      <td>(225, 0, 1025, 1023)</td>\n",
              "      <td>1023</td>\n",
              "      <td>800</td>\n",
              "      <td>...</td>\n",
              "      <td>10.634372</td>\n",
              "      <td>1</td>\n",
              "      <td>155</td>\n",
              "      <td>302</td>\n",
              "      <td>477</td>\n",
              "      <td>541</td>\n",
              "      <td>225</td>\n",
              "      <td>0</td>\n",
              "      <td>1025</td>\n",
              "      <td>1023</td>\n",
              "    </tr>\n",
              "    <tr>\n",
              "      <th>4</th>\n",
              "      <td>4</td>\n",
              "      <td>c_photo3.jpg</td>\n",
              "      <td>356.719778</td>\n",
              "      <td>(222, 528, 488, 630)</td>\n",
              "      <td>102</td>\n",
              "      <td>266</td>\n",
              "      <td>27132</td>\n",
              "      <td>(290, 516, 1020, 1028)</td>\n",
              "      <td>512</td>\n",
              "      <td>730</td>\n",
              "      <td>...</td>\n",
              "      <td>13.775616</td>\n",
              "      <td>1</td>\n",
              "      <td>222</td>\n",
              "      <td>528</td>\n",
              "      <td>488</td>\n",
              "      <td>630</td>\n",
              "      <td>290</td>\n",
              "      <td>516</td>\n",
              "      <td>1020</td>\n",
              "      <td>1028</td>\n",
              "    </tr>\n",
              "  </tbody>\n",
              "</table>\n",
              "<p>5 rows × 21 columns</p>\n",
              "</div>\n",
              "      <button class=\"colab-df-convert\" onclick=\"convertToInteractive('df-436bc0fd-89ca-4cdf-9aab-57daf09dac34')\"\n",
              "              title=\"Convert this dataframe to an interactive table.\"\n",
              "              style=\"display:none;\">\n",
              "        \n",
              "  <svg xmlns=\"http://www.w3.org/2000/svg\" height=\"24px\"viewBox=\"0 0 24 24\"\n",
              "       width=\"24px\">\n",
              "    <path d=\"M0 0h24v24H0V0z\" fill=\"none\"/>\n",
              "    <path d=\"M18.56 5.44l.94 2.06.94-2.06 2.06-.94-2.06-.94-.94-2.06-.94 2.06-2.06.94zm-11 1L8.5 8.5l.94-2.06 2.06-.94-2.06-.94L8.5 2.5l-.94 2.06-2.06.94zm10 10l.94 2.06.94-2.06 2.06-.94-2.06-.94-.94-2.06-.94 2.06-2.06.94z\"/><path d=\"M17.41 7.96l-1.37-1.37c-.4-.4-.92-.59-1.43-.59-.52 0-1.04.2-1.43.59L10.3 9.45l-7.72 7.72c-.78.78-.78 2.05 0 2.83L4 21.41c.39.39.9.59 1.41.59.51 0 1.02-.2 1.41-.59l7.78-7.78 2.81-2.81c.8-.78.8-2.07 0-2.86zM5.41 20L4 18.59l7.72-7.72 1.47 1.35L5.41 20z\"/>\n",
              "  </svg>\n",
              "      </button>\n",
              "      \n",
              "  <style>\n",
              "    .colab-df-container {\n",
              "      display:flex;\n",
              "      flex-wrap:wrap;\n",
              "      gap: 12px;\n",
              "    }\n",
              "\n",
              "    .colab-df-convert {\n",
              "      background-color: #E8F0FE;\n",
              "      border: none;\n",
              "      border-radius: 50%;\n",
              "      cursor: pointer;\n",
              "      display: none;\n",
              "      fill: #1967D2;\n",
              "      height: 32px;\n",
              "      padding: 0 0 0 0;\n",
              "      width: 32px;\n",
              "    }\n",
              "\n",
              "    .colab-df-convert:hover {\n",
              "      background-color: #E2EBFA;\n",
              "      box-shadow: 0px 1px 2px rgba(60, 64, 67, 0.3), 0px 1px 3px 1px rgba(60, 64, 67, 0.15);\n",
              "      fill: #174EA6;\n",
              "    }\n",
              "\n",
              "    [theme=dark] .colab-df-convert {\n",
              "      background-color: #3B4455;\n",
              "      fill: #D2E3FC;\n",
              "    }\n",
              "\n",
              "    [theme=dark] .colab-df-convert:hover {\n",
              "      background-color: #434B5C;\n",
              "      box-shadow: 0px 1px 3px 1px rgba(0, 0, 0, 0.15);\n",
              "      filter: drop-shadow(0px 1px 2px rgba(0, 0, 0, 0.3));\n",
              "      fill: #FFFFFF;\n",
              "    }\n",
              "  </style>\n",
              "\n",
              "      <script>\n",
              "        const buttonEl =\n",
              "          document.querySelector('#df-436bc0fd-89ca-4cdf-9aab-57daf09dac34 button.colab-df-convert');\n",
              "        buttonEl.style.display =\n",
              "          google.colab.kernel.accessAllowed ? 'block' : 'none';\n",
              "\n",
              "        async function convertToInteractive(key) {\n",
              "          const element = document.querySelector('#df-436bc0fd-89ca-4cdf-9aab-57daf09dac34');\n",
              "          const dataTable =\n",
              "            await google.colab.kernel.invokeFunction('convertToInteractive',\n",
              "                                                     [key], {});\n",
              "          if (!dataTable) return;\n",
              "\n",
              "          const docLinkHtml = 'Like what you see? Visit the ' +\n",
              "            '<a target=\"_blank\" href=https://colab.research.google.com/notebooks/data_table.ipynb>data table notebook</a>'\n",
              "            + ' to learn more about interactive tables.';\n",
              "          element.innerHTML = '';\n",
              "          dataTable['output_type'] = 'display_data';\n",
              "          await google.colab.output.renderOutput(dataTable, element);\n",
              "          const docLink = document.createElement('div');\n",
              "          docLink.innerHTML = docLinkHtml;\n",
              "          element.appendChild(docLink);\n",
              "        }\n",
              "      </script>\n",
              "    </div>\n",
              "  </div>\n",
              "  "
            ]
          },
          "metadata": {},
          "execution_count": 9
        }
      ]
    },
    {
      "cell_type": "code",
      "source": [
        "training['midx_h'] = (training['h_xmin'] + training['h_xmax'])/2\n",
        "training['midy_h'] = (training['h_ymin'] + training['h_ymax'])/2\n",
        "training['midx_a'] = (training['a_xmin'] + training['a_xmax'])/2\n",
        "training['midy_a'] = (training['a_ymin'] + training['a_ymax'])/2\n",
        "training.head()"
      ],
      "metadata": {
        "colab": {
          "base_uri": "https://localhost:8080/",
          "height": 577
        },
        "id": "7XNaciZc-mWP",
        "outputId": "dfb3b08e-34c5-4332-fac6-dac18e3a80fb"
      },
      "execution_count": 10,
      "outputs": [
        {
          "output_type": "execute_result",
          "data": {
            "text/plain": [
              "   Unnamed: 0     File Name  Closest Distance          Human Target  \\\n",
              "0           0     Bpic5.jpg        221.594788    (24, 3, 1028, 972)   \n",
              "1           1     Bpic6.jpg        279.289277  (227, 174, 841, 585)   \n",
              "2           2    Bpic7.jpeg        407.217694   (113, 0, 1027, 610)   \n",
              "3           3  c_photo2.jpg        321.840022  (155, 302, 477, 541)   \n",
              "4           4  c_photo3.jpg        356.719778  (222, 528, 488, 630)   \n",
              "\n",
              "   Human Width  Human Length  Human Area            Animal Taget  \\\n",
              "0          969          1004      972876    (170, 401, 753, 998)   \n",
              "1          411           614      252354    (405, 498, 910, 762)   \n",
              "2          610           914      557540   (251, 437, 1025, 976)   \n",
              "3          239           322       76958    (225, 0, 1025, 1023)   \n",
              "4          102           266       27132  (290, 516, 1020, 1028)   \n",
              "\n",
              "   Animal Width  Animal Length  ...  h_ymax  h_xmax  a_ymin  a_xmin  a_ymax  \\\n",
              "0           597            583  ...    1028     972     170     401     753   \n",
              "1           264            505  ...     841     585     405     498     910   \n",
              "2           539            774  ...    1027     610     251     437    1025   \n",
              "3          1023            800  ...     477     541     225       0    1025   \n",
              "4           512            730  ...     488     630     290     516    1020   \n",
              "\n",
              "   a_xmax  midx_h  midy_h  midx_a  midy_a  \n",
              "0     998   487.5   526.0   699.5   461.5  \n",
              "1     762   379.5   534.0   630.0   657.5  \n",
              "2     976   305.0   570.0   706.5   638.0  \n",
              "3    1023   421.5   316.0   511.5   625.0  \n",
              "4    1028   579.0   355.0   772.0   655.0  \n",
              "\n",
              "[5 rows x 25 columns]"
            ],
            "text/html": [
              "\n",
              "  <div id=\"df-45735370-158b-4c9a-861b-f1f245c1afdc\">\n",
              "    <div class=\"colab-df-container\">\n",
              "      <div>\n",
              "<style scoped>\n",
              "    .dataframe tbody tr th:only-of-type {\n",
              "        vertical-align: middle;\n",
              "    }\n",
              "\n",
              "    .dataframe tbody tr th {\n",
              "        vertical-align: top;\n",
              "    }\n",
              "\n",
              "    .dataframe thead th {\n",
              "        text-align: right;\n",
              "    }\n",
              "</style>\n",
              "<table border=\"1\" class=\"dataframe\">\n",
              "  <thead>\n",
              "    <tr style=\"text-align: right;\">\n",
              "      <th></th>\n",
              "      <th>Unnamed: 0</th>\n",
              "      <th>File Name</th>\n",
              "      <th>Closest Distance</th>\n",
              "      <th>Human Target</th>\n",
              "      <th>Human Width</th>\n",
              "      <th>Human Length</th>\n",
              "      <th>Human Area</th>\n",
              "      <th>Animal Taget</th>\n",
              "      <th>Animal Width</th>\n",
              "      <th>Animal Length</th>\n",
              "      <th>...</th>\n",
              "      <th>h_ymax</th>\n",
              "      <th>h_xmax</th>\n",
              "      <th>a_ymin</th>\n",
              "      <th>a_xmin</th>\n",
              "      <th>a_ymax</th>\n",
              "      <th>a_xmax</th>\n",
              "      <th>midx_h</th>\n",
              "      <th>midy_h</th>\n",
              "      <th>midx_a</th>\n",
              "      <th>midy_a</th>\n",
              "    </tr>\n",
              "  </thead>\n",
              "  <tbody>\n",
              "    <tr>\n",
              "      <th>0</th>\n",
              "      <td>0</td>\n",
              "      <td>Bpic5.jpg</td>\n",
              "      <td>221.594788</td>\n",
              "      <td>(24, 3, 1028, 972)</td>\n",
              "      <td>969</td>\n",
              "      <td>1004</td>\n",
              "      <td>972876</td>\n",
              "      <td>(170, 401, 753, 998)</td>\n",
              "      <td>597</td>\n",
              "      <td>583</td>\n",
              "      <td>...</td>\n",
              "      <td>1028</td>\n",
              "      <td>972</td>\n",
              "      <td>170</td>\n",
              "      <td>401</td>\n",
              "      <td>753</td>\n",
              "      <td>998</td>\n",
              "      <td>487.5</td>\n",
              "      <td>526.0</td>\n",
              "      <td>699.5</td>\n",
              "      <td>461.5</td>\n",
              "    </tr>\n",
              "    <tr>\n",
              "      <th>1</th>\n",
              "      <td>1</td>\n",
              "      <td>Bpic6.jpg</td>\n",
              "      <td>279.289277</td>\n",
              "      <td>(227, 174, 841, 585)</td>\n",
              "      <td>411</td>\n",
              "      <td>614</td>\n",
              "      <td>252354</td>\n",
              "      <td>(405, 498, 910, 762)</td>\n",
              "      <td>264</td>\n",
              "      <td>505</td>\n",
              "      <td>...</td>\n",
              "      <td>841</td>\n",
              "      <td>585</td>\n",
              "      <td>405</td>\n",
              "      <td>498</td>\n",
              "      <td>910</td>\n",
              "      <td>762</td>\n",
              "      <td>379.5</td>\n",
              "      <td>534.0</td>\n",
              "      <td>630.0</td>\n",
              "      <td>657.5</td>\n",
              "    </tr>\n",
              "    <tr>\n",
              "      <th>2</th>\n",
              "      <td>2</td>\n",
              "      <td>Bpic7.jpeg</td>\n",
              "      <td>407.217694</td>\n",
              "      <td>(113, 0, 1027, 610)</td>\n",
              "      <td>610</td>\n",
              "      <td>914</td>\n",
              "      <td>557540</td>\n",
              "      <td>(251, 437, 1025, 976)</td>\n",
              "      <td>539</td>\n",
              "      <td>774</td>\n",
              "      <td>...</td>\n",
              "      <td>1027</td>\n",
              "      <td>610</td>\n",
              "      <td>251</td>\n",
              "      <td>437</td>\n",
              "      <td>1025</td>\n",
              "      <td>976</td>\n",
              "      <td>305.0</td>\n",
              "      <td>570.0</td>\n",
              "      <td>706.5</td>\n",
              "      <td>638.0</td>\n",
              "    </tr>\n",
              "    <tr>\n",
              "      <th>3</th>\n",
              "      <td>3</td>\n",
              "      <td>c_photo2.jpg</td>\n",
              "      <td>321.840022</td>\n",
              "      <td>(155, 302, 477, 541)</td>\n",
              "      <td>239</td>\n",
              "      <td>322</td>\n",
              "      <td>76958</td>\n",
              "      <td>(225, 0, 1025, 1023)</td>\n",
              "      <td>1023</td>\n",
              "      <td>800</td>\n",
              "      <td>...</td>\n",
              "      <td>477</td>\n",
              "      <td>541</td>\n",
              "      <td>225</td>\n",
              "      <td>0</td>\n",
              "      <td>1025</td>\n",
              "      <td>1023</td>\n",
              "      <td>421.5</td>\n",
              "      <td>316.0</td>\n",
              "      <td>511.5</td>\n",
              "      <td>625.0</td>\n",
              "    </tr>\n",
              "    <tr>\n",
              "      <th>4</th>\n",
              "      <td>4</td>\n",
              "      <td>c_photo3.jpg</td>\n",
              "      <td>356.719778</td>\n",
              "      <td>(222, 528, 488, 630)</td>\n",
              "      <td>102</td>\n",
              "      <td>266</td>\n",
              "      <td>27132</td>\n",
              "      <td>(290, 516, 1020, 1028)</td>\n",
              "      <td>512</td>\n",
              "      <td>730</td>\n",
              "      <td>...</td>\n",
              "      <td>488</td>\n",
              "      <td>630</td>\n",
              "      <td>290</td>\n",
              "      <td>516</td>\n",
              "      <td>1020</td>\n",
              "      <td>1028</td>\n",
              "      <td>579.0</td>\n",
              "      <td>355.0</td>\n",
              "      <td>772.0</td>\n",
              "      <td>655.0</td>\n",
              "    </tr>\n",
              "  </tbody>\n",
              "</table>\n",
              "<p>5 rows × 25 columns</p>\n",
              "</div>\n",
              "      <button class=\"colab-df-convert\" onclick=\"convertToInteractive('df-45735370-158b-4c9a-861b-f1f245c1afdc')\"\n",
              "              title=\"Convert this dataframe to an interactive table.\"\n",
              "              style=\"display:none;\">\n",
              "        \n",
              "  <svg xmlns=\"http://www.w3.org/2000/svg\" height=\"24px\"viewBox=\"0 0 24 24\"\n",
              "       width=\"24px\">\n",
              "    <path d=\"M0 0h24v24H0V0z\" fill=\"none\"/>\n",
              "    <path d=\"M18.56 5.44l.94 2.06.94-2.06 2.06-.94-2.06-.94-.94-2.06-.94 2.06-2.06.94zm-11 1L8.5 8.5l.94-2.06 2.06-.94-2.06-.94L8.5 2.5l-.94 2.06-2.06.94zm10 10l.94 2.06.94-2.06 2.06-.94-2.06-.94-.94-2.06-.94 2.06-2.06.94z\"/><path d=\"M17.41 7.96l-1.37-1.37c-.4-.4-.92-.59-1.43-.59-.52 0-1.04.2-1.43.59L10.3 9.45l-7.72 7.72c-.78.78-.78 2.05 0 2.83L4 21.41c.39.39.9.59 1.41.59.51 0 1.02-.2 1.41-.59l7.78-7.78 2.81-2.81c.8-.78.8-2.07 0-2.86zM5.41 20L4 18.59l7.72-7.72 1.47 1.35L5.41 20z\"/>\n",
              "  </svg>\n",
              "      </button>\n",
              "      \n",
              "  <style>\n",
              "    .colab-df-container {\n",
              "      display:flex;\n",
              "      flex-wrap:wrap;\n",
              "      gap: 12px;\n",
              "    }\n",
              "\n",
              "    .colab-df-convert {\n",
              "      background-color: #E8F0FE;\n",
              "      border: none;\n",
              "      border-radius: 50%;\n",
              "      cursor: pointer;\n",
              "      display: none;\n",
              "      fill: #1967D2;\n",
              "      height: 32px;\n",
              "      padding: 0 0 0 0;\n",
              "      width: 32px;\n",
              "    }\n",
              "\n",
              "    .colab-df-convert:hover {\n",
              "      background-color: #E2EBFA;\n",
              "      box-shadow: 0px 1px 2px rgba(60, 64, 67, 0.3), 0px 1px 3px 1px rgba(60, 64, 67, 0.15);\n",
              "      fill: #174EA6;\n",
              "    }\n",
              "\n",
              "    [theme=dark] .colab-df-convert {\n",
              "      background-color: #3B4455;\n",
              "      fill: #D2E3FC;\n",
              "    }\n",
              "\n",
              "    [theme=dark] .colab-df-convert:hover {\n",
              "      background-color: #434B5C;\n",
              "      box-shadow: 0px 1px 3px 1px rgba(0, 0, 0, 0.15);\n",
              "      filter: drop-shadow(0px 1px 2px rgba(0, 0, 0, 0.3));\n",
              "      fill: #FFFFFF;\n",
              "    }\n",
              "  </style>\n",
              "\n",
              "      <script>\n",
              "        const buttonEl =\n",
              "          document.querySelector('#df-45735370-158b-4c9a-861b-f1f245c1afdc button.colab-df-convert');\n",
              "        buttonEl.style.display =\n",
              "          google.colab.kernel.accessAllowed ? 'block' : 'none';\n",
              "\n",
              "        async function convertToInteractive(key) {\n",
              "          const element = document.querySelector('#df-45735370-158b-4c9a-861b-f1f245c1afdc');\n",
              "          const dataTable =\n",
              "            await google.colab.kernel.invokeFunction('convertToInteractive',\n",
              "                                                     [key], {});\n",
              "          if (!dataTable) return;\n",
              "\n",
              "          const docLinkHtml = 'Like what you see? Visit the ' +\n",
              "            '<a target=\"_blank\" href=https://colab.research.google.com/notebooks/data_table.ipynb>data table notebook</a>'\n",
              "            + ' to learn more about interactive tables.';\n",
              "          element.innerHTML = '';\n",
              "          dataTable['output_type'] = 'display_data';\n",
              "          await google.colab.output.renderOutput(dataTable, element);\n",
              "          const docLink = document.createElement('div');\n",
              "          docLink.innerHTML = docLinkHtml;\n",
              "          element.appendChild(docLink);\n",
              "        }\n",
              "      </script>\n",
              "    </div>\n",
              "  </div>\n",
              "  "
            ]
          },
          "metadata": {},
          "execution_count": 10
        }
      ]
    },
    {
      "cell_type": "code",
      "source": [
        "training['x_dif'] = abs(training['midx_a'] - training['midx_h'])\n",
        "training['y_dif'] = abs(training['midy_a'] - training['midy_h'])\n",
        "training.head()"
      ],
      "metadata": {
        "colab": {
          "base_uri": "https://localhost:8080/",
          "height": 577
        },
        "id": "YPp4NAd0_UFg",
        "outputId": "aaf5a1cf-6a0f-43f7-f2f3-fd9928585805"
      },
      "execution_count": 11,
      "outputs": [
        {
          "output_type": "execute_result",
          "data": {
            "text/plain": [
              "   Unnamed: 0     File Name  Closest Distance          Human Target  \\\n",
              "0           0     Bpic5.jpg        221.594788    (24, 3, 1028, 972)   \n",
              "1           1     Bpic6.jpg        279.289277  (227, 174, 841, 585)   \n",
              "2           2    Bpic7.jpeg        407.217694   (113, 0, 1027, 610)   \n",
              "3           3  c_photo2.jpg        321.840022  (155, 302, 477, 541)   \n",
              "4           4  c_photo3.jpg        356.719778  (222, 528, 488, 630)   \n",
              "\n",
              "   Human Width  Human Length  Human Area            Animal Taget  \\\n",
              "0          969          1004      972876    (170, 401, 753, 998)   \n",
              "1          411           614      252354    (405, 498, 910, 762)   \n",
              "2          610           914      557540   (251, 437, 1025, 976)   \n",
              "3          239           322       76958    (225, 0, 1025, 1023)   \n",
              "4          102           266       27132  (290, 516, 1020, 1028)   \n",
              "\n",
              "   Animal Width  Animal Length  ...  a_ymin  a_xmin  a_ymax  a_xmax  midx_h  \\\n",
              "0           597            583  ...     170     401     753     998   487.5   \n",
              "1           264            505  ...     405     498     910     762   379.5   \n",
              "2           539            774  ...     251     437    1025     976   305.0   \n",
              "3          1023            800  ...     225       0    1025    1023   421.5   \n",
              "4           512            730  ...     290     516    1020    1028   579.0   \n",
              "\n",
              "   midy_h  midx_a  midy_a  x_dif  y_dif  \n",
              "0   526.0   699.5   461.5  212.0   64.5  \n",
              "1   534.0   630.0   657.5  250.5  123.5  \n",
              "2   570.0   706.5   638.0  401.5   68.0  \n",
              "3   316.0   511.5   625.0   90.0  309.0  \n",
              "4   355.0   772.0   655.0  193.0  300.0  \n",
              "\n",
              "[5 rows x 27 columns]"
            ],
            "text/html": [
              "\n",
              "  <div id=\"df-806f57f8-a3f8-4f93-8fde-effd3bf90291\">\n",
              "    <div class=\"colab-df-container\">\n",
              "      <div>\n",
              "<style scoped>\n",
              "    .dataframe tbody tr th:only-of-type {\n",
              "        vertical-align: middle;\n",
              "    }\n",
              "\n",
              "    .dataframe tbody tr th {\n",
              "        vertical-align: top;\n",
              "    }\n",
              "\n",
              "    .dataframe thead th {\n",
              "        text-align: right;\n",
              "    }\n",
              "</style>\n",
              "<table border=\"1\" class=\"dataframe\">\n",
              "  <thead>\n",
              "    <tr style=\"text-align: right;\">\n",
              "      <th></th>\n",
              "      <th>Unnamed: 0</th>\n",
              "      <th>File Name</th>\n",
              "      <th>Closest Distance</th>\n",
              "      <th>Human Target</th>\n",
              "      <th>Human Width</th>\n",
              "      <th>Human Length</th>\n",
              "      <th>Human Area</th>\n",
              "      <th>Animal Taget</th>\n",
              "      <th>Animal Width</th>\n",
              "      <th>Animal Length</th>\n",
              "      <th>...</th>\n",
              "      <th>a_ymin</th>\n",
              "      <th>a_xmin</th>\n",
              "      <th>a_ymax</th>\n",
              "      <th>a_xmax</th>\n",
              "      <th>midx_h</th>\n",
              "      <th>midy_h</th>\n",
              "      <th>midx_a</th>\n",
              "      <th>midy_a</th>\n",
              "      <th>x_dif</th>\n",
              "      <th>y_dif</th>\n",
              "    </tr>\n",
              "  </thead>\n",
              "  <tbody>\n",
              "    <tr>\n",
              "      <th>0</th>\n",
              "      <td>0</td>\n",
              "      <td>Bpic5.jpg</td>\n",
              "      <td>221.594788</td>\n",
              "      <td>(24, 3, 1028, 972)</td>\n",
              "      <td>969</td>\n",
              "      <td>1004</td>\n",
              "      <td>972876</td>\n",
              "      <td>(170, 401, 753, 998)</td>\n",
              "      <td>597</td>\n",
              "      <td>583</td>\n",
              "      <td>...</td>\n",
              "      <td>170</td>\n",
              "      <td>401</td>\n",
              "      <td>753</td>\n",
              "      <td>998</td>\n",
              "      <td>487.5</td>\n",
              "      <td>526.0</td>\n",
              "      <td>699.5</td>\n",
              "      <td>461.5</td>\n",
              "      <td>212.0</td>\n",
              "      <td>64.5</td>\n",
              "    </tr>\n",
              "    <tr>\n",
              "      <th>1</th>\n",
              "      <td>1</td>\n",
              "      <td>Bpic6.jpg</td>\n",
              "      <td>279.289277</td>\n",
              "      <td>(227, 174, 841, 585)</td>\n",
              "      <td>411</td>\n",
              "      <td>614</td>\n",
              "      <td>252354</td>\n",
              "      <td>(405, 498, 910, 762)</td>\n",
              "      <td>264</td>\n",
              "      <td>505</td>\n",
              "      <td>...</td>\n",
              "      <td>405</td>\n",
              "      <td>498</td>\n",
              "      <td>910</td>\n",
              "      <td>762</td>\n",
              "      <td>379.5</td>\n",
              "      <td>534.0</td>\n",
              "      <td>630.0</td>\n",
              "      <td>657.5</td>\n",
              "      <td>250.5</td>\n",
              "      <td>123.5</td>\n",
              "    </tr>\n",
              "    <tr>\n",
              "      <th>2</th>\n",
              "      <td>2</td>\n",
              "      <td>Bpic7.jpeg</td>\n",
              "      <td>407.217694</td>\n",
              "      <td>(113, 0, 1027, 610)</td>\n",
              "      <td>610</td>\n",
              "      <td>914</td>\n",
              "      <td>557540</td>\n",
              "      <td>(251, 437, 1025, 976)</td>\n",
              "      <td>539</td>\n",
              "      <td>774</td>\n",
              "      <td>...</td>\n",
              "      <td>251</td>\n",
              "      <td>437</td>\n",
              "      <td>1025</td>\n",
              "      <td>976</td>\n",
              "      <td>305.0</td>\n",
              "      <td>570.0</td>\n",
              "      <td>706.5</td>\n",
              "      <td>638.0</td>\n",
              "      <td>401.5</td>\n",
              "      <td>68.0</td>\n",
              "    </tr>\n",
              "    <tr>\n",
              "      <th>3</th>\n",
              "      <td>3</td>\n",
              "      <td>c_photo2.jpg</td>\n",
              "      <td>321.840022</td>\n",
              "      <td>(155, 302, 477, 541)</td>\n",
              "      <td>239</td>\n",
              "      <td>322</td>\n",
              "      <td>76958</td>\n",
              "      <td>(225, 0, 1025, 1023)</td>\n",
              "      <td>1023</td>\n",
              "      <td>800</td>\n",
              "      <td>...</td>\n",
              "      <td>225</td>\n",
              "      <td>0</td>\n",
              "      <td>1025</td>\n",
              "      <td>1023</td>\n",
              "      <td>421.5</td>\n",
              "      <td>316.0</td>\n",
              "      <td>511.5</td>\n",
              "      <td>625.0</td>\n",
              "      <td>90.0</td>\n",
              "      <td>309.0</td>\n",
              "    </tr>\n",
              "    <tr>\n",
              "      <th>4</th>\n",
              "      <td>4</td>\n",
              "      <td>c_photo3.jpg</td>\n",
              "      <td>356.719778</td>\n",
              "      <td>(222, 528, 488, 630)</td>\n",
              "      <td>102</td>\n",
              "      <td>266</td>\n",
              "      <td>27132</td>\n",
              "      <td>(290, 516, 1020, 1028)</td>\n",
              "      <td>512</td>\n",
              "      <td>730</td>\n",
              "      <td>...</td>\n",
              "      <td>290</td>\n",
              "      <td>516</td>\n",
              "      <td>1020</td>\n",
              "      <td>1028</td>\n",
              "      <td>579.0</td>\n",
              "      <td>355.0</td>\n",
              "      <td>772.0</td>\n",
              "      <td>655.0</td>\n",
              "      <td>193.0</td>\n",
              "      <td>300.0</td>\n",
              "    </tr>\n",
              "  </tbody>\n",
              "</table>\n",
              "<p>5 rows × 27 columns</p>\n",
              "</div>\n",
              "      <button class=\"colab-df-convert\" onclick=\"convertToInteractive('df-806f57f8-a3f8-4f93-8fde-effd3bf90291')\"\n",
              "              title=\"Convert this dataframe to an interactive table.\"\n",
              "              style=\"display:none;\">\n",
              "        \n",
              "  <svg xmlns=\"http://www.w3.org/2000/svg\" height=\"24px\"viewBox=\"0 0 24 24\"\n",
              "       width=\"24px\">\n",
              "    <path d=\"M0 0h24v24H0V0z\" fill=\"none\"/>\n",
              "    <path d=\"M18.56 5.44l.94 2.06.94-2.06 2.06-.94-2.06-.94-.94-2.06-.94 2.06-2.06.94zm-11 1L8.5 8.5l.94-2.06 2.06-.94-2.06-.94L8.5 2.5l-.94 2.06-2.06.94zm10 10l.94 2.06.94-2.06 2.06-.94-2.06-.94-.94-2.06-.94 2.06-2.06.94z\"/><path d=\"M17.41 7.96l-1.37-1.37c-.4-.4-.92-.59-1.43-.59-.52 0-1.04.2-1.43.59L10.3 9.45l-7.72 7.72c-.78.78-.78 2.05 0 2.83L4 21.41c.39.39.9.59 1.41.59.51 0 1.02-.2 1.41-.59l7.78-7.78 2.81-2.81c.8-.78.8-2.07 0-2.86zM5.41 20L4 18.59l7.72-7.72 1.47 1.35L5.41 20z\"/>\n",
              "  </svg>\n",
              "      </button>\n",
              "      \n",
              "  <style>\n",
              "    .colab-df-container {\n",
              "      display:flex;\n",
              "      flex-wrap:wrap;\n",
              "      gap: 12px;\n",
              "    }\n",
              "\n",
              "    .colab-df-convert {\n",
              "      background-color: #E8F0FE;\n",
              "      border: none;\n",
              "      border-radius: 50%;\n",
              "      cursor: pointer;\n",
              "      display: none;\n",
              "      fill: #1967D2;\n",
              "      height: 32px;\n",
              "      padding: 0 0 0 0;\n",
              "      width: 32px;\n",
              "    }\n",
              "\n",
              "    .colab-df-convert:hover {\n",
              "      background-color: #E2EBFA;\n",
              "      box-shadow: 0px 1px 2px rgba(60, 64, 67, 0.3), 0px 1px 3px 1px rgba(60, 64, 67, 0.15);\n",
              "      fill: #174EA6;\n",
              "    }\n",
              "\n",
              "    [theme=dark] .colab-df-convert {\n",
              "      background-color: #3B4455;\n",
              "      fill: #D2E3FC;\n",
              "    }\n",
              "\n",
              "    [theme=dark] .colab-df-convert:hover {\n",
              "      background-color: #434B5C;\n",
              "      box-shadow: 0px 1px 3px 1px rgba(0, 0, 0, 0.15);\n",
              "      filter: drop-shadow(0px 1px 2px rgba(0, 0, 0, 0.3));\n",
              "      fill: #FFFFFF;\n",
              "    }\n",
              "  </style>\n",
              "\n",
              "      <script>\n",
              "        const buttonEl =\n",
              "          document.querySelector('#df-806f57f8-a3f8-4f93-8fde-effd3bf90291 button.colab-df-convert');\n",
              "        buttonEl.style.display =\n",
              "          google.colab.kernel.accessAllowed ? 'block' : 'none';\n",
              "\n",
              "        async function convertToInteractive(key) {\n",
              "          const element = document.querySelector('#df-806f57f8-a3f8-4f93-8fde-effd3bf90291');\n",
              "          const dataTable =\n",
              "            await google.colab.kernel.invokeFunction('convertToInteractive',\n",
              "                                                     [key], {});\n",
              "          if (!dataTable) return;\n",
              "\n",
              "          const docLinkHtml = 'Like what you see? Visit the ' +\n",
              "            '<a target=\"_blank\" href=https://colab.research.google.com/notebooks/data_table.ipynb>data table notebook</a>'\n",
              "            + ' to learn more about interactive tables.';\n",
              "          element.innerHTML = '';\n",
              "          dataTable['output_type'] = 'display_data';\n",
              "          await google.colab.output.renderOutput(dataTable, element);\n",
              "          const docLink = document.createElement('div');\n",
              "          docLink.innerHTML = docLinkHtml;\n",
              "          element.appendChild(docLink);\n",
              "        }\n",
              "      </script>\n",
              "    </div>\n",
              "  </div>\n",
              "  "
            ]
          },
          "metadata": {},
          "execution_count": 11
        }
      ]
    },
    {
      "cell_type": "code",
      "source": [
        "training.columns"
      ],
      "metadata": {
        "colab": {
          "base_uri": "https://localhost:8080/"
        },
        "id": "UiGgvuHzA1dw",
        "outputId": "192990ca-71de-4ad8-d20b-669ff6f24ad2"
      },
      "execution_count": 12,
      "outputs": [
        {
          "output_type": "execute_result",
          "data": {
            "text/plain": [
              "Index(['Unnamed: 0', 'File Name', 'Closest Distance', 'Human Target',\n",
              "       'Human Width', 'Human Length', 'Human Area', 'Animal Taget',\n",
              "       'Animal Width', 'Animal Length', 'Animal Area', 'Area Ratio', 'Label',\n",
              "       'h_ymin', 'h_xmin', 'h_ymax', 'h_xmax', 'a_ymin', 'a_xmin', 'a_ymax',\n",
              "       'a_xmax', 'midx_h', 'midy_h', 'midx_a', 'midy_a', 'x_dif', 'y_dif'],\n",
              "      dtype='object')"
            ]
          },
          "metadata": {},
          "execution_count": 12
        }
      ]
    },
    {
      "cell_type": "code",
      "source": [
        "training_selection = training.drop(['Unnamed: 0', 'File Name', 'Human Target', 'Animal Taget', 'Label'], axis=1)\n",
        "training_label = training['Label']\n",
        "training_selection.head()"
      ],
      "metadata": {
        "colab": {
          "base_uri": "https://localhost:8080/",
          "height": 317
        },
        "id": "ITGXtFfXAwY2",
        "outputId": "34f4bb3b-ec39-422e-f608-772e5cc31cad"
      },
      "execution_count": 13,
      "outputs": [
        {
          "output_type": "execute_result",
          "data": {
            "text/plain": [
              "   Closest Distance  Human Width  Human Length  Human Area  Animal Width  \\\n",
              "0        221.594788          969          1004      972876           597   \n",
              "1        279.289277          411           614      252354           264   \n",
              "2        407.217694          610           914      557540           539   \n",
              "3        321.840022          239           322       76958          1023   \n",
              "4        356.719778          102           266       27132           512   \n",
              "\n",
              "   Animal Length  Animal Area  Area Ratio  h_ymin  h_xmin  ...  a_ymin  \\\n",
              "0            583       348051    2.795211      24       3  ...     170   \n",
              "1            505       133320    1.892844     227     174  ...     405   \n",
              "2            774       417186    1.336430     113       0  ...     251   \n",
              "3            800       818400   10.634372     155     302  ...     225   \n",
              "4            730       373760   13.775616     222     528  ...     290   \n",
              "\n",
              "   a_xmin  a_ymax  a_xmax  midx_h  midy_h  midx_a  midy_a  x_dif  y_dif  \n",
              "0     401     753     998   487.5   526.0   699.5   461.5  212.0   64.5  \n",
              "1     498     910     762   379.5   534.0   630.0   657.5  250.5  123.5  \n",
              "2     437    1025     976   305.0   570.0   706.5   638.0  401.5   68.0  \n",
              "3       0    1025    1023   421.5   316.0   511.5   625.0   90.0  309.0  \n",
              "4     516    1020    1028   579.0   355.0   772.0   655.0  193.0  300.0  \n",
              "\n",
              "[5 rows x 22 columns]"
            ],
            "text/html": [
              "\n",
              "  <div id=\"df-5ec29fdc-1302-44e7-85ae-dc844f97fe9f\">\n",
              "    <div class=\"colab-df-container\">\n",
              "      <div>\n",
              "<style scoped>\n",
              "    .dataframe tbody tr th:only-of-type {\n",
              "        vertical-align: middle;\n",
              "    }\n",
              "\n",
              "    .dataframe tbody tr th {\n",
              "        vertical-align: top;\n",
              "    }\n",
              "\n",
              "    .dataframe thead th {\n",
              "        text-align: right;\n",
              "    }\n",
              "</style>\n",
              "<table border=\"1\" class=\"dataframe\">\n",
              "  <thead>\n",
              "    <tr style=\"text-align: right;\">\n",
              "      <th></th>\n",
              "      <th>Closest Distance</th>\n",
              "      <th>Human Width</th>\n",
              "      <th>Human Length</th>\n",
              "      <th>Human Area</th>\n",
              "      <th>Animal Width</th>\n",
              "      <th>Animal Length</th>\n",
              "      <th>Animal Area</th>\n",
              "      <th>Area Ratio</th>\n",
              "      <th>h_ymin</th>\n",
              "      <th>h_xmin</th>\n",
              "      <th>...</th>\n",
              "      <th>a_ymin</th>\n",
              "      <th>a_xmin</th>\n",
              "      <th>a_ymax</th>\n",
              "      <th>a_xmax</th>\n",
              "      <th>midx_h</th>\n",
              "      <th>midy_h</th>\n",
              "      <th>midx_a</th>\n",
              "      <th>midy_a</th>\n",
              "      <th>x_dif</th>\n",
              "      <th>y_dif</th>\n",
              "    </tr>\n",
              "  </thead>\n",
              "  <tbody>\n",
              "    <tr>\n",
              "      <th>0</th>\n",
              "      <td>221.594788</td>\n",
              "      <td>969</td>\n",
              "      <td>1004</td>\n",
              "      <td>972876</td>\n",
              "      <td>597</td>\n",
              "      <td>583</td>\n",
              "      <td>348051</td>\n",
              "      <td>2.795211</td>\n",
              "      <td>24</td>\n",
              "      <td>3</td>\n",
              "      <td>...</td>\n",
              "      <td>170</td>\n",
              "      <td>401</td>\n",
              "      <td>753</td>\n",
              "      <td>998</td>\n",
              "      <td>487.5</td>\n",
              "      <td>526.0</td>\n",
              "      <td>699.5</td>\n",
              "      <td>461.5</td>\n",
              "      <td>212.0</td>\n",
              "      <td>64.5</td>\n",
              "    </tr>\n",
              "    <tr>\n",
              "      <th>1</th>\n",
              "      <td>279.289277</td>\n",
              "      <td>411</td>\n",
              "      <td>614</td>\n",
              "      <td>252354</td>\n",
              "      <td>264</td>\n",
              "      <td>505</td>\n",
              "      <td>133320</td>\n",
              "      <td>1.892844</td>\n",
              "      <td>227</td>\n",
              "      <td>174</td>\n",
              "      <td>...</td>\n",
              "      <td>405</td>\n",
              "      <td>498</td>\n",
              "      <td>910</td>\n",
              "      <td>762</td>\n",
              "      <td>379.5</td>\n",
              "      <td>534.0</td>\n",
              "      <td>630.0</td>\n",
              "      <td>657.5</td>\n",
              "      <td>250.5</td>\n",
              "      <td>123.5</td>\n",
              "    </tr>\n",
              "    <tr>\n",
              "      <th>2</th>\n",
              "      <td>407.217694</td>\n",
              "      <td>610</td>\n",
              "      <td>914</td>\n",
              "      <td>557540</td>\n",
              "      <td>539</td>\n",
              "      <td>774</td>\n",
              "      <td>417186</td>\n",
              "      <td>1.336430</td>\n",
              "      <td>113</td>\n",
              "      <td>0</td>\n",
              "      <td>...</td>\n",
              "      <td>251</td>\n",
              "      <td>437</td>\n",
              "      <td>1025</td>\n",
              "      <td>976</td>\n",
              "      <td>305.0</td>\n",
              "      <td>570.0</td>\n",
              "      <td>706.5</td>\n",
              "      <td>638.0</td>\n",
              "      <td>401.5</td>\n",
              "      <td>68.0</td>\n",
              "    </tr>\n",
              "    <tr>\n",
              "      <th>3</th>\n",
              "      <td>321.840022</td>\n",
              "      <td>239</td>\n",
              "      <td>322</td>\n",
              "      <td>76958</td>\n",
              "      <td>1023</td>\n",
              "      <td>800</td>\n",
              "      <td>818400</td>\n",
              "      <td>10.634372</td>\n",
              "      <td>155</td>\n",
              "      <td>302</td>\n",
              "      <td>...</td>\n",
              "      <td>225</td>\n",
              "      <td>0</td>\n",
              "      <td>1025</td>\n",
              "      <td>1023</td>\n",
              "      <td>421.5</td>\n",
              "      <td>316.0</td>\n",
              "      <td>511.5</td>\n",
              "      <td>625.0</td>\n",
              "      <td>90.0</td>\n",
              "      <td>309.0</td>\n",
              "    </tr>\n",
              "    <tr>\n",
              "      <th>4</th>\n",
              "      <td>356.719778</td>\n",
              "      <td>102</td>\n",
              "      <td>266</td>\n",
              "      <td>27132</td>\n",
              "      <td>512</td>\n",
              "      <td>730</td>\n",
              "      <td>373760</td>\n",
              "      <td>13.775616</td>\n",
              "      <td>222</td>\n",
              "      <td>528</td>\n",
              "      <td>...</td>\n",
              "      <td>290</td>\n",
              "      <td>516</td>\n",
              "      <td>1020</td>\n",
              "      <td>1028</td>\n",
              "      <td>579.0</td>\n",
              "      <td>355.0</td>\n",
              "      <td>772.0</td>\n",
              "      <td>655.0</td>\n",
              "      <td>193.0</td>\n",
              "      <td>300.0</td>\n",
              "    </tr>\n",
              "  </tbody>\n",
              "</table>\n",
              "<p>5 rows × 22 columns</p>\n",
              "</div>\n",
              "      <button class=\"colab-df-convert\" onclick=\"convertToInteractive('df-5ec29fdc-1302-44e7-85ae-dc844f97fe9f')\"\n",
              "              title=\"Convert this dataframe to an interactive table.\"\n",
              "              style=\"display:none;\">\n",
              "        \n",
              "  <svg xmlns=\"http://www.w3.org/2000/svg\" height=\"24px\"viewBox=\"0 0 24 24\"\n",
              "       width=\"24px\">\n",
              "    <path d=\"M0 0h24v24H0V0z\" fill=\"none\"/>\n",
              "    <path d=\"M18.56 5.44l.94 2.06.94-2.06 2.06-.94-2.06-.94-.94-2.06-.94 2.06-2.06.94zm-11 1L8.5 8.5l.94-2.06 2.06-.94-2.06-.94L8.5 2.5l-.94 2.06-2.06.94zm10 10l.94 2.06.94-2.06 2.06-.94-2.06-.94-.94-2.06-.94 2.06-2.06.94z\"/><path d=\"M17.41 7.96l-1.37-1.37c-.4-.4-.92-.59-1.43-.59-.52 0-1.04.2-1.43.59L10.3 9.45l-7.72 7.72c-.78.78-.78 2.05 0 2.83L4 21.41c.39.39.9.59 1.41.59.51 0 1.02-.2 1.41-.59l7.78-7.78 2.81-2.81c.8-.78.8-2.07 0-2.86zM5.41 20L4 18.59l7.72-7.72 1.47 1.35L5.41 20z\"/>\n",
              "  </svg>\n",
              "      </button>\n",
              "      \n",
              "  <style>\n",
              "    .colab-df-container {\n",
              "      display:flex;\n",
              "      flex-wrap:wrap;\n",
              "      gap: 12px;\n",
              "    }\n",
              "\n",
              "    .colab-df-convert {\n",
              "      background-color: #E8F0FE;\n",
              "      border: none;\n",
              "      border-radius: 50%;\n",
              "      cursor: pointer;\n",
              "      display: none;\n",
              "      fill: #1967D2;\n",
              "      height: 32px;\n",
              "      padding: 0 0 0 0;\n",
              "      width: 32px;\n",
              "    }\n",
              "\n",
              "    .colab-df-convert:hover {\n",
              "      background-color: #E2EBFA;\n",
              "      box-shadow: 0px 1px 2px rgba(60, 64, 67, 0.3), 0px 1px 3px 1px rgba(60, 64, 67, 0.15);\n",
              "      fill: #174EA6;\n",
              "    }\n",
              "\n",
              "    [theme=dark] .colab-df-convert {\n",
              "      background-color: #3B4455;\n",
              "      fill: #D2E3FC;\n",
              "    }\n",
              "\n",
              "    [theme=dark] .colab-df-convert:hover {\n",
              "      background-color: #434B5C;\n",
              "      box-shadow: 0px 1px 3px 1px rgba(0, 0, 0, 0.15);\n",
              "      filter: drop-shadow(0px 1px 2px rgba(0, 0, 0, 0.3));\n",
              "      fill: #FFFFFF;\n",
              "    }\n",
              "  </style>\n",
              "\n",
              "      <script>\n",
              "        const buttonEl =\n",
              "          document.querySelector('#df-5ec29fdc-1302-44e7-85ae-dc844f97fe9f button.colab-df-convert');\n",
              "        buttonEl.style.display =\n",
              "          google.colab.kernel.accessAllowed ? 'block' : 'none';\n",
              "\n",
              "        async function convertToInteractive(key) {\n",
              "          const element = document.querySelector('#df-5ec29fdc-1302-44e7-85ae-dc844f97fe9f');\n",
              "          const dataTable =\n",
              "            await google.colab.kernel.invokeFunction('convertToInteractive',\n",
              "                                                     [key], {});\n",
              "          if (!dataTable) return;\n",
              "\n",
              "          const docLinkHtml = 'Like what you see? Visit the ' +\n",
              "            '<a target=\"_blank\" href=https://colab.research.google.com/notebooks/data_table.ipynb>data table notebook</a>'\n",
              "            + ' to learn more about interactive tables.';\n",
              "          element.innerHTML = '';\n",
              "          dataTable['output_type'] = 'display_data';\n",
              "          await google.colab.output.renderOutput(dataTable, element);\n",
              "          const docLink = document.createElement('div');\n",
              "          docLink.innerHTML = docLinkHtml;\n",
              "          element.appendChild(docLink);\n",
              "        }\n",
              "      </script>\n",
              "    </div>\n",
              "  </div>\n",
              "  "
            ]
          },
          "metadata": {},
          "execution_count": 13
        }
      ]
    },
    {
      "cell_type": "code",
      "source": [
        "from sklearn.feature_selection import RFE\n",
        "from sklearn.tree import DecisionTreeRegressor"
      ],
      "metadata": {
        "id": "wRra6mkaBUW2"
      },
      "execution_count": 14,
      "outputs": []
    },
    {
      "cell_type": "code",
      "source": [
        "print(training_selection.shape)\n",
        "print(training_label.shape)"
      ],
      "metadata": {
        "colab": {
          "base_uri": "https://localhost:8080/"
        },
        "id": "nCYoKasFCRoS",
        "outputId": "529d085f-aa3c-4604-de22-c7cab861ab0c"
      },
      "execution_count": 15,
      "outputs": [
        {
          "output_type": "stream",
          "name": "stdout",
          "text": [
            "(230, 22)\n",
            "(230,)\n"
          ]
        }
      ]
    },
    {
      "cell_type": "code",
      "source": [
        "model = DecisionTreeRegressor()\n",
        "rfe = RFE(model, n_features_to_select=7)\n",
        "rfe.fit(training_selection, training_label)\n",
        "print(\"Num Features: %s\" % (rfe.n_features_))\n",
        "print(\"Selected Features: %s\" % (rfe.support_))\n",
        "print(\"Feature Ranking: %s\" % (rfe.ranking_))"
      ],
      "metadata": {
        "colab": {
          "base_uri": "https://localhost:8080/"
        },
        "id": "bISat-0rBaWc",
        "outputId": "d850ac5c-110d-4284-f9ff-5bc32c825e01"
      },
      "execution_count": 16,
      "outputs": [
        {
          "output_type": "stream",
          "name": "stdout",
          "text": [
            "Num Features: 7\n",
            "Selected Features: [False False  True  True False False  True False False False False False\n",
            "  True False False  True False False False  True  True False]\n",
            "Feature Ranking: [ 3  5  1  1 12 10  1  9 15 14  2 13  1  4  7  1  8  6 11  1  1 16]\n"
          ]
        }
      ]
    },
    {
      "cell_type": "code",
      "source": [
        "result = [list(training_selection.columns)[x] for x in range(len(list(training_selection.columns))) if rfe.support_[x] == True in rfe.support_]\n",
        "result"
      ],
      "metadata": {
        "colab": {
          "base_uri": "https://localhost:8080/"
        },
        "id": "Pk97USNxEEVE",
        "outputId": "d4b44da9-f652-4cf3-9512-c3bb64edccff"
      },
      "execution_count": 17,
      "outputs": [
        {
          "output_type": "execute_result",
          "data": {
            "text/plain": [
              "['Human Length',\n",
              " 'Human Area',\n",
              " 'Animal Area',\n",
              " 'a_ymin',\n",
              " 'a_xmax',\n",
              " 'midy_a',\n",
              " 'x_dif']"
            ]
          },
          "metadata": {},
          "execution_count": 17
        }
      ]
    },
    {
      "cell_type": "markdown",
      "source": [
        "### Process the data table in order to use the selected features"
      ],
      "metadata": {
        "id": "UW0yGf7pE6Uq"
      }
    },
    {
      "cell_type": "code",
      "source": [
        "def process_attributes(image_feature):\n",
        "  h_ymin = []\n",
        "  h_xmin = []\n",
        "  h_ymax = [] \n",
        "  h_xmax = []\n",
        "  for i in image_feature['Human Target']:\n",
        "    goal = i[1:-1].split(\",\")\n",
        "    h_ymin.append(int(goal[0]))\n",
        "    h_xmin.append(int(goal[1]))\n",
        "    h_ymax.append(int(goal[2]))\n",
        "    h_xmax.append(int(goal[-1]))\n",
        "\n",
        "  image_feature['h_ymin'] = h_ymin\n",
        "  image_feature['h_xmin'] = h_xmin\n",
        "  image_feature['h_ymax'] = h_ymax\n",
        "  image_feature['h_xmax'] = h_xmax\n",
        "\n",
        "  a_ymin = []\n",
        "  a_xmin = []\n",
        "  a_ymax = [] \n",
        "  a_xmax = []\n",
        "  for i in image_feature['Animal Taget']:\n",
        "    goal = i[1:-1].split(\",\")\n",
        "    a_ymin.append(int(goal[0]))\n",
        "    a_xmin.append(int(goal[1]))\n",
        "    a_ymax.append(int(goal[2]))\n",
        "    a_xmax.append(int(goal[-1]))\n",
        "\n",
        "  image_feature['a_ymin'] = a_ymin\n",
        "  image_feature['a_xmin'] = a_xmin\n",
        "  image_feature['a_ymax'] = a_ymax\n",
        "  image_feature['a_xmax'] = a_xmax\n",
        "\n",
        "  image_feature['midx_h'] = (image_feature['h_xmin'] + image_feature['h_xmax'])/2\n",
        "  image_feature['midy_h'] = (image_feature['h_ymin'] + image_feature['h_ymax'])/2\n",
        "  image_feature['midx_a'] = (image_feature['a_xmin'] + image_feature['a_xmax'])/2\n",
        "  image_feature['midy_a'] = (image_feature['a_ymin'] + image_feature['a_ymax'])/2\n",
        "\n",
        "  image_feature['x_dif'] = abs(image_feature['midx_a'] - image_feature['midx_h'])\n",
        "  image_feature['y_dif'] = abs(image_feature['midy_a'] - image_feature['midy_h'])\n",
        "\n",
        "  cols = result\n",
        "  image_feature = image_feature[cols]\n",
        "  scaler = MinMaxScaler()\n",
        "  image_feature = scaler.fit_transform(image_feature)\n",
        "\n",
        "  return image_feature"
      ],
      "metadata": {
        "id": "KlwkZcrv-OXj"
      },
      "execution_count": 18,
      "outputs": []
    },
    {
      "cell_type": "code",
      "source": [
        "# Use to train tabular data\n",
        "def create_mlp(dim, classify=False):\n",
        "\t# define our MLP network\n",
        "\tmodel = Sequential()\n",
        "\tmodel.add(Dense(16, input_dim=dim, activation=\"relu\"))\n",
        "\tmodel.add(Dense(8, activation=\"relu\"))\n",
        "\n",
        "\t# check to see if the regression node should be added\n",
        "\tif classify:\n",
        "\t\tmodel.add(Dense(1, activation='sigmoid'))\n",
        "\n",
        "\t# return our model\n",
        "\treturn model"
      ],
      "metadata": {
        "id": "JoI9XDyk-ti5"
      },
      "execution_count": 19,
      "outputs": []
    },
    {
      "cell_type": "code",
      "source": [
        "from keras.applications.inception_v3 import InceptionV3\n",
        "from tensorflow.keras.optimizers import RMSprop\n",
        "from tensorflow.keras.optimizers import SGD\n",
        "from keras.models import Model"
      ],
      "metadata": {
        "id": "4JfJDuI6BiuW"
      },
      "execution_count": 20,
      "outputs": []
    },
    {
      "cell_type": "code",
      "source": [
        "def create_inc(height, width, depth, classify = False):\n",
        "  inc_model = InceptionV3(input_shape = (height, width, depth), \n",
        "                                weights='imagenet',\n",
        "                                include_top = False)\n",
        "  for layer in inc_model.layers:\n",
        "    layer.trainable = False\n",
        "  x = tf.keras.layers.Flatten()(inc_model.output)\n",
        "  x = tf.keras.layers.Dense(32, activation='relu')(x)\n",
        "  x = tf.keras.layers.Dense(8, activation='relu')(x)\n",
        "  if classify:\n",
        "    x = tf.keras.layers.Dense(1, activation='sigmoid')(x)\n",
        "  model = Model(inputs = inc_model.input, outputs = x)\n",
        "  return model"
      ],
      "metadata": {
        "id": "GqgvQq4z_KJa"
      },
      "execution_count": 21,
      "outputs": []
    },
    {
      "cell_type": "code",
      "source": [
        "def load_images(image_features, inputpath):\n",
        "  images_output = []\n",
        "  for i in image_features['File Name']:\n",
        "    image_path = os.path.join(inputpath, i)\n",
        "    image = cv2.imread(image_path)\n",
        "    image = cv2.resize(image, (200, 200))\n",
        "    images_output.append(np.array(image))\n",
        "    # print(images_output)\n",
        "  # images_output = np.array(images_output) / 255\n",
        "  # images_output.reshape(-1, 200, 200, 3)\n",
        "  return images_output"
      ],
      "metadata": {
        "id": "Wk4PfGcQ9A1p"
      },
      "execution_count": 22,
      "outputs": []
    },
    {
      "cell_type": "code",
      "source": [
        "def model_ready(images_output):\n",
        "  images_output = np.array(images_output) / 255\n",
        "  images_output.reshape(-1, 200, 200, 3)\n",
        "  return images_output"
      ],
      "metadata": {
        "id": "NCvYaqYZKYRU"
      },
      "execution_count": 23,
      "outputs": []
    },
    {
      "cell_type": "markdown",
      "source": [
        "### Organize the table for training, validation, testing classes"
      ],
      "metadata": {
        "id": "dT8Vll8YTf6U"
      }
    },
    {
      "cell_type": "code",
      "source": [
        "training_vio = pd.read_csv('/content/gdrive/MyDrive/Multi_input_data/Violation-training.csv')\n",
        "training_vio.shape"
      ],
      "metadata": {
        "colab": {
          "base_uri": "https://localhost:8080/"
        },
        "id": "6WNIGlc2Tbfg",
        "outputId": "eb023ece-c2ab-4c0f-bee1-70c54157bfaf"
      },
      "execution_count": 24,
      "outputs": [
        {
          "output_type": "execute_result",
          "data": {
            "text/plain": [
              "(110, 13)"
            ]
          },
          "metadata": {},
          "execution_count": 24
        }
      ]
    },
    {
      "cell_type": "code",
      "source": [
        "training_non = pd.read_csv('/content/gdrive/MyDrive/Multi_input_data/Non-violation-training.csv')\n",
        "training_non.shape"
      ],
      "metadata": {
        "colab": {
          "base_uri": "https://localhost:8080/"
        },
        "id": "cbqsHCXmTy35",
        "outputId": "6a96bc00-929a-40bc-fe6b-fa5e4ecd2c2f"
      },
      "execution_count": 25,
      "outputs": [
        {
          "output_type": "execute_result",
          "data": {
            "text/plain": [
              "(100, 13)"
            ]
          },
          "metadata": {},
          "execution_count": 25
        }
      ]
    },
    {
      "cell_type": "code",
      "source": [
        "training = pd.concat([training_vio, training_non, human_vio_training, human_non_training], ignore_index=True)\n",
        "training.shape"
      ],
      "metadata": {
        "colab": {
          "base_uri": "https://localhost:8080/"
        },
        "id": "-nYoURP7T4H2",
        "outputId": "1efafb2c-ecc2-4a94-9c69-cb8e7965c064"
      },
      "execution_count": 26,
      "outputs": [
        {
          "output_type": "execute_result",
          "data": {
            "text/plain": [
              "(230, 13)"
            ]
          },
          "metadata": {},
          "execution_count": 26
        }
      ]
    },
    {
      "cell_type": "code",
      "source": [
        "training_features = process_attributes(training)\n",
        "training_features.shape"
      ],
      "metadata": {
        "id": "tZCvj3iFUIk-",
        "colab": {
          "base_uri": "https://localhost:8080/"
        },
        "outputId": "9cca265a-372d-418a-c79b-b5d016b53466"
      },
      "execution_count": 27,
      "outputs": [
        {
          "output_type": "execute_result",
          "data": {
            "text/plain": [
              "(230, 7)"
            ]
          },
          "metadata": {},
          "execution_count": 27
        }
      ]
    },
    {
      "cell_type": "code",
      "source": [
        "training_Y = training['Label']\n",
        "training_Y"
      ],
      "metadata": {
        "colab": {
          "base_uri": "https://localhost:8080/"
        },
        "id": "eDPwNttPLMMk",
        "outputId": "77966706-1b2b-4b0c-a8ab-532a3a1bfa74"
      },
      "execution_count": 28,
      "outputs": [
        {
          "output_type": "execute_result",
          "data": {
            "text/plain": [
              "0      1\n",
              "1      1\n",
              "2      1\n",
              "3      1\n",
              "4      1\n",
              "      ..\n",
              "225    0\n",
              "226    0\n",
              "227    0\n",
              "228    0\n",
              "229    0\n",
              "Name: Label, Length: 230, dtype: int64"
            ]
          },
          "metadata": {},
          "execution_count": 28
        }
      ]
    },
    {
      "cell_type": "code",
      "source": [
        "validation_vio = pd.read_csv('/content/gdrive/MyDrive/Multi_input_data/Violation-validation.csv')\n",
        "validation_vio.shape"
      ],
      "metadata": {
        "colab": {
          "base_uri": "https://localhost:8080/"
        },
        "id": "OOKZmjn7Ue34",
        "outputId": "38418898-e49b-4cfc-cf94-fccb54bbb605"
      },
      "execution_count": 29,
      "outputs": [
        {
          "output_type": "execute_result",
          "data": {
            "text/plain": [
              "(28, 13)"
            ]
          },
          "metadata": {},
          "execution_count": 29
        }
      ]
    },
    {
      "cell_type": "code",
      "source": [
        "validation_non = pd.read_csv('/content/gdrive/MyDrive/Multi_input_data/Non-violation-validation.csv')\n",
        "validation_non.shape"
      ],
      "metadata": {
        "colab": {
          "base_uri": "https://localhost:8080/"
        },
        "id": "84gWSifZUsOM",
        "outputId": "c3cc6741-0241-4ea6-a10c-7897f9595cfb"
      },
      "execution_count": 30,
      "outputs": [
        {
          "output_type": "execute_result",
          "data": {
            "text/plain": [
              "(25, 13)"
            ]
          },
          "metadata": {},
          "execution_count": 30
        }
      ]
    },
    {
      "cell_type": "code",
      "source": [
        "validation = pd.concat([validation_vio, validation_non, human_vio_val, human_non_val], ignore_index=True)\n",
        "validation.shape"
      ],
      "metadata": {
        "colab": {
          "base_uri": "https://localhost:8080/"
        },
        "id": "8oGjdtrVUyh7",
        "outputId": "e64d10bf-9016-40ad-ecbd-888d4fdd4c49"
      },
      "execution_count": 31,
      "outputs": [
        {
          "output_type": "execute_result",
          "data": {
            "text/plain": [
              "(73, 13)"
            ]
          },
          "metadata": {},
          "execution_count": 31
        }
      ]
    },
    {
      "cell_type": "code",
      "source": [
        "validation_features = process_attributes(validation)\n",
        "validation_features.shape"
      ],
      "metadata": {
        "id": "j4ftGIKQKNs-",
        "colab": {
          "base_uri": "https://localhost:8080/"
        },
        "outputId": "5bf60dfa-f0d6-403b-b1b2-4f8baf203eee"
      },
      "execution_count": 32,
      "outputs": [
        {
          "output_type": "execute_result",
          "data": {
            "text/plain": [
              "(73, 7)"
            ]
          },
          "metadata": {},
          "execution_count": 32
        }
      ]
    },
    {
      "cell_type": "code",
      "source": [
        "validation_Y = validation['Label']\n",
        "# validation_Y"
      ],
      "metadata": {
        "id": "LIr6Q4XbLSLz"
      },
      "execution_count": 33,
      "outputs": []
    },
    {
      "cell_type": "code",
      "source": [
        "testing_vio = pd.read_csv('/content/gdrive/MyDrive/Multi_input_data/Violation-testing.csv')\n",
        "testing_vio.shape"
      ],
      "metadata": {
        "colab": {
          "base_uri": "https://localhost:8080/"
        },
        "id": "0hBxohScVFRR",
        "outputId": "9b6eeade-4554-4304-af6f-abec73249ad5"
      },
      "execution_count": 34,
      "outputs": [
        {
          "output_type": "execute_result",
          "data": {
            "text/plain": [
              "(22, 13)"
            ]
          },
          "metadata": {},
          "execution_count": 34
        }
      ]
    },
    {
      "cell_type": "code",
      "source": [
        "testing_non = pd.read_csv('/content/gdrive/MyDrive/Multi_input_data/Non-violation-testing.csv')\n",
        "testing_non.shape"
      ],
      "metadata": {
        "colab": {
          "base_uri": "https://localhost:8080/"
        },
        "id": "0tbgtqlVVMQp",
        "outputId": "103ef21d-0ee3-48c5-abbb-0e3e75eeb97c"
      },
      "execution_count": 35,
      "outputs": [
        {
          "output_type": "execute_result",
          "data": {
            "text/plain": [
              "(11, 13)"
            ]
          },
          "metadata": {},
          "execution_count": 35
        }
      ]
    },
    {
      "cell_type": "code",
      "source": [
        "testing = pd.concat([testing_vio, testing_non, human_vio_test, human_non_test], ignore_index=True)\n",
        "testing.shape"
      ],
      "metadata": {
        "colab": {
          "base_uri": "https://localhost:8080/"
        },
        "id": "sfsNhFEBVRL5",
        "outputId": "0e7ae4ce-2fa5-4789-a469-f6fabf431090"
      },
      "execution_count": 36,
      "outputs": [
        {
          "output_type": "execute_result",
          "data": {
            "text/plain": [
              "(49, 13)"
            ]
          },
          "metadata": {},
          "execution_count": 36
        }
      ]
    },
    {
      "cell_type": "code",
      "source": [
        "testing_features = process_attributes(testing)\n",
        "testing_features.shape"
      ],
      "metadata": {
        "id": "wDNEe99iVZHG",
        "colab": {
          "base_uri": "https://localhost:8080/"
        },
        "outputId": "4c805581-0547-4396-eb00-d3e231c37538"
      },
      "execution_count": 37,
      "outputs": [
        {
          "output_type": "execute_result",
          "data": {
            "text/plain": [
              "(49, 7)"
            ]
          },
          "metadata": {},
          "execution_count": 37
        }
      ]
    },
    {
      "cell_type": "code",
      "source": [
        "actual_Y = testing['Label']\n",
        "# actual_Y"
      ],
      "metadata": {
        "id": "2ndqg1v_VfLB"
      },
      "execution_count": 38,
      "outputs": []
    },
    {
      "cell_type": "markdown",
      "source": [
        "### Organize the images for traing, validation, testing classes"
      ],
      "metadata": {
        "id": "KLiUuAdWVm5C"
      }
    },
    {
      "cell_type": "code",
      "source": [
        "training_images_vio = load_images(training_vio, '/content/gdrive/MyDrive/Multi_input_data/Violation-training-detected')"
      ],
      "metadata": {
        "id": "e2GE5teLVrtQ"
      },
      "execution_count": 39,
      "outputs": []
    },
    {
      "cell_type": "code",
      "source": [
        "training_images_non = load_images(training_non, '/content/gdrive/MyDrive/Multi_input_data/Non-violation-training-detected')"
      ],
      "metadata": {
        "id": "uwMQ3HOFWTX5"
      },
      "execution_count": 40,
      "outputs": []
    },
    {
      "cell_type": "code",
      "source": [
        "human_image_vio_training = load_images(human_vio_training, '/content/gdrive/MyDrive/human-human-raw/Violation_detected')"
      ],
      "metadata": {
        "id": "d0SCcK_jUfLP"
      },
      "execution_count": 41,
      "outputs": []
    },
    {
      "cell_type": "code",
      "source": [
        "human_image_non_training = load_images(human_non_training, '/content/gdrive/MyDrive/human-human-raw/Non_violation_detected')"
      ],
      "metadata": {
        "id": "BxlI8aotU09O"
      },
      "execution_count": 42,
      "outputs": []
    },
    {
      "cell_type": "code",
      "source": [
        "training_images = model_ready(training_images_vio+training_images_non+human_image_vio_training+human_image_non_training)\n",
        "training_images.shape"
      ],
      "metadata": {
        "colab": {
          "base_uri": "https://localhost:8080/"
        },
        "id": "lHsY_M_AWaeI",
        "outputId": "3a986e93-531b-4820-dbfe-c0281275f1a6"
      },
      "execution_count": 43,
      "outputs": [
        {
          "output_type": "execute_result",
          "data": {
            "text/plain": [
              "(230, 200, 200, 3)"
            ]
          },
          "metadata": {},
          "execution_count": 43
        }
      ]
    },
    {
      "cell_type": "code",
      "source": [
        "validation_images_vio = load_images(validation_vio, '/content/gdrive/MyDrive/Multi_input_data/Violation-validation-detected')"
      ],
      "metadata": {
        "id": "h_LHkZL-W_XI"
      },
      "execution_count": 44,
      "outputs": []
    },
    {
      "cell_type": "code",
      "source": [
        "validation_images_non = load_images(validation_non, '/content/gdrive/MyDrive/Multi_input_data/Non-violation-validation-detected')"
      ],
      "metadata": {
        "id": "Qt8vPgzaXIZD"
      },
      "execution_count": 45,
      "outputs": []
    },
    {
      "cell_type": "code",
      "source": [
        "human_image_vio_val = load_images(human_vio_val, '/content/gdrive/MyDrive/human-human-raw/Violation_detected')"
      ],
      "metadata": {
        "id": "lyTL8oCEVHqz"
      },
      "execution_count": 46,
      "outputs": []
    },
    {
      "cell_type": "code",
      "source": [
        "human_image_non_val = load_images(human_non_val, '/content/gdrive/MyDrive/human-human-raw/Non_violation_detected')"
      ],
      "metadata": {
        "id": "bpnouHdSVNMZ"
      },
      "execution_count": 47,
      "outputs": []
    },
    {
      "cell_type": "code",
      "source": [
        "validation_images = model_ready(validation_images_vio+validation_images_non+human_image_vio_val+human_image_non_val)\n",
        "validation_images.shape"
      ],
      "metadata": {
        "colab": {
          "base_uri": "https://localhost:8080/"
        },
        "id": "SBS96oCQXPRC",
        "outputId": "ce8827ef-2292-4a9c-9401-ffdb6294ddb6"
      },
      "execution_count": 48,
      "outputs": [
        {
          "output_type": "execute_result",
          "data": {
            "text/plain": [
              "(73, 200, 200, 3)"
            ]
          },
          "metadata": {},
          "execution_count": 48
        }
      ]
    },
    {
      "cell_type": "code",
      "source": [
        "testing_images_vio = load_images(testing_vio, '/content/gdrive/MyDrive/Multi_input_data/Violation-testing-detected')"
      ],
      "metadata": {
        "id": "qybFqpUiXWSd"
      },
      "execution_count": 49,
      "outputs": []
    },
    {
      "cell_type": "code",
      "source": [
        "testing_images_non = load_images(testing_non, '/content/gdrive/MyDrive/Multi_input_data/Non-violation-testing-detected')"
      ],
      "metadata": {
        "id": "k7gK0A8UXcvg"
      },
      "execution_count": 50,
      "outputs": []
    },
    {
      "cell_type": "code",
      "source": [
        "human_images_vio = load_images(human_vio_test, '/content/gdrive/MyDrive/human-human-raw/Violation_detected')"
      ],
      "metadata": {
        "id": "irskA66kdT54"
      },
      "execution_count": 51,
      "outputs": []
    },
    {
      "cell_type": "code",
      "source": [
        "human_images_non = load_images(human_non_test, '/content/gdrive/MyDrive/human-human-raw/Non_violation_detected')"
      ],
      "metadata": {
        "id": "9ZDvrvyJdira"
      },
      "execution_count": 52,
      "outputs": []
    },
    {
      "cell_type": "code",
      "source": [
        "testing_images = model_ready(testing_images_vio+testing_images_non+human_images_vio+human_images_non)\n",
        "testing_images.shape"
      ],
      "metadata": {
        "colab": {
          "base_uri": "https://localhost:8080/"
        },
        "id": "wA-0vALsXjwP",
        "outputId": "1374b1cf-83b1-405b-f1bb-0e7a424d7f09"
      },
      "execution_count": 53,
      "outputs": [
        {
          "output_type": "execute_result",
          "data": {
            "text/plain": [
              "(49, 200, 200, 3)"
            ]
          },
          "metadata": {},
          "execution_count": 53
        }
      ]
    },
    {
      "cell_type": "code",
      "source": [
        "mlp = create_mlp(training_features.shape[1])\n",
        "inc = create_inc(200, 200, 3)"
      ],
      "metadata": {
        "id": "ZXhTLi10EwUx",
        "colab": {
          "base_uri": "https://localhost:8080/"
        },
        "outputId": "4339f771-ece5-465d-ab2c-7510ad403720"
      },
      "execution_count": 54,
      "outputs": [
        {
          "output_type": "stream",
          "name": "stdout",
          "text": [
            "Downloading data from https://storage.googleapis.com/tensorflow/keras-applications/inception_v3/inception_v3_weights_tf_dim_ordering_tf_kernels_notop.h5\n",
            "87916544/87910968 [==============================] - 1s 0us/step\n",
            "87924736/87910968 [==============================] - 1s 0us/step\n"
          ]
        }
      ]
    },
    {
      "cell_type": "code",
      "source": [
        "inc.output"
      ],
      "metadata": {
        "colab": {
          "base_uri": "https://localhost:8080/"
        },
        "id": "Ehqt2UlBIM0P",
        "outputId": "a24af478-ddc1-4241-9ec2-90b346f3be1f"
      },
      "execution_count": 55,
      "outputs": [
        {
          "output_type": "execute_result",
          "data": {
            "text/plain": [
              "<KerasTensor: shape=(None, 8) dtype=float32 (created by layer 'dense_3')>"
            ]
          },
          "metadata": {},
          "execution_count": 55
        }
      ]
    },
    {
      "cell_type": "code",
      "source": [
        "combinedInput = concatenate([mlp.output, inc.output])\n",
        "x = Dense(4, activation=\"relu\")(combinedInput)\n",
        "x = Dense(1, activation=\"sigmoid\")(x)\n"
      ],
      "metadata": {
        "id": "Ip-4x2OsK1-k"
      },
      "execution_count": 56,
      "outputs": []
    },
    {
      "cell_type": "code",
      "source": [
        "model = Model(inputs=[mlp.input, inc.input], outputs=x)"
      ],
      "metadata": {
        "id": "loRKrMoDLIrU"
      },
      "execution_count": 57,
      "outputs": []
    },
    {
      "cell_type": "code",
      "source": [
        "model.compile(loss='binary_crossentropy',\n",
        "              optimizer = SGD(learning_rate=0.001, momentum=0.9),\n",
        "              metrics=['accuracy'])"
      ],
      "metadata": {
        "id": "QQJncMGSLKO2"
      },
      "execution_count": 58,
      "outputs": []
    },
    {
      "cell_type": "code",
      "source": [
        "model.fit(\n",
        "\tx=[training_features, training_images], y=training_Y,\n",
        "\tvalidation_data=([validation_features, validation_images], validation_Y),\n",
        "\tepochs=15, batch_size=32)"
      ],
      "metadata": {
        "colab": {
          "base_uri": "https://localhost:8080/"
        },
        "id": "x3jBZVVQLqjR",
        "outputId": "5719fefa-e4b3-4069-9e5b-18daf46acdcf"
      },
      "execution_count": 59,
      "outputs": [
        {
          "output_type": "stream",
          "name": "stdout",
          "text": [
            "Epoch 1/15\n",
            "8/8 [==============================] - 30s 3s/step - loss: 0.6749 - accuracy: 0.5783 - val_loss: 0.6721 - val_accuracy: 0.6164\n",
            "Epoch 2/15\n",
            "8/8 [==============================] - 23s 3s/step - loss: 0.6571 - accuracy: 0.6652 - val_loss: 0.6285 - val_accuracy: 0.7260\n",
            "Epoch 3/15\n",
            "8/8 [==============================] - 23s 3s/step - loss: 0.5753 - accuracy: 0.6870 - val_loss: 0.5607 - val_accuracy: 0.8082\n",
            "Epoch 4/15\n",
            "8/8 [==============================] - 23s 3s/step - loss: 0.4384 - accuracy: 0.8565 - val_loss: 0.4603 - val_accuracy: 0.9041\n",
            "Epoch 5/15\n",
            "8/8 [==============================] - 23s 3s/step - loss: 0.3837 - accuracy: 0.9696 - val_loss: 0.4469 - val_accuracy: 0.8630\n",
            "Epoch 6/15\n",
            "8/8 [==============================] - 24s 3s/step - loss: 0.3486 - accuracy: 0.9217 - val_loss: 0.3435 - val_accuracy: 0.9041\n",
            "Epoch 7/15\n",
            "8/8 [==============================] - 24s 3s/step - loss: 0.2419 - accuracy: 0.9652 - val_loss: 0.3398 - val_accuracy: 0.8219\n",
            "Epoch 8/15\n",
            "8/8 [==============================] - 23s 3s/step - loss: 0.1318 - accuracy: 0.9783 - val_loss: 0.2353 - val_accuracy: 0.9041\n",
            "Epoch 9/15\n",
            "8/8 [==============================] - 23s 3s/step - loss: 0.0642 - accuracy: 0.9913 - val_loss: 0.1910 - val_accuracy: 0.9315\n",
            "Epoch 10/15\n",
            "8/8 [==============================] - 23s 3s/step - loss: 0.0266 - accuracy: 1.0000 - val_loss: 0.1733 - val_accuracy: 0.9315\n",
            "Epoch 11/15\n",
            "8/8 [==============================] - 23s 3s/step - loss: 0.0138 - accuracy: 1.0000 - val_loss: 0.1610 - val_accuracy: 0.9315\n",
            "Epoch 12/15\n",
            "8/8 [==============================] - 23s 3s/step - loss: 0.0099 - accuracy: 1.0000 - val_loss: 0.1581 - val_accuracy: 0.9315\n",
            "Epoch 13/15\n",
            "8/8 [==============================] - 23s 3s/step - loss: 0.0065 - accuracy: 1.0000 - val_loss: 0.1814 - val_accuracy: 0.9315\n",
            "Epoch 14/15\n",
            "8/8 [==============================] - 23s 3s/step - loss: 0.0053 - accuracy: 1.0000 - val_loss: 0.1670 - val_accuracy: 0.9315\n",
            "Epoch 15/15\n",
            "8/8 [==============================] - 23s 3s/step - loss: 0.0044 - accuracy: 1.0000 - val_loss: 0.1616 - val_accuracy: 0.9315\n"
          ]
        },
        {
          "output_type": "execute_result",
          "data": {
            "text/plain": [
              "<keras.callbacks.History at 0x7fe3476ba7d0>"
            ]
          },
          "metadata": {},
          "execution_count": 59
        }
      ]
    },
    {
      "cell_type": "code",
      "source": [
        "preds = model.predict([testing_features, testing_images])\n",
        "preds"
      ],
      "metadata": {
        "colab": {
          "base_uri": "https://localhost:8080/"
        },
        "id": "6mVVMRJ9aVU0",
        "outputId": "59fb9d12-d911-496c-8364-f21fe339cc8e"
      },
      "execution_count": 60,
      "outputs": [
        {
          "output_type": "execute_result",
          "data": {
            "text/plain": [
              "array([[9.9486017e-01],\n",
              "       [9.9992287e-01],\n",
              "       [8.6894572e-01],\n",
              "       [9.9724078e-01],\n",
              "       [9.8204696e-01],\n",
              "       [9.9968684e-01],\n",
              "       [9.9977863e-01],\n",
              "       [9.8187113e-01],\n",
              "       [9.9244225e-01],\n",
              "       [9.9999559e-01],\n",
              "       [9.9549550e-01],\n",
              "       [3.8327432e-01],\n",
              "       [9.9938273e-01],\n",
              "       [9.9873263e-01],\n",
              "       [9.9503392e-01],\n",
              "       [9.8390973e-01],\n",
              "       [9.9972057e-01],\n",
              "       [9.9839157e-01],\n",
              "       [9.9999785e-01],\n",
              "       [9.9898386e-01],\n",
              "       [9.9865979e-01],\n",
              "       [9.9975610e-01],\n",
              "       [1.5368640e-02],\n",
              "       [1.9855797e-03],\n",
              "       [7.8806281e-04],\n",
              "       [5.5825710e-04],\n",
              "       [4.7805905e-04],\n",
              "       [4.6405196e-04],\n",
              "       [1.7440319e-04],\n",
              "       [7.0075989e-03],\n",
              "       [6.3003600e-03],\n",
              "       [4.4669509e-03],\n",
              "       [6.6802204e-03],\n",
              "       [9.9996698e-01],\n",
              "       [9.8347366e-01],\n",
              "       [8.1668925e-01],\n",
              "       [9.9886382e-01],\n",
              "       [9.5961344e-01],\n",
              "       [7.8954923e-01],\n",
              "       [9.1016030e-01],\n",
              "       [9.9903893e-01],\n",
              "       [2.5328666e-02],\n",
              "       [2.1036267e-02],\n",
              "       [9.9404454e-03],\n",
              "       [1.1368722e-02],\n",
              "       [8.8170040e-01],\n",
              "       [9.7160602e-01],\n",
              "       [9.0945065e-03],\n",
              "       [7.4892640e-03]], dtype=float32)"
            ]
          },
          "metadata": {},
          "execution_count": 60
        }
      ]
    },
    {
      "cell_type": "code",
      "source": [
        "preds = [1 if i > 0.5 else 0 for i in preds ]\n",
        "preds"
      ],
      "metadata": {
        "colab": {
          "base_uri": "https://localhost:8080/"
        },
        "id": "WbNoCZlGaqbp",
        "outputId": "b363df3b-0086-4344-d44d-ecd5fabbdeef"
      },
      "execution_count": 61,
      "outputs": [
        {
          "output_type": "execute_result",
          "data": {
            "text/plain": [
              "[1,\n",
              " 1,\n",
              " 1,\n",
              " 1,\n",
              " 1,\n",
              " 1,\n",
              " 1,\n",
              " 1,\n",
              " 1,\n",
              " 1,\n",
              " 1,\n",
              " 0,\n",
              " 1,\n",
              " 1,\n",
              " 1,\n",
              " 1,\n",
              " 1,\n",
              " 1,\n",
              " 1,\n",
              " 1,\n",
              " 1,\n",
              " 1,\n",
              " 0,\n",
              " 0,\n",
              " 0,\n",
              " 0,\n",
              " 0,\n",
              " 0,\n",
              " 0,\n",
              " 0,\n",
              " 0,\n",
              " 0,\n",
              " 0,\n",
              " 1,\n",
              " 1,\n",
              " 1,\n",
              " 1,\n",
              " 1,\n",
              " 1,\n",
              " 1,\n",
              " 1,\n",
              " 0,\n",
              " 0,\n",
              " 0,\n",
              " 0,\n",
              " 1,\n",
              " 1,\n",
              " 0,\n",
              " 0]"
            ]
          },
          "metadata": {},
          "execution_count": 61
        }
      ]
    },
    {
      "cell_type": "code",
      "source": [
        "from sklearn.metrics import confusion_matrix\n",
        "\n",
        "#Generate the confusion matrix\n",
        "cf_matrix = confusion_matrix(actual_Y.tolist(), preds)\n",
        "\n",
        "print(cf_matrix)"
      ],
      "metadata": {
        "colab": {
          "base_uri": "https://localhost:8080/"
        },
        "id": "SQil7zJfbJbk",
        "outputId": "dc135d79-9842-4046-9a90-34fdb81b4966"
      },
      "execution_count": 62,
      "outputs": [
        {
          "output_type": "stream",
          "name": "stdout",
          "text": [
            "[[17  2]\n",
            " [ 1 29]]\n"
          ]
        }
      ]
    },
    {
      "cell_type": "code",
      "source": [
        "import seaborn as sns\n",
        "\n",
        "ax = sns.heatmap(cf_matrix, annot=True, cmap='Blues')\n",
        "\n",
        "ax.set_title('Seaborn Confusion Matrix with labels\\n\\n');\n",
        "ax.set_xlabel('\\nPredicted Values')\n",
        "ax.set_ylabel('Actual Values ');\n",
        "\n",
        "## Ticket labels - List must be in alphabetical order\n",
        "ax.xaxis.set_ticklabels(['Non-Violation','Violation'])\n",
        "ax.yaxis.set_ticklabels(['Non-Violation','Violation'])\n",
        "\n",
        "## Display the visualization of the Confusion Matrix.\n",
        "plt.show()"
      ],
      "metadata": {
        "colab": {
          "base_uri": "https://localhost:8080/",
          "height": 337
        },
        "id": "A_QuP6YObPSO",
        "outputId": "ece63e30-e137-4788-d6e9-be6bfcb4bff8"
      },
      "execution_count": 63,
      "outputs": [
        {
          "output_type": "display_data",
          "data": {
            "text/plain": [
              "<Figure size 432x288 with 2 Axes>"
            ],
            "image/png": "[encoded data removed]"
          },
          "metadata": {
            "needs_background": "light"
          }
        }
      ]
    }
  ]
}