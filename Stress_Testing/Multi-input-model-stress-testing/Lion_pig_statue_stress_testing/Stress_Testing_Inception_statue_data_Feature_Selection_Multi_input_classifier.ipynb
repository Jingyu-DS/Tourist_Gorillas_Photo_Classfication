{
  "nbformat": 4,
  "nbformat_minor": 0,
  "metadata": {
    "colab": {
      "name": "Stress_Testing_Inception: statue data: Feature_Selection_Multi_input_classifier.ipynb",
      "provenance": [],
      "collapsed_sections": []
    },
    "kernelspec": {
      "name": "python3",
      "display_name": "Python 3"
    },
    "language_info": {
      "name": "python"
    }
  },
  "cells": [
    {
      "cell_type": "code",
      "source": [
        "import numpy as np\n",
        "import pandas as pd\n",
        "import glob\n",
        "import cv2\n",
        "import os\n",
        "from tensorflow.keras.preprocessing.image import ImageDataGenerator\n",
        "from sklearn.preprocessing import MinMaxScaler\n",
        "from tensorflow.keras.models import Sequential\n",
        "from tensorflow.keras.layers import BatchNormalization\n",
        "from tensorflow.keras.layers import Conv2D\n",
        "from tensorflow.keras.layers import MaxPooling2D\n",
        "from tensorflow.keras.layers import Activation\n",
        "from tensorflow.keras.layers import Dropout\n",
        "from tensorflow.keras.layers import Dense\n",
        "from tensorflow.keras.layers import Flatten\n",
        "from tensorflow.keras.layers import Input\n",
        "from tensorflow.keras.layers import concatenate\n",
        "from tensorflow.keras.models import Model\n",
        "import tensorflow as tf\n",
        "import matplotlib.pyplot as plt"
      ],
      "metadata": {
        "id": "UNIXvaKLgusb"
      },
      "execution_count": null,
      "outputs": []
    },
    {
      "cell_type": "code",
      "source": [
        "from google.colab import drive\n",
        "drive.mount('/content/gdrive')"
      ],
      "metadata": {
        "colab": {
          "base_uri": "https://localhost:8080/"
        },
        "id": "1h8ZRAlABEKQ",
        "outputId": "e616be4b-9add-4669-b707-d2f497ce11b4"
      },
      "execution_count": null,
      "outputs": [
        {
          "output_type": "stream",
          "name": "stdout",
          "text": [
            "Mounted at /content/gdrive\n"
          ]
        }
      ]
    },
    {
      "cell_type": "markdown",
      "source": [
        "### Use features for training data to perform feature selection"
      ],
      "metadata": {
        "id": "i5qzC9p5El4a"
      }
    },
    {
      "cell_type": "code",
      "source": [
        "Lion_vio = pd.read_csv('/content/gdrive/MyDrive/Lion_new/Lion-violation.csv')\n",
        "Pig_vio = pd.read_csv('/content/gdrive/MyDrive/Pig_new/Pig-violation.csv')\n",
        "vio_df = pd.concat([Lion_vio, Pig_vio], ignore_index=True)\n",
        "vio_df.shape"
      ],
      "metadata": {
        "colab": {
          "base_uri": "https://localhost:8080/"
        },
        "id": "a8RU__w67SDr",
        "outputId": "e6351de8-0eac-4dd7-9c31-5fcf0908c739"
      },
      "execution_count": null,
      "outputs": [
        {
          "output_type": "execute_result",
          "data": {
            "text/plain": [
              "(485, 13)"
            ]
          },
          "metadata": {},
          "execution_count": 3
        }
      ]
    },
    {
      "cell_type": "code",
      "source": [
        "Lion_non_vio = pd.read_csv('/content/gdrive/MyDrive/Lion_new/Lion-Non-violation.csv')\n",
        "Pig_non_vio = pd.read_csv('/content/gdrive/MyDrive/Pig_new/Pig-Non-violation.csv')\n",
        "non_vio_df = pd.concat([Lion_non_vio, Pig_non_vio], ignore_index=True)\n",
        "non_vio_df.shape"
      ],
      "metadata": {
        "colab": {
          "base_uri": "https://localhost:8080/"
        },
        "id": "ynTHLD2HOpZn",
        "outputId": "d164cbd2-6e2b-4b4d-dbc9-24dcdd4dbd99"
      },
      "execution_count": null,
      "outputs": [
        {
          "output_type": "execute_result",
          "data": {
            "text/plain": [
              "(338, 13)"
            ]
          },
          "metadata": {},
          "execution_count": 4
        }
      ]
    },
    {
      "cell_type": "code",
      "source": [
        "vio_training = vio_df.sample(n=260, random_state=5)\n",
        "print(vio_training.shape)\n",
        "vio_validation = vio_df.sample(n=60, random_state=1)\n",
        "print(vio_validation.shape)\n",
        "vio_testing = vio_df.sample(n=40, random_state=3)\n",
        "print(vio_testing.shape)"
      ],
      "metadata": {
        "colab": {
          "base_uri": "https://localhost:8080/"
        },
        "id": "kDiGnfRFPDhO",
        "outputId": "804bc8c1-3fae-480d-e3c6-34b017fe8f2b"
      },
      "execution_count": null,
      "outputs": [
        {
          "output_type": "stream",
          "name": "stdout",
          "text": [
            "(260, 13)\n",
            "(60, 13)\n",
            "(40, 13)\n"
          ]
        }
      ]
    },
    {
      "cell_type": "code",
      "source": [
        "non_vio_training = non_vio_df.sample(n=260, random_state=5)\n",
        "print(non_vio_training.shape)\n",
        "non_vio_validation = non_vio_df.sample(n=60, random_state=1)\n",
        "print(non_vio_validation.shape)\n",
        "non_vio_testing = non_vio_df.sample(n=40, random_state=3)\n",
        "print(non_vio_testing.shape)"
      ],
      "metadata": {
        "colab": {
          "base_uri": "https://localhost:8080/"
        },
        "id": "A-cPDiUPQWlo",
        "outputId": "835122d0-8a4c-4be0-ecd1-b033f12f5f44"
      },
      "execution_count": null,
      "outputs": [
        {
          "output_type": "stream",
          "name": "stdout",
          "text": [
            "(260, 13)\n",
            "(60, 13)\n",
            "(40, 13)\n"
          ]
        }
      ]
    },
    {
      "cell_type": "code",
      "source": [
        "training_df = pd.concat([vio_training, non_vio_training], ignore_index=True)\n",
        "validation_df = pd.concat([vio_validation, non_vio_validation], ignore_index=True)\n",
        "testing_df = pd.concat([vio_testing, non_vio_testing], ignore_index=True)\n",
        "testing_df.shape"
      ],
      "metadata": {
        "colab": {
          "base_uri": "https://localhost:8080/"
        },
        "id": "nMhYHGUFRCa1",
        "outputId": "5a9d652f-6fe9-4b6c-ed13-438eac4939d1"
      },
      "execution_count": null,
      "outputs": [
        {
          "output_type": "execute_result",
          "data": {
            "text/plain": [
              "(80, 13)"
            ]
          },
          "metadata": {},
          "execution_count": 7
        }
      ]
    },
    {
      "cell_type": "markdown",
      "source": [
        "### Process the data table in order to use the selected features"
      ],
      "metadata": {
        "id": "UW0yGf7pE6Uq"
      }
    },
    {
      "cell_type": "code",
      "source": [
        "def training_attributes(image_feature):\n",
        "  h_ymin = []\n",
        "  h_xmin = []\n",
        "  h_ymax = [] \n",
        "  h_xmax = []\n",
        "  for i in image_feature['Human Target']:\n",
        "    goal = i[1:-1].split(\",\")\n",
        "    h_ymin.append(int(goal[0]))\n",
        "    h_xmin.append(int(goal[1]))\n",
        "    h_ymax.append(int(goal[2]))\n",
        "    h_xmax.append(int(goal[-1]))\n",
        "\n",
        "  image_feature['h_ymin'] = h_ymin\n",
        "  image_feature['h_xmin'] = h_xmin\n",
        "  image_feature['h_ymax'] = h_ymax\n",
        "  image_feature['h_xmax'] = h_xmax\n",
        "\n",
        "  a_ymin = []\n",
        "  a_xmin = []\n",
        "  a_ymax = [] \n",
        "  a_xmax = []\n",
        "  for i in image_feature['Animal Taget']:\n",
        "    goal = i[1:-1].split(\",\")\n",
        "    a_ymin.append(int(goal[0]))\n",
        "    a_xmin.append(int(goal[1]))\n",
        "    a_ymax.append(int(goal[2]))\n",
        "    a_xmax.append(int(goal[-1]))\n",
        "\n",
        "  image_feature['a_ymin'] = a_ymin\n",
        "  image_feature['a_xmin'] = a_xmin\n",
        "  image_feature['a_ymax'] = a_ymax\n",
        "  image_feature['a_xmax'] = a_xmax\n",
        "\n",
        "  image_feature['midx_h'] = (image_feature['h_xmin'] + image_feature['h_xmax'])/2\n",
        "  image_feature['midy_h'] = (image_feature['h_ymin'] + image_feature['h_ymax'])/2\n",
        "  image_feature['midx_a'] = (image_feature['a_xmin'] + image_feature['a_xmax'])/2\n",
        "  image_feature['midy_a'] = (image_feature['a_ymin'] + image_feature['a_ymax'])/2\n",
        "\n",
        "  image_feature['x_dif'] = abs(image_feature['midx_a'] - image_feature['midx_h'])\n",
        "  image_feature['y_dif'] = abs(image_feature['midy_a'] - image_feature['midy_h'])\n",
        "\n",
        "  return image_feature"
      ],
      "metadata": {
        "id": "SiobT7CBSUqd"
      },
      "execution_count": null,
      "outputs": []
    },
    {
      "cell_type": "code",
      "source": [
        "from sklearn.feature_selection import RFE\n",
        "from sklearn.tree import DecisionTreeRegressor"
      ],
      "metadata": {
        "id": "wRra6mkaBUW2"
      },
      "execution_count": null,
      "outputs": []
    },
    {
      "cell_type": "code",
      "source": [
        "training_selection = training_attributes(training_df)"
      ],
      "metadata": {
        "id": "VTNoS9h5Rltv"
      },
      "execution_count": null,
      "outputs": []
    },
    {
      "cell_type": "code",
      "source": [
        "print(training_selection.shape)"
      ],
      "metadata": {
        "colab": {
          "base_uri": "https://localhost:8080/"
        },
        "id": "nCYoKasFCRoS",
        "outputId": "d39d0c80-c1e1-4ebb-8e0f-8512527f20dc"
      },
      "execution_count": null,
      "outputs": [
        {
          "output_type": "stream",
          "name": "stdout",
          "text": [
            "(520, 27)\n"
          ]
        }
      ]
    },
    {
      "cell_type": "code",
      "source": [
        "training_label = training_selection['Label']\n",
        "print(len(training_label))"
      ],
      "metadata": {
        "colab": {
          "base_uri": "https://localhost:8080/"
        },
        "id": "LhTjzzXFTErw",
        "outputId": "6a237b96-a7b9-4d3e-afbe-c6002d03c8e6"
      },
      "execution_count": null,
      "outputs": [
        {
          "output_type": "stream",
          "name": "stdout",
          "text": [
            "520\n"
          ]
        }
      ]
    },
    {
      "cell_type": "code",
      "source": [
        "training_selection = training_selection.drop(['Unnamed: 0', 'File Name', 'Human Target', 'Animal Taget', 'Label'], axis=1)\n",
        "print(training_selection.shape)"
      ],
      "metadata": {
        "colab": {
          "base_uri": "https://localhost:8080/"
        },
        "id": "1dW48uZrTMMr",
        "outputId": "a7abc68d-4e5a-40a5-eb3d-c1b4399490d1"
      },
      "execution_count": null,
      "outputs": [
        {
          "output_type": "stream",
          "name": "stdout",
          "text": [
            "(520, 22)\n"
          ]
        }
      ]
    },
    {
      "cell_type": "code",
      "source": [
        "training_selection.columns"
      ],
      "metadata": {
        "colab": {
          "base_uri": "https://localhost:8080/"
        },
        "id": "PCEjC0wZTzUM",
        "outputId": "cc50c13c-9fb3-4992-dace-3716c41bd66a"
      },
      "execution_count": null,
      "outputs": [
        {
          "output_type": "execute_result",
          "data": {
            "text/plain": [
              "Index(['Closest Distance', 'Human Width', 'Human Length', 'Human Area',\n",
              "       'Animal Width', 'Animal Length', 'Animal Area', 'Area Ratio', 'h_ymin',\n",
              "       'h_xmin', 'h_ymax', 'h_xmax', 'a_ymin', 'a_xmin', 'a_ymax', 'a_xmax',\n",
              "       'midx_h', 'midy_h', 'midx_a', 'midy_a', 'x_dif', 'y_dif'],\n",
              "      dtype='object')"
            ]
          },
          "metadata": {},
          "execution_count": 14
        }
      ]
    },
    {
      "cell_type": "code",
      "source": [
        "model = DecisionTreeRegressor()\n",
        "rfe = RFE(model, n_features_to_select=4)\n",
        "rfe.fit(training_selection, training_label)\n",
        "print(\"Num Features: %s\" % (rfe.n_features_))\n",
        "print(\"Selected Features: %s\" % (rfe.support_))\n",
        "print(\"Feature Ranking: %s\" % (rfe.ranking_))"
      ],
      "metadata": {
        "colab": {
          "base_uri": "https://localhost:8080/"
        },
        "id": "bISat-0rBaWc",
        "outputId": "4b12cca7-6e94-4385-9b49-0303e93264fe"
      },
      "execution_count": null,
      "outputs": [
        {
          "output_type": "stream",
          "name": "stdout",
          "text": [
            "Num Features: 4\n",
            "Selected Features: [False False False False False  True False  True False False False False\n",
            " False False  True  True False False False False False False]\n",
            "Feature Ranking: [17  2  9 16  3  1  7  1 12 13  5  8 14 15  1  1 10  4 18 11  6 19]\n"
          ]
        }
      ]
    },
    {
      "cell_type": "code",
      "source": [
        "result = [list(training_selection.columns)[x] for x in range(len(list(training_selection.columns))) if rfe.support_[x] == True in rfe.support_]\n",
        "result"
      ],
      "metadata": {
        "colab": {
          "base_uri": "https://localhost:8080/"
        },
        "id": "Pk97USNxEEVE",
        "outputId": "d2d2edc9-4fdb-4dde-ddd3-887af8671a5f"
      },
      "execution_count": null,
      "outputs": [
        {
          "output_type": "execute_result",
          "data": {
            "text/plain": [
              "['Animal Length', 'Area Ratio', 'a_ymax', 'a_xmax']"
            ]
          },
          "metadata": {},
          "execution_count": 16
        }
      ]
    },
    {
      "cell_type": "code",
      "source": [
        "def process_attributes(image_feature):\n",
        "  h_ymin = []\n",
        "  h_xmin = []\n",
        "  h_ymax = [] \n",
        "  h_xmax = []\n",
        "  for i in image_feature['Human Target']:\n",
        "    goal = i[1:-1].split(\",\")\n",
        "    h_ymin.append(int(goal[0]))\n",
        "    h_xmin.append(int(goal[1]))\n",
        "    h_ymax.append(int(goal[2]))\n",
        "    h_xmax.append(int(goal[-1]))\n",
        "\n",
        "  image_feature['h_ymin'] = h_ymin\n",
        "  image_feature['h_xmin'] = h_xmin\n",
        "  image_feature['h_ymax'] = h_ymax\n",
        "  image_feature['h_xmax'] = h_xmax\n",
        "\n",
        "  a_ymin = []\n",
        "  a_xmin = []\n",
        "  a_ymax = [] \n",
        "  a_xmax = []\n",
        "  for i in image_feature['Animal Taget']:\n",
        "    goal = i[1:-1].split(\",\")\n",
        "    a_ymin.append(int(goal[0]))\n",
        "    a_xmin.append(int(goal[1]))\n",
        "    a_ymax.append(int(goal[2]))\n",
        "    a_xmax.append(int(goal[-1]))\n",
        "\n",
        "  image_feature['a_ymin'] = a_ymin\n",
        "  image_feature['a_xmin'] = a_xmin\n",
        "  image_feature['a_ymax'] = a_ymax\n",
        "  image_feature['a_xmax'] = a_xmax\n",
        "\n",
        "  image_feature['midx_h'] = (image_feature['h_xmin'] + image_feature['h_xmax'])/2\n",
        "  image_feature['midy_h'] = (image_feature['h_ymin'] + image_feature['h_ymax'])/2\n",
        "  image_feature['midx_a'] = (image_feature['a_xmin'] + image_feature['a_xmax'])/2\n",
        "  image_feature['midy_a'] = (image_feature['a_ymin'] + image_feature['a_ymax'])/2\n",
        "\n",
        "  image_feature['x_dif'] = abs(image_feature['midx_a'] - image_feature['midx_h'])\n",
        "  image_feature['y_dif'] = abs(image_feature['midy_a'] - image_feature['midy_h'])\n",
        "\n",
        "  cols = result\n",
        "  image_feature = image_feature[cols]\n",
        "  scaler = MinMaxScaler()\n",
        "  image_feature = scaler.fit_transform(image_feature)\n",
        "\n",
        "  return image_feature"
      ],
      "metadata": {
        "id": "KlwkZcrv-OXj"
      },
      "execution_count": null,
      "outputs": []
    },
    {
      "cell_type": "code",
      "source": [
        "# Use to train tabular data\n",
        "def create_mlp(dim, classify=False):\n",
        "\t# define our MLP network\n",
        "\tmodel = Sequential()\n",
        "\t#model.add(Dense(32, input_dim=dim, activation=\"relu\"))\n",
        "\tmodel.add(Dense(16, input_dim=dim, activation=\"relu\"))\n",
        "\tmodel.add(Dense(8, activation=\"relu\"))\n",
        "\n",
        "\t# check to see if the regression node should be added\n",
        "\tif classify:\n",
        "\t\tmodel.add(Dense(1, activation='sigmoid'))\n",
        "\n",
        "\t# return our model\n",
        "\treturn model"
      ],
      "metadata": {
        "id": "JoI9XDyk-ti5"
      },
      "execution_count": null,
      "outputs": []
    },
    {
      "cell_type": "code",
      "source": [
        "from keras.applications.inception_v3 import InceptionV3\n",
        "from tensorflow.keras.optimizers import RMSprop\n",
        "from tensorflow.keras.optimizers import SGD\n",
        "from keras.models import Model"
      ],
      "metadata": {
        "id": "4JfJDuI6BiuW"
      },
      "execution_count": null,
      "outputs": []
    },
    {
      "cell_type": "code",
      "source": [
        "def create_inc(height, width, depth, classify = False):\n",
        "  inc_model = InceptionV3(input_shape = (height, width, depth), \n",
        "                                weights='imagenet',\n",
        "                                include_top = False)\n",
        "  for layer in inc_model.layers:\n",
        "    layer.trainable = False\n",
        "  x = tf.keras.layers.Flatten()(inc_model.output)\n",
        "  x = tf.keras.layers.Dense(32, activation='relu')(x)\n",
        "  x = tf.keras.layers.Dense(8, activation='relu')(x)\n",
        "  if classify:\n",
        "    x = tf.keras.layers.Dense(1, activation='sigmoid')(x)\n",
        "  model = Model(inputs = inc_model.input, outputs = x)\n",
        "  return model"
      ],
      "metadata": {
        "id": "GqgvQq4z_KJa"
      },
      "execution_count": null,
      "outputs": []
    },
    {
      "cell_type": "code",
      "source": [
        "def load_images(image_features, inputpath):\n",
        "  images_output = []\n",
        "  for i in image_features['File Name']:\n",
        "    image_path = os.path.join(inputpath, i)\n",
        "    image = cv2.imread(image_path)\n",
        "    image = cv2.resize(image, (200, 200))\n",
        "    images_output.append(np.array(image))\n",
        "    # print(images_output)\n",
        "  # images_output = np.array(images_output) / 255\n",
        "  # images_output.reshape(-1, 200, 200, 3)\n",
        "  return images_output"
      ],
      "metadata": {
        "id": "Wk4PfGcQ9A1p"
      },
      "execution_count": null,
      "outputs": []
    },
    {
      "cell_type": "code",
      "source": [
        "def model_ready(images_output):\n",
        "  images_output = np.array(images_output) / 255\n",
        "  images_output.reshape(-1, 200, 200, 3)\n",
        "  return images_output"
      ],
      "metadata": {
        "id": "NCvYaqYZKYRU"
      },
      "execution_count": null,
      "outputs": []
    },
    {
      "cell_type": "markdown",
      "source": [
        "### Organize the table for training, validation, testing classes"
      ],
      "metadata": {
        "id": "dT8Vll8YTf6U"
      }
    },
    {
      "cell_type": "code",
      "source": [
        "training_features = process_attributes(training_df)\n",
        "training_features.shape"
      ],
      "metadata": {
        "id": "tZCvj3iFUIk-",
        "colab": {
          "base_uri": "https://localhost:8080/"
        },
        "outputId": "e32b974f-d217-4343-9be6-c848c120c154"
      },
      "execution_count": null,
      "outputs": [
        {
          "output_type": "execute_result",
          "data": {
            "text/plain": [
              "(520, 4)"
            ]
          },
          "metadata": {},
          "execution_count": 23
        }
      ]
    },
    {
      "cell_type": "code",
      "source": [
        "training_Y = training_df['Label']\n",
        "training_Y"
      ],
      "metadata": {
        "colab": {
          "base_uri": "https://localhost:8080/"
        },
        "id": "eDPwNttPLMMk",
        "outputId": "5b1d8826-cda0-4c6d-d2f2-7b4ab8c28182"
      },
      "execution_count": null,
      "outputs": [
        {
          "output_type": "execute_result",
          "data": {
            "text/plain": [
              "0      1\n",
              "1      1\n",
              "2      1\n",
              "3      1\n",
              "4      1\n",
              "      ..\n",
              "515    0\n",
              "516    0\n",
              "517    0\n",
              "518    0\n",
              "519    0\n",
              "Name: Label, Length: 520, dtype: int64"
            ]
          },
          "metadata": {},
          "execution_count": 24
        }
      ]
    },
    {
      "cell_type": "code",
      "source": [
        "validation_features = process_attributes(validation_df)\n",
        "validation_features.shape"
      ],
      "metadata": {
        "id": "j4ftGIKQKNs-",
        "colab": {
          "base_uri": "https://localhost:8080/"
        },
        "outputId": "f00304a8-62cc-486c-fbfc-df9385dd028a"
      },
      "execution_count": null,
      "outputs": [
        {
          "output_type": "execute_result",
          "data": {
            "text/plain": [
              "(120, 4)"
            ]
          },
          "metadata": {},
          "execution_count": 25
        }
      ]
    },
    {
      "cell_type": "code",
      "source": [
        "validation_Y = validation_df['Label']\n",
        "validation_Y"
      ],
      "metadata": {
        "id": "LIr6Q4XbLSLz",
        "colab": {
          "base_uri": "https://localhost:8080/"
        },
        "outputId": "4c211390-8f20-4f5f-8496-dfa396674424"
      },
      "execution_count": null,
      "outputs": [
        {
          "output_type": "execute_result",
          "data": {
            "text/plain": [
              "0      1\n",
              "1      1\n",
              "2      1\n",
              "3      1\n",
              "4      1\n",
              "      ..\n",
              "115    0\n",
              "116    0\n",
              "117    0\n",
              "118    0\n",
              "119    0\n",
              "Name: Label, Length: 120, dtype: int64"
            ]
          },
          "metadata": {},
          "execution_count": 26
        }
      ]
    },
    {
      "cell_type": "code",
      "source": [
        "testing_features = process_attributes(testing_df)\n",
        "testing_features.shape"
      ],
      "metadata": {
        "id": "wDNEe99iVZHG",
        "colab": {
          "base_uri": "https://localhost:8080/"
        },
        "outputId": "56f86ee1-ae1c-41d3-b89e-c0c265b3c8a7"
      },
      "execution_count": null,
      "outputs": [
        {
          "output_type": "execute_result",
          "data": {
            "text/plain": [
              "(80, 4)"
            ]
          },
          "metadata": {},
          "execution_count": 27
        }
      ]
    },
    {
      "cell_type": "code",
      "source": [
        "actual_Y = testing_df['Label']\n",
        "actual_Y"
      ],
      "metadata": {
        "id": "2ndqg1v_VfLB",
        "colab": {
          "base_uri": "https://localhost:8080/"
        },
        "outputId": "f29a5949-24d3-414d-b113-81abc664422c"
      },
      "execution_count": null,
      "outputs": [
        {
          "output_type": "execute_result",
          "data": {
            "text/plain": [
              "0     1\n",
              "1     1\n",
              "2     1\n",
              "3     1\n",
              "4     1\n",
              "     ..\n",
              "75    0\n",
              "76    0\n",
              "77    0\n",
              "78    0\n",
              "79    0\n",
              "Name: Label, Length: 80, dtype: int64"
            ]
          },
          "metadata": {},
          "execution_count": 28
        }
      ]
    },
    {
      "cell_type": "markdown",
      "source": [
        "### Organize the images for traing, validation, testing classes"
      ],
      "metadata": {
        "id": "KLiUuAdWVm5C"
      }
    },
    {
      "cell_type": "code",
      "source": [
        "training_images = load_images(training_df, '/content/gdrive/MyDrive/Lion_new/Multi_input_data')"
      ],
      "metadata": {
        "id": "e2GE5teLVrtQ"
      },
      "execution_count": null,
      "outputs": []
    },
    {
      "cell_type": "code",
      "source": [
        "training_images = model_ready(training_images)\n",
        "training_images.shape"
      ],
      "metadata": {
        "colab": {
          "base_uri": "https://localhost:8080/"
        },
        "id": "lHsY_M_AWaeI",
        "outputId": "19830fbd-fe10-4a6e-db59-692fbeae3bf9"
      },
      "execution_count": null,
      "outputs": [
        {
          "output_type": "execute_result",
          "data": {
            "text/plain": [
              "(520, 200, 200, 3)"
            ]
          },
          "metadata": {},
          "execution_count": 30
        }
      ]
    },
    {
      "cell_type": "code",
      "source": [
        "validation_images = load_images(validation_df, '/content/gdrive/MyDrive/Lion_new/Multi_input_data')"
      ],
      "metadata": {
        "id": "h_LHkZL-W_XI"
      },
      "execution_count": null,
      "outputs": []
    },
    {
      "cell_type": "code",
      "source": [
        "validation_images = model_ready(validation_images)\n",
        "validation_images.shape"
      ],
      "metadata": {
        "colab": {
          "base_uri": "https://localhost:8080/"
        },
        "id": "SBS96oCQXPRC",
        "outputId": "76b4ce62-3157-4de2-a307-9dbc5688cbae"
      },
      "execution_count": null,
      "outputs": [
        {
          "output_type": "execute_result",
          "data": {
            "text/plain": [
              "(120, 200, 200, 3)"
            ]
          },
          "metadata": {},
          "execution_count": 32
        }
      ]
    },
    {
      "cell_type": "code",
      "source": [
        "testing_images = load_images(testing_df, '/content/gdrive/MyDrive/Lion_new/Multi_input_data')"
      ],
      "metadata": {
        "id": "qybFqpUiXWSd"
      },
      "execution_count": null,
      "outputs": []
    },
    {
      "cell_type": "code",
      "source": [
        "testing_images = model_ready(testing_images)\n",
        "testing_images.shape"
      ],
      "metadata": {
        "colab": {
          "base_uri": "https://localhost:8080/"
        },
        "id": "wA-0vALsXjwP",
        "outputId": "55495d16-0cd6-4bd8-fd41-abdcfcfc5464"
      },
      "execution_count": null,
      "outputs": [
        {
          "output_type": "execute_result",
          "data": {
            "text/plain": [
              "(80, 200, 200, 3)"
            ]
          },
          "metadata": {},
          "execution_count": 34
        }
      ]
    },
    {
      "cell_type": "code",
      "source": [
        "mlp = create_mlp(training_features.shape[1])\n",
        "inc = create_inc(200, 200, 3)"
      ],
      "metadata": {
        "id": "ZXhTLi10EwUx",
        "colab": {
          "base_uri": "https://localhost:8080/"
        },
        "outputId": "42b278aa-9e58-45df-a671-9d1d03f74744"
      },
      "execution_count": null,
      "outputs": [
        {
          "output_type": "stream",
          "name": "stdout",
          "text": [
            "Downloading data from https://storage.googleapis.com/tensorflow/keras-applications/inception_v3/inception_v3_weights_tf_dim_ordering_tf_kernels_notop.h5\n",
            "87916544/87910968 [==============================] - 0s 0us/step\n",
            "87924736/87910968 [==============================] - 0s 0us/step\n"
          ]
        }
      ]
    },
    {
      "cell_type": "code",
      "source": [
        "inc.output"
      ],
      "metadata": {
        "colab": {
          "base_uri": "https://localhost:8080/"
        },
        "id": "xpOzIDtooDdx",
        "outputId": "5d5f9ac4-547c-4a55-9416-f6549481d3bd"
      },
      "execution_count": null,
      "outputs": [
        {
          "output_type": "execute_result",
          "data": {
            "text/plain": [
              "<KerasTensor: shape=(None, 8) dtype=float32 (created by layer 'dense_3')>"
            ]
          },
          "metadata": {},
          "execution_count": 36
        }
      ]
    },
    {
      "cell_type": "code",
      "source": [
        "combinedInput = concatenate([mlp.output, inc.output])\n",
        "x = Dense(4, activation=\"relu\")(combinedInput)\n",
        "x = Dense(1, activation=\"sigmoid\")(x)"
      ],
      "metadata": {
        "id": "Ip-4x2OsK1-k"
      },
      "execution_count": null,
      "outputs": []
    },
    {
      "cell_type": "code",
      "source": [
        "model = Model(inputs=[mlp.input, inc.input], outputs=x)"
      ],
      "metadata": {
        "id": "loRKrMoDLIrU"
      },
      "execution_count": null,
      "outputs": []
    },
    {
      "cell_type": "code",
      "source": [
        "model.compile(loss='binary_crossentropy',\n",
        "              optimizer = SGD(learning_rate=0.001, momentum=0.9),\n",
        "              metrics=['accuracy'])"
      ],
      "metadata": {
        "id": "QQJncMGSLKO2"
      },
      "execution_count": null,
      "outputs": []
    },
    {
      "cell_type": "code",
      "source": [
        "model.fit(\n",
        "\tx=[training_features, training_images], y=training_Y,\n",
        "\tvalidation_data=([validation_features, validation_images], validation_Y),\n",
        "\tepochs=15)"
      ],
      "metadata": {
        "colab": {
          "base_uri": "https://localhost:8080/"
        },
        "id": "x3jBZVVQLqjR",
        "outputId": "ef7f755d-b9c4-48f6-ea46-b1ac41f82826"
      },
      "execution_count": null,
      "outputs": [
        {
          "output_type": "stream",
          "name": "stdout",
          "text": [
            "Epoch 1/15\n",
            "17/17 [==============================] - 55s 3s/step - loss: 0.6787 - accuracy: 0.5558 - val_loss: 0.6303 - val_accuracy: 0.7500\n",
            "Epoch 2/15\n",
            "17/17 [==============================] - 47s 3s/step - loss: 0.5685 - accuracy: 0.7615 - val_loss: 0.4129 - val_accuracy: 0.8417\n",
            "Epoch 3/15\n",
            "17/17 [==============================] - 47s 3s/step - loss: 0.3617 - accuracy: 0.8635 - val_loss: 0.2092 - val_accuracy: 0.9417\n",
            "Epoch 4/15\n",
            "17/17 [==============================] - 47s 3s/step - loss: 0.1982 - accuracy: 0.9308 - val_loss: 0.1561 - val_accuracy: 0.9750\n",
            "Epoch 5/15\n",
            "17/17 [==============================] - 47s 3s/step - loss: 0.1015 - accuracy: 0.9788 - val_loss: 0.0951 - val_accuracy: 0.9833\n",
            "Epoch 6/15\n",
            "17/17 [==============================] - 47s 3s/step - loss: 0.0574 - accuracy: 0.9942 - val_loss: 0.0749 - val_accuracy: 0.9917\n",
            "Epoch 7/15\n",
            "17/17 [==============================] - 48s 3s/step - loss: 0.0351 - accuracy: 0.9962 - val_loss: 0.0622 - val_accuracy: 0.9917\n",
            "Epoch 8/15\n",
            "17/17 [==============================] - 48s 3s/step - loss: 0.0261 - accuracy: 0.9962 - val_loss: 0.0517 - val_accuracy: 0.9833\n",
            "Epoch 9/15\n",
            "17/17 [==============================] - 48s 3s/step - loss: 0.0217 - accuracy: 0.9962 - val_loss: 0.0415 - val_accuracy: 0.9917\n",
            "Epoch 10/15\n",
            "17/17 [==============================] - 48s 3s/step - loss: 0.0169 - accuracy: 0.9962 - val_loss: 0.0345 - val_accuracy: 0.9917\n",
            "Epoch 11/15\n",
            "17/17 [==============================] - 48s 3s/step - loss: 0.0142 - accuracy: 0.9962 - val_loss: 0.0317 - val_accuracy: 0.9917\n",
            "Epoch 12/15\n",
            "17/17 [==============================] - 48s 3s/step - loss: 0.0128 - accuracy: 0.9981 - val_loss: 0.0344 - val_accuracy: 0.9917\n",
            "Epoch 13/15\n",
            "17/17 [==============================] - 48s 3s/step - loss: 0.0106 - accuracy: 0.9981 - val_loss: 0.0284 - val_accuracy: 0.9917\n",
            "Epoch 14/15\n",
            "17/17 [==============================] - 48s 3s/step - loss: 0.0085 - accuracy: 0.9981 - val_loss: 0.0257 - val_accuracy: 0.9917\n",
            "Epoch 15/15\n",
            "17/17 [==============================] - 48s 3s/step - loss: 0.0073 - accuracy: 0.9981 - val_loss: 0.0230 - val_accuracy: 0.9917\n"
          ]
        },
        {
          "output_type": "execute_result",
          "data": {
            "text/plain": [
              "<keras.callbacks.History at 0x7f44d546cbd0>"
            ]
          },
          "metadata": {},
          "execution_count": 40
        }
      ]
    },
    {
      "cell_type": "code",
      "source": [
        "preds = model.predict([testing_features, testing_images])\n",
        "preds"
      ],
      "metadata": {
        "colab": {
          "base_uri": "https://localhost:8080/"
        },
        "id": "6mVVMRJ9aVU0",
        "outputId": "aaa25fa6-e024-4edc-a5e9-36bbc22e1989"
      },
      "execution_count": null,
      "outputs": [
        {
          "output_type": "execute_result",
          "data": {
            "text/plain": [
              "array([[7.1963429e-01],\n",
              "       [1.4247178e-05],\n",
              "       [9.7545326e-01],\n",
              "       [9.9943244e-01],\n",
              "       [9.5525432e-01],\n",
              "       [9.9964631e-01],\n",
              "       [9.9010324e-01],\n",
              "       [9.9473691e-01],\n",
              "       [9.8483187e-01],\n",
              "       [8.6067951e-01],\n",
              "       [9.9794602e-01],\n",
              "       [9.9978220e-01],\n",
              "       [9.9823517e-01],\n",
              "       [9.9898916e-01],\n",
              "       [9.9944246e-01],\n",
              "       [9.9776638e-01],\n",
              "       [9.9976373e-01],\n",
              "       [9.9811113e-01],\n",
              "       [4.3190798e-01],\n",
              "       [9.9968910e-01],\n",
              "       [9.9862140e-01],\n",
              "       [9.9682236e-01],\n",
              "       [9.8848879e-01],\n",
              "       [9.9614865e-01],\n",
              "       [3.0366412e-01],\n",
              "       [9.9884796e-01],\n",
              "       [7.0906389e-01],\n",
              "       [9.7117031e-01],\n",
              "       [9.9564028e-01],\n",
              "       [7.9899555e-01],\n",
              "       [9.9902242e-01],\n",
              "       [9.7402132e-01],\n",
              "       [9.9791515e-01],\n",
              "       [7.9399574e-01],\n",
              "       [9.9783379e-01],\n",
              "       [9.9877608e-01],\n",
              "       [9.9754125e-01],\n",
              "       [9.9593920e-01],\n",
              "       [9.9762583e-01],\n",
              "       [9.9655104e-01],\n",
              "       [3.3779442e-03],\n",
              "       [1.3196468e-04],\n",
              "       [1.1573821e-02],\n",
              "       [8.8051856e-03],\n",
              "       [2.6926696e-03],\n",
              "       [3.4533716e-06],\n",
              "       [2.1872222e-03],\n",
              "       [1.1085063e-02],\n",
              "       [1.1514127e-03],\n",
              "       [4.1602552e-03],\n",
              "       [3.0088425e-04],\n",
              "       [2.0763069e-02],\n",
              "       [4.8204958e-03],\n",
              "       [2.5921762e-03],\n",
              "       [1.4938791e-05],\n",
              "       [8.5189641e-03],\n",
              "       [4.6040046e-01],\n",
              "       [4.9481988e-03],\n",
              "       [1.5857342e-05],\n",
              "       [1.8188357e-04],\n",
              "       [4.8978627e-03],\n",
              "       [1.3557971e-03],\n",
              "       [8.3862142e-05],\n",
              "       [4.0355921e-03],\n",
              "       [3.8215518e-04],\n",
              "       [2.9199457e-05],\n",
              "       [2.2853613e-03],\n",
              "       [1.4993548e-04],\n",
              "       [1.1170745e-02],\n",
              "       [6.2946019e-05],\n",
              "       [1.1860490e-02],\n",
              "       [1.2765855e-02],\n",
              "       [6.1036944e-03],\n",
              "       [7.2740316e-03],\n",
              "       [7.3561072e-04],\n",
              "       [2.2292137e-04],\n",
              "       [1.5684962e-03],\n",
              "       [8.2224905e-03],\n",
              "       [4.0057302e-04],\n",
              "       [1.0242760e-03]], dtype=float32)"
            ]
          },
          "metadata": {},
          "execution_count": 41
        }
      ]
    },
    {
      "cell_type": "code",
      "source": [
        "preds = [1 if i > 0.5 else 0 for i in preds ]\n",
        "preds"
      ],
      "metadata": {
        "colab": {
          "base_uri": "https://localhost:8080/"
        },
        "id": "WbNoCZlGaqbp",
        "outputId": "12384032-6020-48b6-ab90-48440a1e907a"
      },
      "execution_count": null,
      "outputs": [
        {
          "output_type": "execute_result",
          "data": {
            "text/plain": [
              "[1,\n",
              " 0,\n",
              " 1,\n",
              " 1,\n",
              " 1,\n",
              " 1,\n",
              " 1,\n",
              " 1,\n",
              " 1,\n",
              " 1,\n",
              " 1,\n",
              " 1,\n",
              " 1,\n",
              " 1,\n",
              " 1,\n",
              " 1,\n",
              " 1,\n",
              " 1,\n",
              " 0,\n",
              " 1,\n",
              " 1,\n",
              " 1,\n",
              " 1,\n",
              " 1,\n",
              " 0,\n",
              " 1,\n",
              " 1,\n",
              " 1,\n",
              " 1,\n",
              " 1,\n",
              " 1,\n",
              " 1,\n",
              " 1,\n",
              " 1,\n",
              " 1,\n",
              " 1,\n",
              " 1,\n",
              " 1,\n",
              " 1,\n",
              " 1,\n",
              " 0,\n",
              " 0,\n",
              " 0,\n",
              " 0,\n",
              " 0,\n",
              " 0,\n",
              " 0,\n",
              " 0,\n",
              " 0,\n",
              " 0,\n",
              " 0,\n",
              " 0,\n",
              " 0,\n",
              " 0,\n",
              " 0,\n",
              " 0,\n",
              " 0,\n",
              " 0,\n",
              " 0,\n",
              " 0,\n",
              " 0,\n",
              " 0,\n",
              " 0,\n",
              " 0,\n",
              " 0,\n",
              " 0,\n",
              " 0,\n",
              " 0,\n",
              " 0,\n",
              " 0,\n",
              " 0,\n",
              " 0,\n",
              " 0,\n",
              " 0,\n",
              " 0,\n",
              " 0,\n",
              " 0,\n",
              " 0,\n",
              " 0,\n",
              " 0]"
            ]
          },
          "metadata": {},
          "execution_count": 42
        }
      ]
    },
    {
      "cell_type": "code",
      "source": [
        "from sklearn.metrics import confusion_matrix\n",
        "\n",
        "#Generate the confusion matrix\n",
        "cf_matrix = confusion_matrix(actual_Y.tolist(), preds)\n",
        "\n",
        "print(cf_matrix)"
      ],
      "metadata": {
        "colab": {
          "base_uri": "https://localhost:8080/"
        },
        "id": "SQil7zJfbJbk",
        "outputId": "352b4a94-fb0f-4de4-8a36-4782dace4513"
      },
      "execution_count": null,
      "outputs": [
        {
          "output_type": "stream",
          "name": "stdout",
          "text": [
            "[[40  0]\n",
            " [ 3 37]]\n"
          ]
        }
      ]
    },
    {
      "cell_type": "code",
      "source": [
        "import seaborn as sns\n",
        "\n",
        "ax = sns.heatmap(cf_matrix, annot=True, cmap='Blues')\n",
        "\n",
        "ax.set_title('Seaborn Confusion Matrix with labels\\n\\n');\n",
        "ax.set_xlabel('\\nPredicted Values')\n",
        "ax.set_ylabel('Actual Values ');\n",
        "\n",
        "## Ticket labels - List must be in alphabetical order\n",
        "ax.xaxis.set_ticklabels(['Non-Violation','Violation'])\n",
        "ax.yaxis.set_ticklabels(['Non-Violation','Violation'])\n",
        "\n",
        "## Display the visualization of the Confusion Matrix.\n",
        "plt.show()"
      ],
      "metadata": {
        "colab": {
          "base_uri": "https://localhost:8080/",
          "height": 337
        },
        "id": "A_QuP6YObPSO",
        "outputId": "80703344-9a94-48ed-e902-263484edfee6"
      },
      "execution_count": null,
      "outputs": [
        {
          "output_type": "display_data",
          "data": {
            "text/plain": [
              "<Figure size 432x288 with 2 Axes>"
            ],
            "image/png": "[encoded data removed]"
          },
          "metadata": {
            "needs_background": "light"
          }
        }
      ]
    }
  ]
}