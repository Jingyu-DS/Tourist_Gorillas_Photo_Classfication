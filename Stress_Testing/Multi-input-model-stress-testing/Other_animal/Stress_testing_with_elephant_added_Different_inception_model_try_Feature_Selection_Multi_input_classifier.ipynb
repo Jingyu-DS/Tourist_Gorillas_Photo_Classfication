{
  "nbformat": 4,
  "nbformat_minor": 0,
  "metadata": {
    "colab": {
      "name": "Stress_testing_with_elephant_added_Different_inception_model_try: Feature_Selection_Multi_input_classifier.ipynb",
      "provenance": [],
      "collapsed_sections": []
    },
    "kernelspec": {
      "name": "python3",
      "display_name": "Python 3"
    },
    "language_info": {
      "name": "python"
    }
  },
  "cells": [
    {
      "cell_type": "code",
      "source": [
        "import numpy as np\n",
        "import pandas as pd\n",
        "import glob\n",
        "import cv2\n",
        "import os\n",
        "from tensorflow.keras.preprocessing.image import ImageDataGenerator\n",
        "from sklearn.preprocessing import MinMaxScaler\n",
        "from tensorflow.keras.models import Sequential\n",
        "from tensorflow.keras.layers import BatchNormalization\n",
        "from tensorflow.keras.layers import Conv2D\n",
        "from tensorflow.keras.layers import MaxPooling2D\n",
        "from tensorflow.keras.layers import Activation\n",
        "from tensorflow.keras.layers import Dropout\n",
        "from tensorflow.keras.layers import Dense\n",
        "from tensorflow.keras.layers import Flatten\n",
        "from tensorflow.keras.layers import Input\n",
        "from tensorflow.keras.layers import concatenate\n",
        "from tensorflow.keras.models import Model\n",
        "import tensorflow as tf\n",
        "import matplotlib.pyplot as plt"
      ],
      "metadata": {
        "id": "UNIXvaKLgusb"
      },
      "execution_count": null,
      "outputs": []
    },
    {
      "cell_type": "code",
      "source": [
        "from google.colab import drive\n",
        "drive.mount('/content/gdrive')"
      ],
      "metadata": {
        "colab": {
          "base_uri": "https://localhost:8080/"
        },
        "id": "1h8ZRAlABEKQ",
        "outputId": "5df7def5-b6fe-4730-b17e-c17480658067"
      },
      "execution_count": null,
      "outputs": [
        {
          "output_type": "stream",
          "name": "stdout",
          "text": [
            "Mounted at /content/gdrive\n"
          ]
        }
      ]
    },
    {
      "cell_type": "markdown",
      "source": [
        "### Use features for training data to perform feature selection"
      ],
      "metadata": {
        "id": "i5qzC9p5El4a"
      }
    },
    {
      "cell_type": "code",
      "source": [
        "training_vio = pd.read_csv('/content/gdrive/MyDrive/Multi_input_data/Violation-training.csv')\n",
        "training_non = pd.read_csv('/content/gdrive/MyDrive/Multi_input_data/Non-violation-training.csv')\n",
        "training = pd.concat([training_vio, training_non], ignore_index=True)\n",
        "training.head()"
      ],
      "metadata": {
        "colab": {
          "base_uri": "https://localhost:8080/",
          "height": 354
        },
        "id": "a8RU__w67SDr",
        "outputId": "787b0024-173d-48a0-be37-8bc5fcdab650"
      },
      "execution_count": null,
      "outputs": [
        {
          "output_type": "execute_result",
          "data": {
            "text/plain": [
              "   Unnamed: 0     File Name  Closest Distance          Human Target  \\\n",
              "0           0     Bpic5.jpg        221.594788    (24, 3, 1028, 972)   \n",
              "1           1     Bpic6.jpg        279.289277  (227, 174, 841, 585)   \n",
              "2           2    Bpic7.jpeg        407.217694   (113, 0, 1027, 610)   \n",
              "3           3  c_photo2.jpg        321.840022  (155, 302, 477, 541)   \n",
              "4           4  c_photo3.jpg        356.719778  (222, 528, 488, 630)   \n",
              "\n",
              "   Human Width  Human Length  Human Area            Animal Taget  \\\n",
              "0          969          1004      972876    (170, 401, 753, 998)   \n",
              "1          411           614      252354    (405, 498, 910, 762)   \n",
              "2          610           914      557540   (251, 437, 1025, 976)   \n",
              "3          239           322       76958    (225, 0, 1025, 1023)   \n",
              "4          102           266       27132  (290, 516, 1020, 1028)   \n",
              "\n",
              "   Animal Width  Animal Length  Animal Area  Area Ratio  Label  \n",
              "0           597            583       348051    2.795211      1  \n",
              "1           264            505       133320    1.892844      1  \n",
              "2           539            774       417186    1.336430      1  \n",
              "3          1023            800       818400   10.634372      1  \n",
              "4           512            730       373760   13.775616      1  "
            ],
            "text/html": [
              "\n",
              "  <div id=\"df-ce2057be-b1a6-4145-b0f5-1ddceaed042f\">\n",
              "    <div class=\"colab-df-container\">\n",
              "      <div>\n",
              "<style scoped>\n",
              "    .dataframe tbody tr th:only-of-type {\n",
              "        vertical-align: middle;\n",
              "    }\n",
              "\n",
              "    .dataframe tbody tr th {\n",
              "        vertical-align: top;\n",
              "    }\n",
              "\n",
              "    .dataframe thead th {\n",
              "        text-align: right;\n",
              "    }\n",
              "</style>\n",
              "<table border=\"1\" class=\"dataframe\">\n",
              "  <thead>\n",
              "    <tr style=\"text-align: right;\">\n",
              "      <th></th>\n",
              "      <th>Unnamed: 0</th>\n",
              "      <th>File Name</th>\n",
              "      <th>Closest Distance</th>\n",
              "      <th>Human Target</th>\n",
              "      <th>Human Width</th>\n",
              "      <th>Human Length</th>\n",
              "      <th>Human Area</th>\n",
              "      <th>Animal Taget</th>\n",
              "      <th>Animal Width</th>\n",
              "      <th>Animal Length</th>\n",
              "      <th>Animal Area</th>\n",
              "      <th>Area Ratio</th>\n",
              "      <th>Label</th>\n",
              "    </tr>\n",
              "  </thead>\n",
              "  <tbody>\n",
              "    <tr>\n",
              "      <th>0</th>\n",
              "      <td>0</td>\n",
              "      <td>Bpic5.jpg</td>\n",
              "      <td>221.594788</td>\n",
              "      <td>(24, 3, 1028, 972)</td>\n",
              "      <td>969</td>\n",
              "      <td>1004</td>\n",
              "      <td>972876</td>\n",
              "      <td>(170, 401, 753, 998)</td>\n",
              "      <td>597</td>\n",
              "      <td>583</td>\n",
              "      <td>348051</td>\n",
              "      <td>2.795211</td>\n",
              "      <td>1</td>\n",
              "    </tr>\n",
              "    <tr>\n",
              "      <th>1</th>\n",
              "      <td>1</td>\n",
              "      <td>Bpic6.jpg</td>\n",
              "      <td>279.289277</td>\n",
              "      <td>(227, 174, 841, 585)</td>\n",
              "      <td>411</td>\n",
              "      <td>614</td>\n",
              "      <td>252354</td>\n",
              "      <td>(405, 498, 910, 762)</td>\n",
              "      <td>264</td>\n",
              "      <td>505</td>\n",
              "      <td>133320</td>\n",
              "      <td>1.892844</td>\n",
              "      <td>1</td>\n",
              "    </tr>\n",
              "    <tr>\n",
              "      <th>2</th>\n",
              "      <td>2</td>\n",
              "      <td>Bpic7.jpeg</td>\n",
              "      <td>407.217694</td>\n",
              "      <td>(113, 0, 1027, 610)</td>\n",
              "      <td>610</td>\n",
              "      <td>914</td>\n",
              "      <td>557540</td>\n",
              "      <td>(251, 437, 1025, 976)</td>\n",
              "      <td>539</td>\n",
              "      <td>774</td>\n",
              "      <td>417186</td>\n",
              "      <td>1.336430</td>\n",
              "      <td>1</td>\n",
              "    </tr>\n",
              "    <tr>\n",
              "      <th>3</th>\n",
              "      <td>3</td>\n",
              "      <td>c_photo2.jpg</td>\n",
              "      <td>321.840022</td>\n",
              "      <td>(155, 302, 477, 541)</td>\n",
              "      <td>239</td>\n",
              "      <td>322</td>\n",
              "      <td>76958</td>\n",
              "      <td>(225, 0, 1025, 1023)</td>\n",
              "      <td>1023</td>\n",
              "      <td>800</td>\n",
              "      <td>818400</td>\n",
              "      <td>10.634372</td>\n",
              "      <td>1</td>\n",
              "    </tr>\n",
              "    <tr>\n",
              "      <th>4</th>\n",
              "      <td>4</td>\n",
              "      <td>c_photo3.jpg</td>\n",
              "      <td>356.719778</td>\n",
              "      <td>(222, 528, 488, 630)</td>\n",
              "      <td>102</td>\n",
              "      <td>266</td>\n",
              "      <td>27132</td>\n",
              "      <td>(290, 516, 1020, 1028)</td>\n",
              "      <td>512</td>\n",
              "      <td>730</td>\n",
              "      <td>373760</td>\n",
              "      <td>13.775616</td>\n",
              "      <td>1</td>\n",
              "    </tr>\n",
              "  </tbody>\n",
              "</table>\n",
              "</div>\n",
              "      <button class=\"colab-df-convert\" onclick=\"convertToInteractive('df-ce2057be-b1a6-4145-b0f5-1ddceaed042f')\"\n",
              "              title=\"Convert this dataframe to an interactive table.\"\n",
              "              style=\"display:none;\">\n",
              "        \n",
              "  <svg xmlns=\"http://www.w3.org/2000/svg\" height=\"24px\"viewBox=\"0 0 24 24\"\n",
              "       width=\"24px\">\n",
              "    <path d=\"M0 0h24v24H0V0z\" fill=\"none\"/>\n",
              "    <path d=\"M18.56 5.44l.94 2.06.94-2.06 2.06-.94-2.06-.94-.94-2.06-.94 2.06-2.06.94zm-11 1L8.5 8.5l.94-2.06 2.06-.94-2.06-.94L8.5 2.5l-.94 2.06-2.06.94zm10 10l.94 2.06.94-2.06 2.06-.94-2.06-.94-.94-2.06-.94 2.06-2.06.94z\"/><path d=\"M17.41 7.96l-1.37-1.37c-.4-.4-.92-.59-1.43-.59-.52 0-1.04.2-1.43.59L10.3 9.45l-7.72 7.72c-.78.78-.78 2.05 0 2.83L4 21.41c.39.39.9.59 1.41.59.51 0 1.02-.2 1.41-.59l7.78-7.78 2.81-2.81c.8-.78.8-2.07 0-2.86zM5.41 20L4 18.59l7.72-7.72 1.47 1.35L5.41 20z\"/>\n",
              "  </svg>\n",
              "      </button>\n",
              "      \n",
              "  <style>\n",
              "    .colab-df-container {\n",
              "      display:flex;\n",
              "      flex-wrap:wrap;\n",
              "      gap: 12px;\n",
              "    }\n",
              "\n",
              "    .colab-df-convert {\n",
              "      background-color: #E8F0FE;\n",
              "      border: none;\n",
              "      border-radius: 50%;\n",
              "      cursor: pointer;\n",
              "      display: none;\n",
              "      fill: #1967D2;\n",
              "      height: 32px;\n",
              "      padding: 0 0 0 0;\n",
              "      width: 32px;\n",
              "    }\n",
              "\n",
              "    .colab-df-convert:hover {\n",
              "      background-color: #E2EBFA;\n",
              "      box-shadow: 0px 1px 2px rgba(60, 64, 67, 0.3), 0px 1px 3px 1px rgba(60, 64, 67, 0.15);\n",
              "      fill: #174EA6;\n",
              "    }\n",
              "\n",
              "    [theme=dark] .colab-df-convert {\n",
              "      background-color: #3B4455;\n",
              "      fill: #D2E3FC;\n",
              "    }\n",
              "\n",
              "    [theme=dark] .colab-df-convert:hover {\n",
              "      background-color: #434B5C;\n",
              "      box-shadow: 0px 1px 3px 1px rgba(0, 0, 0, 0.15);\n",
              "      filter: drop-shadow(0px 1px 2px rgba(0, 0, 0, 0.3));\n",
              "      fill: #FFFFFF;\n",
              "    }\n",
              "  </style>\n",
              "\n",
              "      <script>\n",
              "        const buttonEl =\n",
              "          document.querySelector('#df-ce2057be-b1a6-4145-b0f5-1ddceaed042f button.colab-df-convert');\n",
              "        buttonEl.style.display =\n",
              "          google.colab.kernel.accessAllowed ? 'block' : 'none';\n",
              "\n",
              "        async function convertToInteractive(key) {\n",
              "          const element = document.querySelector('#df-ce2057be-b1a6-4145-b0f5-1ddceaed042f');\n",
              "          const dataTable =\n",
              "            await google.colab.kernel.invokeFunction('convertToInteractive',\n",
              "                                                     [key], {});\n",
              "          if (!dataTable) return;\n",
              "\n",
              "          const docLinkHtml = 'Like what you see? Visit the ' +\n",
              "            '<a target=\"_blank\" href=https://colab.research.google.com/notebooks/data_table.ipynb>data table notebook</a>'\n",
              "            + ' to learn more about interactive tables.';\n",
              "          element.innerHTML = '';\n",
              "          dataTable['output_type'] = 'display_data';\n",
              "          await google.colab.output.renderOutput(dataTable, element);\n",
              "          const docLink = document.createElement('div');\n",
              "          docLink.innerHTML = docLinkHtml;\n",
              "          element.appendChild(docLink);\n",
              "        }\n",
              "      </script>\n",
              "    </div>\n",
              "  </div>\n",
              "  "
            ]
          },
          "metadata": {},
          "execution_count": 3
        }
      ]
    },
    {
      "cell_type": "code",
      "source": [
        "h_ymin = []\n",
        "h_xmin = []\n",
        "h_ymax = [] \n",
        "h_xmax = []\n",
        "for i in training['Human Target']:\n",
        "  goal = i[1:-1].split(\",\")\n",
        "  h_ymin.append(int(goal[0]))\n",
        "  h_xmin.append(int(goal[1]))\n",
        "  h_ymax.append(int(goal[2]))\n",
        "  h_xmax.append(int(goal[-1]))\n",
        "\n",
        "training['h_ymin'] = h_ymin\n",
        "training['h_xmin'] = h_xmin\n",
        "training['h_ymax'] = h_ymax\n",
        "training['h_xmax'] = h_xmax\n",
        "\n",
        "training.head()\n"
      ],
      "metadata": {
        "colab": {
          "base_uri": "https://localhost:8080/",
          "height": 389
        },
        "id": "2EME23I57iZq",
        "outputId": "b858f9a2-c972-402b-e1f0-7813b0d0ee42"
      },
      "execution_count": null,
      "outputs": [
        {
          "output_type": "execute_result",
          "data": {
            "text/plain": [
              "   Unnamed: 0     File Name  Closest Distance          Human Target  \\\n",
              "0           0     Bpic5.jpg        221.594788    (24, 3, 1028, 972)   \n",
              "1           1     Bpic6.jpg        279.289277  (227, 174, 841, 585)   \n",
              "2           2    Bpic7.jpeg        407.217694   (113, 0, 1027, 610)   \n",
              "3           3  c_photo2.jpg        321.840022  (155, 302, 477, 541)   \n",
              "4           4  c_photo3.jpg        356.719778  (222, 528, 488, 630)   \n",
              "\n",
              "   Human Width  Human Length  Human Area            Animal Taget  \\\n",
              "0          969          1004      972876    (170, 401, 753, 998)   \n",
              "1          411           614      252354    (405, 498, 910, 762)   \n",
              "2          610           914      557540   (251, 437, 1025, 976)   \n",
              "3          239           322       76958    (225, 0, 1025, 1023)   \n",
              "4          102           266       27132  (290, 516, 1020, 1028)   \n",
              "\n",
              "   Animal Width  Animal Length  Animal Area  Area Ratio  Label  h_ymin  \\\n",
              "0           597            583       348051    2.795211      1      24   \n",
              "1           264            505       133320    1.892844      1     227   \n",
              "2           539            774       417186    1.336430      1     113   \n",
              "3          1023            800       818400   10.634372      1     155   \n",
              "4           512            730       373760   13.775616      1     222   \n",
              "\n",
              "   h_xmin  h_ymax  h_xmax  \n",
              "0       3    1028     972  \n",
              "1     174     841     585  \n",
              "2       0    1027     610  \n",
              "3     302     477     541  \n",
              "4     528     488     630  "
            ],
            "text/html": [
              "\n",
              "  <div id=\"df-2485f309-7dc6-44b8-bc46-b44a8e892e24\">\n",
              "    <div class=\"colab-df-container\">\n",
              "      <div>\n",
              "<style scoped>\n",
              "    .dataframe tbody tr th:only-of-type {\n",
              "        vertical-align: middle;\n",
              "    }\n",
              "\n",
              "    .dataframe tbody tr th {\n",
              "        vertical-align: top;\n",
              "    }\n",
              "\n",
              "    .dataframe thead th {\n",
              "        text-align: right;\n",
              "    }\n",
              "</style>\n",
              "<table border=\"1\" class=\"dataframe\">\n",
              "  <thead>\n",
              "    <tr style=\"text-align: right;\">\n",
              "      <th></th>\n",
              "      <th>Unnamed: 0</th>\n",
              "      <th>File Name</th>\n",
              "      <th>Closest Distance</th>\n",
              "      <th>Human Target</th>\n",
              "      <th>Human Width</th>\n",
              "      <th>Human Length</th>\n",
              "      <th>Human Area</th>\n",
              "      <th>Animal Taget</th>\n",
              "      <th>Animal Width</th>\n",
              "      <th>Animal Length</th>\n",
              "      <th>Animal Area</th>\n",
              "      <th>Area Ratio</th>\n",
              "      <th>Label</th>\n",
              "      <th>h_ymin</th>\n",
              "      <th>h_xmin</th>\n",
              "      <th>h_ymax</th>\n",
              "      <th>h_xmax</th>\n",
              "    </tr>\n",
              "  </thead>\n",
              "  <tbody>\n",
              "    <tr>\n",
              "      <th>0</th>\n",
              "      <td>0</td>\n",
              "      <td>Bpic5.jpg</td>\n",
              "      <td>221.594788</td>\n",
              "      <td>(24, 3, 1028, 972)</td>\n",
              "      <td>969</td>\n",
              "      <td>1004</td>\n",
              "      <td>972876</td>\n",
              "      <td>(170, 401, 753, 998)</td>\n",
              "      <td>597</td>\n",
              "      <td>583</td>\n",
              "      <td>348051</td>\n",
              "      <td>2.795211</td>\n",
              "      <td>1</td>\n",
              "      <td>24</td>\n",
              "      <td>3</td>\n",
              "      <td>1028</td>\n",
              "      <td>972</td>\n",
              "    </tr>\n",
              "    <tr>\n",
              "      <th>1</th>\n",
              "      <td>1</td>\n",
              "      <td>Bpic6.jpg</td>\n",
              "      <td>279.289277</td>\n",
              "      <td>(227, 174, 841, 585)</td>\n",
              "      <td>411</td>\n",
              "      <td>614</td>\n",
              "      <td>252354</td>\n",
              "      <td>(405, 498, 910, 762)</td>\n",
              "      <td>264</td>\n",
              "      <td>505</td>\n",
              "      <td>133320</td>\n",
              "      <td>1.892844</td>\n",
              "      <td>1</td>\n",
              "      <td>227</td>\n",
              "      <td>174</td>\n",
              "      <td>841</td>\n",
              "      <td>585</td>\n",
              "    </tr>\n",
              "    <tr>\n",
              "      <th>2</th>\n",
              "      <td>2</td>\n",
              "      <td>Bpic7.jpeg</td>\n",
              "      <td>407.217694</td>\n",
              "      <td>(113, 0, 1027, 610)</td>\n",
              "      <td>610</td>\n",
              "      <td>914</td>\n",
              "      <td>557540</td>\n",
              "      <td>(251, 437, 1025, 976)</td>\n",
              "      <td>539</td>\n",
              "      <td>774</td>\n",
              "      <td>417186</td>\n",
              "      <td>1.336430</td>\n",
              "      <td>1</td>\n",
              "      <td>113</td>\n",
              "      <td>0</td>\n",
              "      <td>1027</td>\n",
              "      <td>610</td>\n",
              "    </tr>\n",
              "    <tr>\n",
              "      <th>3</th>\n",
              "      <td>3</td>\n",
              "      <td>c_photo2.jpg</td>\n",
              "      <td>321.840022</td>\n",
              "      <td>(155, 302, 477, 541)</td>\n",
              "      <td>239</td>\n",
              "      <td>322</td>\n",
              "      <td>76958</td>\n",
              "      <td>(225, 0, 1025, 1023)</td>\n",
              "      <td>1023</td>\n",
              "      <td>800</td>\n",
              "      <td>818400</td>\n",
              "      <td>10.634372</td>\n",
              "      <td>1</td>\n",
              "      <td>155</td>\n",
              "      <td>302</td>\n",
              "      <td>477</td>\n",
              "      <td>541</td>\n",
              "    </tr>\n",
              "    <tr>\n",
              "      <th>4</th>\n",
              "      <td>4</td>\n",
              "      <td>c_photo3.jpg</td>\n",
              "      <td>356.719778</td>\n",
              "      <td>(222, 528, 488, 630)</td>\n",
              "      <td>102</td>\n",
              "      <td>266</td>\n",
              "      <td>27132</td>\n",
              "      <td>(290, 516, 1020, 1028)</td>\n",
              "      <td>512</td>\n",
              "      <td>730</td>\n",
              "      <td>373760</td>\n",
              "      <td>13.775616</td>\n",
              "      <td>1</td>\n",
              "      <td>222</td>\n",
              "      <td>528</td>\n",
              "      <td>488</td>\n",
              "      <td>630</td>\n",
              "    </tr>\n",
              "  </tbody>\n",
              "</table>\n",
              "</div>\n",
              "      <button class=\"colab-df-convert\" onclick=\"convertToInteractive('df-2485f309-7dc6-44b8-bc46-b44a8e892e24')\"\n",
              "              title=\"Convert this dataframe to an interactive table.\"\n",
              "              style=\"display:none;\">\n",
              "        \n",
              "  <svg xmlns=\"http://www.w3.org/2000/svg\" height=\"24px\"viewBox=\"0 0 24 24\"\n",
              "       width=\"24px\">\n",
              "    <path d=\"M0 0h24v24H0V0z\" fill=\"none\"/>\n",
              "    <path d=\"M18.56 5.44l.94 2.06.94-2.06 2.06-.94-2.06-.94-.94-2.06-.94 2.06-2.06.94zm-11 1L8.5 8.5l.94-2.06 2.06-.94-2.06-.94L8.5 2.5l-.94 2.06-2.06.94zm10 10l.94 2.06.94-2.06 2.06-.94-2.06-.94-.94-2.06-.94 2.06-2.06.94z\"/><path d=\"M17.41 7.96l-1.37-1.37c-.4-.4-.92-.59-1.43-.59-.52 0-1.04.2-1.43.59L10.3 9.45l-7.72 7.72c-.78.78-.78 2.05 0 2.83L4 21.41c.39.39.9.59 1.41.59.51 0 1.02-.2 1.41-.59l7.78-7.78 2.81-2.81c.8-.78.8-2.07 0-2.86zM5.41 20L4 18.59l7.72-7.72 1.47 1.35L5.41 20z\"/>\n",
              "  </svg>\n",
              "      </button>\n",
              "      \n",
              "  <style>\n",
              "    .colab-df-container {\n",
              "      display:flex;\n",
              "      flex-wrap:wrap;\n",
              "      gap: 12px;\n",
              "    }\n",
              "\n",
              "    .colab-df-convert {\n",
              "      background-color: #E8F0FE;\n",
              "      border: none;\n",
              "      border-radius: 50%;\n",
              "      cursor: pointer;\n",
              "      display: none;\n",
              "      fill: #1967D2;\n",
              "      height: 32px;\n",
              "      padding: 0 0 0 0;\n",
              "      width: 32px;\n",
              "    }\n",
              "\n",
              "    .colab-df-convert:hover {\n",
              "      background-color: #E2EBFA;\n",
              "      box-shadow: 0px 1px 2px rgba(60, 64, 67, 0.3), 0px 1px 3px 1px rgba(60, 64, 67, 0.15);\n",
              "      fill: #174EA6;\n",
              "    }\n",
              "\n",
              "    [theme=dark] .colab-df-convert {\n",
              "      background-color: #3B4455;\n",
              "      fill: #D2E3FC;\n",
              "    }\n",
              "\n",
              "    [theme=dark] .colab-df-convert:hover {\n",
              "      background-color: #434B5C;\n",
              "      box-shadow: 0px 1px 3px 1px rgba(0, 0, 0, 0.15);\n",
              "      filter: drop-shadow(0px 1px 2px rgba(0, 0, 0, 0.3));\n",
              "      fill: #FFFFFF;\n",
              "    }\n",
              "  </style>\n",
              "\n",
              "      <script>\n",
              "        const buttonEl =\n",
              "          document.querySelector('#df-2485f309-7dc6-44b8-bc46-b44a8e892e24 button.colab-df-convert');\n",
              "        buttonEl.style.display =\n",
              "          google.colab.kernel.accessAllowed ? 'block' : 'none';\n",
              "\n",
              "        async function convertToInteractive(key) {\n",
              "          const element = document.querySelector('#df-2485f309-7dc6-44b8-bc46-b44a8e892e24');\n",
              "          const dataTable =\n",
              "            await google.colab.kernel.invokeFunction('convertToInteractive',\n",
              "                                                     [key], {});\n",
              "          if (!dataTable) return;\n",
              "\n",
              "          const docLinkHtml = 'Like what you see? Visit the ' +\n",
              "            '<a target=\"_blank\" href=https://colab.research.google.com/notebooks/data_table.ipynb>data table notebook</a>'\n",
              "            + ' to learn more about interactive tables.';\n",
              "          element.innerHTML = '';\n",
              "          dataTable['output_type'] = 'display_data';\n",
              "          await google.colab.output.renderOutput(dataTable, element);\n",
              "          const docLink = document.createElement('div');\n",
              "          docLink.innerHTML = docLinkHtml;\n",
              "          element.appendChild(docLink);\n",
              "        }\n",
              "      </script>\n",
              "    </div>\n",
              "  </div>\n",
              "  "
            ]
          },
          "metadata": {},
          "execution_count": 4
        }
      ]
    },
    {
      "cell_type": "code",
      "source": [
        "a_ymin = []\n",
        "a_xmin = []\n",
        "a_ymax = [] \n",
        "a_xmax = []\n",
        "for i in training['Animal Taget']:\n",
        "  goal = i[1:-1].split(\",\")\n",
        "  a_ymin.append(int(goal[0]))\n",
        "  a_xmin.append(int(goal[1]))\n",
        "  a_ymax.append(int(goal[2]))\n",
        "  a_xmax.append(int(goal[-1]))\n",
        "\n",
        "training['a_ymin'] = a_ymin\n",
        "training['a_xmin'] = a_xmin\n",
        "training['a_ymax'] = a_ymax\n",
        "training['a_xmax'] = a_xmax\n",
        "\n",
        "training.head()"
      ],
      "metadata": {
        "colab": {
          "base_uri": "https://localhost:8080/",
          "height": 577
        },
        "id": "Fh4KrDXI-PsF",
        "outputId": "7415ea5e-1583-4443-de32-dd8f1346805b"
      },
      "execution_count": null,
      "outputs": [
        {
          "output_type": "execute_result",
          "data": {
            "text/plain": [
              "   Unnamed: 0     File Name  Closest Distance          Human Target  \\\n",
              "0           0     Bpic5.jpg        221.594788    (24, 3, 1028, 972)   \n",
              "1           1     Bpic6.jpg        279.289277  (227, 174, 841, 585)   \n",
              "2           2    Bpic7.jpeg        407.217694   (113, 0, 1027, 610)   \n",
              "3           3  c_photo2.jpg        321.840022  (155, 302, 477, 541)   \n",
              "4           4  c_photo3.jpg        356.719778  (222, 528, 488, 630)   \n",
              "\n",
              "   Human Width  Human Length  Human Area            Animal Taget  \\\n",
              "0          969          1004      972876    (170, 401, 753, 998)   \n",
              "1          411           614      252354    (405, 498, 910, 762)   \n",
              "2          610           914      557540   (251, 437, 1025, 976)   \n",
              "3          239           322       76958    (225, 0, 1025, 1023)   \n",
              "4          102           266       27132  (290, 516, 1020, 1028)   \n",
              "\n",
              "   Animal Width  Animal Length  ...  Area Ratio  Label  h_ymin  h_xmin  \\\n",
              "0           597            583  ...    2.795211      1      24       3   \n",
              "1           264            505  ...    1.892844      1     227     174   \n",
              "2           539            774  ...    1.336430      1     113       0   \n",
              "3          1023            800  ...   10.634372      1     155     302   \n",
              "4           512            730  ...   13.775616      1     222     528   \n",
              "\n",
              "   h_ymax  h_xmax  a_ymin  a_xmin  a_ymax  a_xmax  \n",
              "0    1028     972     170     401     753     998  \n",
              "1     841     585     405     498     910     762  \n",
              "2    1027     610     251     437    1025     976  \n",
              "3     477     541     225       0    1025    1023  \n",
              "4     488     630     290     516    1020    1028  \n",
              "\n",
              "[5 rows x 21 columns]"
            ],
            "text/html": [
              "\n",
              "  <div id=\"df-6aaa9695-c8ba-40df-b400-1b14a05a45f8\">\n",
              "    <div class=\"colab-df-container\">\n",
              "      <div>\n",
              "<style scoped>\n",
              "    .dataframe tbody tr th:only-of-type {\n",
              "        vertical-align: middle;\n",
              "    }\n",
              "\n",
              "    .dataframe tbody tr th {\n",
              "        vertical-align: top;\n",
              "    }\n",
              "\n",
              "    .dataframe thead th {\n",
              "        text-align: right;\n",
              "    }\n",
              "</style>\n",
              "<table border=\"1\" class=\"dataframe\">\n",
              "  <thead>\n",
              "    <tr style=\"text-align: right;\">\n",
              "      <th></th>\n",
              "      <th>Unnamed: 0</th>\n",
              "      <th>File Name</th>\n",
              "      <th>Closest Distance</th>\n",
              "      <th>Human Target</th>\n",
              "      <th>Human Width</th>\n",
              "      <th>Human Length</th>\n",
              "      <th>Human Area</th>\n",
              "      <th>Animal Taget</th>\n",
              "      <th>Animal Width</th>\n",
              "      <th>Animal Length</th>\n",
              "      <th>...</th>\n",
              "      <th>Area Ratio</th>\n",
              "      <th>Label</th>\n",
              "      <th>h_ymin</th>\n",
              "      <th>h_xmin</th>\n",
              "      <th>h_ymax</th>\n",
              "      <th>h_xmax</th>\n",
              "      <th>a_ymin</th>\n",
              "      <th>a_xmin</th>\n",
              "      <th>a_ymax</th>\n",
              "      <th>a_xmax</th>\n",
              "    </tr>\n",
              "  </thead>\n",
              "  <tbody>\n",
              "    <tr>\n",
              "      <th>0</th>\n",
              "      <td>0</td>\n",
              "      <td>Bpic5.jpg</td>\n",
              "      <td>221.594788</td>\n",
              "      <td>(24, 3, 1028, 972)</td>\n",
              "      <td>969</td>\n",
              "      <td>1004</td>\n",
              "      <td>972876</td>\n",
              "      <td>(170, 401, 753, 998)</td>\n",
              "      <td>597</td>\n",
              "      <td>583</td>\n",
              "      <td>...</td>\n",
              "      <td>2.795211</td>\n",
              "      <td>1</td>\n",
              "      <td>24</td>\n",
              "      <td>3</td>\n",
              "      <td>1028</td>\n",
              "      <td>972</td>\n",
              "      <td>170</td>\n",
              "      <td>401</td>\n",
              "      <td>753</td>\n",
              "      <td>998</td>\n",
              "    </tr>\n",
              "    <tr>\n",
              "      <th>1</th>\n",
              "      <td>1</td>\n",
              "      <td>Bpic6.jpg</td>\n",
              "      <td>279.289277</td>\n",
              "      <td>(227, 174, 841, 585)</td>\n",
              "      <td>411</td>\n",
              "      <td>614</td>\n",
              "      <td>252354</td>\n",
              "      <td>(405, 498, 910, 762)</td>\n",
              "      <td>264</td>\n",
              "      <td>505</td>\n",
              "      <td>...</td>\n",
              "      <td>1.892844</td>\n",
              "      <td>1</td>\n",
              "      <td>227</td>\n",
              "      <td>174</td>\n",
              "      <td>841</td>\n",
              "      <td>585</td>\n",
              "      <td>405</td>\n",
              "      <td>498</td>\n",
              "      <td>910</td>\n",
              "      <td>762</td>\n",
              "    </tr>\n",
              "    <tr>\n",
              "      <th>2</th>\n",
              "      <td>2</td>\n",
              "      <td>Bpic7.jpeg</td>\n",
              "      <td>407.217694</td>\n",
              "      <td>(113, 0, 1027, 610)</td>\n",
              "      <td>610</td>\n",
              "      <td>914</td>\n",
              "      <td>557540</td>\n",
              "      <td>(251, 437, 1025, 976)</td>\n",
              "      <td>539</td>\n",
              "      <td>774</td>\n",
              "      <td>...</td>\n",
              "      <td>1.336430</td>\n",
              "      <td>1</td>\n",
              "      <td>113</td>\n",
              "      <td>0</td>\n",
              "      <td>1027</td>\n",
              "      <td>610</td>\n",
              "      <td>251</td>\n",
              "      <td>437</td>\n",
              "      <td>1025</td>\n",
              "      <td>976</td>\n",
              "    </tr>\n",
              "    <tr>\n",
              "      <th>3</th>\n",
              "      <td>3</td>\n",
              "      <td>c_photo2.jpg</td>\n",
              "      <td>321.840022</td>\n",
              "      <td>(155, 302, 477, 541)</td>\n",
              "      <td>239</td>\n",
              "      <td>322</td>\n",
              "      <td>76958</td>\n",
              "      <td>(225, 0, 1025, 1023)</td>\n",
              "      <td>1023</td>\n",
              "      <td>800</td>\n",
              "      <td>...</td>\n",
              "      <td>10.634372</td>\n",
              "      <td>1</td>\n",
              "      <td>155</td>\n",
              "      <td>302</td>\n",
              "      <td>477</td>\n",
              "      <td>541</td>\n",
              "      <td>225</td>\n",
              "      <td>0</td>\n",
              "      <td>1025</td>\n",
              "      <td>1023</td>\n",
              "    </tr>\n",
              "    <tr>\n",
              "      <th>4</th>\n",
              "      <td>4</td>\n",
              "      <td>c_photo3.jpg</td>\n",
              "      <td>356.719778</td>\n",
              "      <td>(222, 528, 488, 630)</td>\n",
              "      <td>102</td>\n",
              "      <td>266</td>\n",
              "      <td>27132</td>\n",
              "      <td>(290, 516, 1020, 1028)</td>\n",
              "      <td>512</td>\n",
              "      <td>730</td>\n",
              "      <td>...</td>\n",
              "      <td>13.775616</td>\n",
              "      <td>1</td>\n",
              "      <td>222</td>\n",
              "      <td>528</td>\n",
              "      <td>488</td>\n",
              "      <td>630</td>\n",
              "      <td>290</td>\n",
              "      <td>516</td>\n",
              "      <td>1020</td>\n",
              "      <td>1028</td>\n",
              "    </tr>\n",
              "  </tbody>\n",
              "</table>\n",
              "<p>5 rows × 21 columns</p>\n",
              "</div>\n",
              "      <button class=\"colab-df-convert\" onclick=\"convertToInteractive('df-6aaa9695-c8ba-40df-b400-1b14a05a45f8')\"\n",
              "              title=\"Convert this dataframe to an interactive table.\"\n",
              "              style=\"display:none;\">\n",
              "        \n",
              "  <svg xmlns=\"http://www.w3.org/2000/svg\" height=\"24px\"viewBox=\"0 0 24 24\"\n",
              "       width=\"24px\">\n",
              "    <path d=\"M0 0h24v24H0V0z\" fill=\"none\"/>\n",
              "    <path d=\"M18.56 5.44l.94 2.06.94-2.06 2.06-.94-2.06-.94-.94-2.06-.94 2.06-2.06.94zm-11 1L8.5 8.5l.94-2.06 2.06-.94-2.06-.94L8.5 2.5l-.94 2.06-2.06.94zm10 10l.94 2.06.94-2.06 2.06-.94-2.06-.94-.94-2.06-.94 2.06-2.06.94z\"/><path d=\"M17.41 7.96l-1.37-1.37c-.4-.4-.92-.59-1.43-.59-.52 0-1.04.2-1.43.59L10.3 9.45l-7.72 7.72c-.78.78-.78 2.05 0 2.83L4 21.41c.39.39.9.59 1.41.59.51 0 1.02-.2 1.41-.59l7.78-7.78 2.81-2.81c.8-.78.8-2.07 0-2.86zM5.41 20L4 18.59l7.72-7.72 1.47 1.35L5.41 20z\"/>\n",
              "  </svg>\n",
              "      </button>\n",
              "      \n",
              "  <style>\n",
              "    .colab-df-container {\n",
              "      display:flex;\n",
              "      flex-wrap:wrap;\n",
              "      gap: 12px;\n",
              "    }\n",
              "\n",
              "    .colab-df-convert {\n",
              "      background-color: #E8F0FE;\n",
              "      border: none;\n",
              "      border-radius: 50%;\n",
              "      cursor: pointer;\n",
              "      display: none;\n",
              "      fill: #1967D2;\n",
              "      height: 32px;\n",
              "      padding: 0 0 0 0;\n",
              "      width: 32px;\n",
              "    }\n",
              "\n",
              "    .colab-df-convert:hover {\n",
              "      background-color: #E2EBFA;\n",
              "      box-shadow: 0px 1px 2px rgba(60, 64, 67, 0.3), 0px 1px 3px 1px rgba(60, 64, 67, 0.15);\n",
              "      fill: #174EA6;\n",
              "    }\n",
              "\n",
              "    [theme=dark] .colab-df-convert {\n",
              "      background-color: #3B4455;\n",
              "      fill: #D2E3FC;\n",
              "    }\n",
              "\n",
              "    [theme=dark] .colab-df-convert:hover {\n",
              "      background-color: #434B5C;\n",
              "      box-shadow: 0px 1px 3px 1px rgba(0, 0, 0, 0.15);\n",
              "      filter: drop-shadow(0px 1px 2px rgba(0, 0, 0, 0.3));\n",
              "      fill: #FFFFFF;\n",
              "    }\n",
              "  </style>\n",
              "\n",
              "      <script>\n",
              "        const buttonEl =\n",
              "          document.querySelector('#df-6aaa9695-c8ba-40df-b400-1b14a05a45f8 button.colab-df-convert');\n",
              "        buttonEl.style.display =\n",
              "          google.colab.kernel.accessAllowed ? 'block' : 'none';\n",
              "\n",
              "        async function convertToInteractive(key) {\n",
              "          const element = document.querySelector('#df-6aaa9695-c8ba-40df-b400-1b14a05a45f8');\n",
              "          const dataTable =\n",
              "            await google.colab.kernel.invokeFunction('convertToInteractive',\n",
              "                                                     [key], {});\n",
              "          if (!dataTable) return;\n",
              "\n",
              "          const docLinkHtml = 'Like what you see? Visit the ' +\n",
              "            '<a target=\"_blank\" href=https://colab.research.google.com/notebooks/data_table.ipynb>data table notebook</a>'\n",
              "            + ' to learn more about interactive tables.';\n",
              "          element.innerHTML = '';\n",
              "          dataTable['output_type'] = 'display_data';\n",
              "          await google.colab.output.renderOutput(dataTable, element);\n",
              "          const docLink = document.createElement('div');\n",
              "          docLink.innerHTML = docLinkHtml;\n",
              "          element.appendChild(docLink);\n",
              "        }\n",
              "      </script>\n",
              "    </div>\n",
              "  </div>\n",
              "  "
            ]
          },
          "metadata": {},
          "execution_count": 5
        }
      ]
    },
    {
      "cell_type": "code",
      "source": [
        "training['midx_h'] = (training['h_xmin'] + training['h_xmax'])/2\n",
        "training['midy_h'] = (training['h_ymin'] + training['h_ymax'])/2\n",
        "training['midx_a'] = (training['a_xmin'] + training['a_xmax'])/2\n",
        "training['midy_a'] = (training['a_ymin'] + training['a_ymax'])/2\n",
        "training.head()"
      ],
      "metadata": {
        "colab": {
          "base_uri": "https://localhost:8080/",
          "height": 577
        },
        "id": "7XNaciZc-mWP",
        "outputId": "a0551598-886b-403f-f829-32e1d3f3805f"
      },
      "execution_count": null,
      "outputs": [
        {
          "output_type": "execute_result",
          "data": {
            "text/plain": [
              "   Unnamed: 0     File Name  Closest Distance          Human Target  \\\n",
              "0           0     Bpic5.jpg        221.594788    (24, 3, 1028, 972)   \n",
              "1           1     Bpic6.jpg        279.289277  (227, 174, 841, 585)   \n",
              "2           2    Bpic7.jpeg        407.217694   (113, 0, 1027, 610)   \n",
              "3           3  c_photo2.jpg        321.840022  (155, 302, 477, 541)   \n",
              "4           4  c_photo3.jpg        356.719778  (222, 528, 488, 630)   \n",
              "\n",
              "   Human Width  Human Length  Human Area            Animal Taget  \\\n",
              "0          969          1004      972876    (170, 401, 753, 998)   \n",
              "1          411           614      252354    (405, 498, 910, 762)   \n",
              "2          610           914      557540   (251, 437, 1025, 976)   \n",
              "3          239           322       76958    (225, 0, 1025, 1023)   \n",
              "4          102           266       27132  (290, 516, 1020, 1028)   \n",
              "\n",
              "   Animal Width  Animal Length  ...  h_ymax  h_xmax  a_ymin  a_xmin  a_ymax  \\\n",
              "0           597            583  ...    1028     972     170     401     753   \n",
              "1           264            505  ...     841     585     405     498     910   \n",
              "2           539            774  ...    1027     610     251     437    1025   \n",
              "3          1023            800  ...     477     541     225       0    1025   \n",
              "4           512            730  ...     488     630     290     516    1020   \n",
              "\n",
              "   a_xmax  midx_h  midy_h  midx_a  midy_a  \n",
              "0     998   487.5   526.0   699.5   461.5  \n",
              "1     762   379.5   534.0   630.0   657.5  \n",
              "2     976   305.0   570.0   706.5   638.0  \n",
              "3    1023   421.5   316.0   511.5   625.0  \n",
              "4    1028   579.0   355.0   772.0   655.0  \n",
              "\n",
              "[5 rows x 25 columns]"
            ],
            "text/html": [
              "\n",
              "  <div id=\"df-e0099b5f-2eda-45a0-b1ae-9fb8314d01f5\">\n",
              "    <div class=\"colab-df-container\">\n",
              "      <div>\n",
              "<style scoped>\n",
              "    .dataframe tbody tr th:only-of-type {\n",
              "        vertical-align: middle;\n",
              "    }\n",
              "\n",
              "    .dataframe tbody tr th {\n",
              "        vertical-align: top;\n",
              "    }\n",
              "\n",
              "    .dataframe thead th {\n",
              "        text-align: right;\n",
              "    }\n",
              "</style>\n",
              "<table border=\"1\" class=\"dataframe\">\n",
              "  <thead>\n",
              "    <tr style=\"text-align: right;\">\n",
              "      <th></th>\n",
              "      <th>Unnamed: 0</th>\n",
              "      <th>File Name</th>\n",
              "      <th>Closest Distance</th>\n",
              "      <th>Human Target</th>\n",
              "      <th>Human Width</th>\n",
              "      <th>Human Length</th>\n",
              "      <th>Human Area</th>\n",
              "      <th>Animal Taget</th>\n",
              "      <th>Animal Width</th>\n",
              "      <th>Animal Length</th>\n",
              "      <th>...</th>\n",
              "      <th>h_ymax</th>\n",
              "      <th>h_xmax</th>\n",
              "      <th>a_ymin</th>\n",
              "      <th>a_xmin</th>\n",
              "      <th>a_ymax</th>\n",
              "      <th>a_xmax</th>\n",
              "      <th>midx_h</th>\n",
              "      <th>midy_h</th>\n",
              "      <th>midx_a</th>\n",
              "      <th>midy_a</th>\n",
              "    </tr>\n",
              "  </thead>\n",
              "  <tbody>\n",
              "    <tr>\n",
              "      <th>0</th>\n",
              "      <td>0</td>\n",
              "      <td>Bpic5.jpg</td>\n",
              "      <td>221.594788</td>\n",
              "      <td>(24, 3, 1028, 972)</td>\n",
              "      <td>969</td>\n",
              "      <td>1004</td>\n",
              "      <td>972876</td>\n",
              "      <td>(170, 401, 753, 998)</td>\n",
              "      <td>597</td>\n",
              "      <td>583</td>\n",
              "      <td>...</td>\n",
              "      <td>1028</td>\n",
              "      <td>972</td>\n",
              "      <td>170</td>\n",
              "      <td>401</td>\n",
              "      <td>753</td>\n",
              "      <td>998</td>\n",
              "      <td>487.5</td>\n",
              "      <td>526.0</td>\n",
              "      <td>699.5</td>\n",
              "      <td>461.5</td>\n",
              "    </tr>\n",
              "    <tr>\n",
              "      <th>1</th>\n",
              "      <td>1</td>\n",
              "      <td>Bpic6.jpg</td>\n",
              "      <td>279.289277</td>\n",
              "      <td>(227, 174, 841, 585)</td>\n",
              "      <td>411</td>\n",
              "      <td>614</td>\n",
              "      <td>252354</td>\n",
              "      <td>(405, 498, 910, 762)</td>\n",
              "      <td>264</td>\n",
              "      <td>505</td>\n",
              "      <td>...</td>\n",
              "      <td>841</td>\n",
              "      <td>585</td>\n",
              "      <td>405</td>\n",
              "      <td>498</td>\n",
              "      <td>910</td>\n",
              "      <td>762</td>\n",
              "      <td>379.5</td>\n",
              "      <td>534.0</td>\n",
              "      <td>630.0</td>\n",
              "      <td>657.5</td>\n",
              "    </tr>\n",
              "    <tr>\n",
              "      <th>2</th>\n",
              "      <td>2</td>\n",
              "      <td>Bpic7.jpeg</td>\n",
              "      <td>407.217694</td>\n",
              "      <td>(113, 0, 1027, 610)</td>\n",
              "      <td>610</td>\n",
              "      <td>914</td>\n",
              "      <td>557540</td>\n",
              "      <td>(251, 437, 1025, 976)</td>\n",
              "      <td>539</td>\n",
              "      <td>774</td>\n",
              "      <td>...</td>\n",
              "      <td>1027</td>\n",
              "      <td>610</td>\n",
              "      <td>251</td>\n",
              "      <td>437</td>\n",
              "      <td>1025</td>\n",
              "      <td>976</td>\n",
              "      <td>305.0</td>\n",
              "      <td>570.0</td>\n",
              "      <td>706.5</td>\n",
              "      <td>638.0</td>\n",
              "    </tr>\n",
              "    <tr>\n",
              "      <th>3</th>\n",
              "      <td>3</td>\n",
              "      <td>c_photo2.jpg</td>\n",
              "      <td>321.840022</td>\n",
              "      <td>(155, 302, 477, 541)</td>\n",
              "      <td>239</td>\n",
              "      <td>322</td>\n",
              "      <td>76958</td>\n",
              "      <td>(225, 0, 1025, 1023)</td>\n",
              "      <td>1023</td>\n",
              "      <td>800</td>\n",
              "      <td>...</td>\n",
              "      <td>477</td>\n",
              "      <td>541</td>\n",
              "      <td>225</td>\n",
              "      <td>0</td>\n",
              "      <td>1025</td>\n",
              "      <td>1023</td>\n",
              "      <td>421.5</td>\n",
              "      <td>316.0</td>\n",
              "      <td>511.5</td>\n",
              "      <td>625.0</td>\n",
              "    </tr>\n",
              "    <tr>\n",
              "      <th>4</th>\n",
              "      <td>4</td>\n",
              "      <td>c_photo3.jpg</td>\n",
              "      <td>356.719778</td>\n",
              "      <td>(222, 528, 488, 630)</td>\n",
              "      <td>102</td>\n",
              "      <td>266</td>\n",
              "      <td>27132</td>\n",
              "      <td>(290, 516, 1020, 1028)</td>\n",
              "      <td>512</td>\n",
              "      <td>730</td>\n",
              "      <td>...</td>\n",
              "      <td>488</td>\n",
              "      <td>630</td>\n",
              "      <td>290</td>\n",
              "      <td>516</td>\n",
              "      <td>1020</td>\n",
              "      <td>1028</td>\n",
              "      <td>579.0</td>\n",
              "      <td>355.0</td>\n",
              "      <td>772.0</td>\n",
              "      <td>655.0</td>\n",
              "    </tr>\n",
              "  </tbody>\n",
              "</table>\n",
              "<p>5 rows × 25 columns</p>\n",
              "</div>\n",
              "      <button class=\"colab-df-convert\" onclick=\"convertToInteractive('df-e0099b5f-2eda-45a0-b1ae-9fb8314d01f5')\"\n",
              "              title=\"Convert this dataframe to an interactive table.\"\n",
              "              style=\"display:none;\">\n",
              "        \n",
              "  <svg xmlns=\"http://www.w3.org/2000/svg\" height=\"24px\"viewBox=\"0 0 24 24\"\n",
              "       width=\"24px\">\n",
              "    <path d=\"M0 0h24v24H0V0z\" fill=\"none\"/>\n",
              "    <path d=\"M18.56 5.44l.94 2.06.94-2.06 2.06-.94-2.06-.94-.94-2.06-.94 2.06-2.06.94zm-11 1L8.5 8.5l.94-2.06 2.06-.94-2.06-.94L8.5 2.5l-.94 2.06-2.06.94zm10 10l.94 2.06.94-2.06 2.06-.94-2.06-.94-.94-2.06-.94 2.06-2.06.94z\"/><path d=\"M17.41 7.96l-1.37-1.37c-.4-.4-.92-.59-1.43-.59-.52 0-1.04.2-1.43.59L10.3 9.45l-7.72 7.72c-.78.78-.78 2.05 0 2.83L4 21.41c.39.39.9.59 1.41.59.51 0 1.02-.2 1.41-.59l7.78-7.78 2.81-2.81c.8-.78.8-2.07 0-2.86zM5.41 20L4 18.59l7.72-7.72 1.47 1.35L5.41 20z\"/>\n",
              "  </svg>\n",
              "      </button>\n",
              "      \n",
              "  <style>\n",
              "    .colab-df-container {\n",
              "      display:flex;\n",
              "      flex-wrap:wrap;\n",
              "      gap: 12px;\n",
              "    }\n",
              "\n",
              "    .colab-df-convert {\n",
              "      background-color: #E8F0FE;\n",
              "      border: none;\n",
              "      border-radius: 50%;\n",
              "      cursor: pointer;\n",
              "      display: none;\n",
              "      fill: #1967D2;\n",
              "      height: 32px;\n",
              "      padding: 0 0 0 0;\n",
              "      width: 32px;\n",
              "    }\n",
              "\n",
              "    .colab-df-convert:hover {\n",
              "      background-color: #E2EBFA;\n",
              "      box-shadow: 0px 1px 2px rgba(60, 64, 67, 0.3), 0px 1px 3px 1px rgba(60, 64, 67, 0.15);\n",
              "      fill: #174EA6;\n",
              "    }\n",
              "\n",
              "    [theme=dark] .colab-df-convert {\n",
              "      background-color: #3B4455;\n",
              "      fill: #D2E3FC;\n",
              "    }\n",
              "\n",
              "    [theme=dark] .colab-df-convert:hover {\n",
              "      background-color: #434B5C;\n",
              "      box-shadow: 0px 1px 3px 1px rgba(0, 0, 0, 0.15);\n",
              "      filter: drop-shadow(0px 1px 2px rgba(0, 0, 0, 0.3));\n",
              "      fill: #FFFFFF;\n",
              "    }\n",
              "  </style>\n",
              "\n",
              "      <script>\n",
              "        const buttonEl =\n",
              "          document.querySelector('#df-e0099b5f-2eda-45a0-b1ae-9fb8314d01f5 button.colab-df-convert');\n",
              "        buttonEl.style.display =\n",
              "          google.colab.kernel.accessAllowed ? 'block' : 'none';\n",
              "\n",
              "        async function convertToInteractive(key) {\n",
              "          const element = document.querySelector('#df-e0099b5f-2eda-45a0-b1ae-9fb8314d01f5');\n",
              "          const dataTable =\n",
              "            await google.colab.kernel.invokeFunction('convertToInteractive',\n",
              "                                                     [key], {});\n",
              "          if (!dataTable) return;\n",
              "\n",
              "          const docLinkHtml = 'Like what you see? Visit the ' +\n",
              "            '<a target=\"_blank\" href=https://colab.research.google.com/notebooks/data_table.ipynb>data table notebook</a>'\n",
              "            + ' to learn more about interactive tables.';\n",
              "          element.innerHTML = '';\n",
              "          dataTable['output_type'] = 'display_data';\n",
              "          await google.colab.output.renderOutput(dataTable, element);\n",
              "          const docLink = document.createElement('div');\n",
              "          docLink.innerHTML = docLinkHtml;\n",
              "          element.appendChild(docLink);\n",
              "        }\n",
              "      </script>\n",
              "    </div>\n",
              "  </div>\n",
              "  "
            ]
          },
          "metadata": {},
          "execution_count": 6
        }
      ]
    },
    {
      "cell_type": "code",
      "source": [
        "training['x_dif'] = abs(training['midx_a'] - training['midx_h'])\n",
        "training['y_dif'] = abs(training['midy_a'] - training['midy_h'])\n",
        "training.head()"
      ],
      "metadata": {
        "colab": {
          "base_uri": "https://localhost:8080/",
          "height": 577
        },
        "id": "YPp4NAd0_UFg",
        "outputId": "d0329651-5d12-4aa7-bda7-3633c0b40d8d"
      },
      "execution_count": null,
      "outputs": [
        {
          "output_type": "execute_result",
          "data": {
            "text/plain": [
              "   Unnamed: 0     File Name  Closest Distance          Human Target  \\\n",
              "0           0     Bpic5.jpg        221.594788    (24, 3, 1028, 972)   \n",
              "1           1     Bpic6.jpg        279.289277  (227, 174, 841, 585)   \n",
              "2           2    Bpic7.jpeg        407.217694   (113, 0, 1027, 610)   \n",
              "3           3  c_photo2.jpg        321.840022  (155, 302, 477, 541)   \n",
              "4           4  c_photo3.jpg        356.719778  (222, 528, 488, 630)   \n",
              "\n",
              "   Human Width  Human Length  Human Area            Animal Taget  \\\n",
              "0          969          1004      972876    (170, 401, 753, 998)   \n",
              "1          411           614      252354    (405, 498, 910, 762)   \n",
              "2          610           914      557540   (251, 437, 1025, 976)   \n",
              "3          239           322       76958    (225, 0, 1025, 1023)   \n",
              "4          102           266       27132  (290, 516, 1020, 1028)   \n",
              "\n",
              "   Animal Width  Animal Length  ...  a_ymin  a_xmin  a_ymax  a_xmax  midx_h  \\\n",
              "0           597            583  ...     170     401     753     998   487.5   \n",
              "1           264            505  ...     405     498     910     762   379.5   \n",
              "2           539            774  ...     251     437    1025     976   305.0   \n",
              "3          1023            800  ...     225       0    1025    1023   421.5   \n",
              "4           512            730  ...     290     516    1020    1028   579.0   \n",
              "\n",
              "   midy_h  midx_a  midy_a  x_dif  y_dif  \n",
              "0   526.0   699.5   461.5  212.0   64.5  \n",
              "1   534.0   630.0   657.5  250.5  123.5  \n",
              "2   570.0   706.5   638.0  401.5   68.0  \n",
              "3   316.0   511.5   625.0   90.0  309.0  \n",
              "4   355.0   772.0   655.0  193.0  300.0  \n",
              "\n",
              "[5 rows x 27 columns]"
            ],
            "text/html": [
              "\n",
              "  <div id=\"df-859cb7dc-a094-4bb1-80fa-ccd453d2a6f5\">\n",
              "    <div class=\"colab-df-container\">\n",
              "      <div>\n",
              "<style scoped>\n",
              "    .dataframe tbody tr th:only-of-type {\n",
              "        vertical-align: middle;\n",
              "    }\n",
              "\n",
              "    .dataframe tbody tr th {\n",
              "        vertical-align: top;\n",
              "    }\n",
              "\n",
              "    .dataframe thead th {\n",
              "        text-align: right;\n",
              "    }\n",
              "</style>\n",
              "<table border=\"1\" class=\"dataframe\">\n",
              "  <thead>\n",
              "    <tr style=\"text-align: right;\">\n",
              "      <th></th>\n",
              "      <th>Unnamed: 0</th>\n",
              "      <th>File Name</th>\n",
              "      <th>Closest Distance</th>\n",
              "      <th>Human Target</th>\n",
              "      <th>Human Width</th>\n",
              "      <th>Human Length</th>\n",
              "      <th>Human Area</th>\n",
              "      <th>Animal Taget</th>\n",
              "      <th>Animal Width</th>\n",
              "      <th>Animal Length</th>\n",
              "      <th>...</th>\n",
              "      <th>a_ymin</th>\n",
              "      <th>a_xmin</th>\n",
              "      <th>a_ymax</th>\n",
              "      <th>a_xmax</th>\n",
              "      <th>midx_h</th>\n",
              "      <th>midy_h</th>\n",
              "      <th>midx_a</th>\n",
              "      <th>midy_a</th>\n",
              "      <th>x_dif</th>\n",
              "      <th>y_dif</th>\n",
              "    </tr>\n",
              "  </thead>\n",
              "  <tbody>\n",
              "    <tr>\n",
              "      <th>0</th>\n",
              "      <td>0</td>\n",
              "      <td>Bpic5.jpg</td>\n",
              "      <td>221.594788</td>\n",
              "      <td>(24, 3, 1028, 972)</td>\n",
              "      <td>969</td>\n",
              "      <td>1004</td>\n",
              "      <td>972876</td>\n",
              "      <td>(170, 401, 753, 998)</td>\n",
              "      <td>597</td>\n",
              "      <td>583</td>\n",
              "      <td>...</td>\n",
              "      <td>170</td>\n",
              "      <td>401</td>\n",
              "      <td>753</td>\n",
              "      <td>998</td>\n",
              "      <td>487.5</td>\n",
              "      <td>526.0</td>\n",
              "      <td>699.5</td>\n",
              "      <td>461.5</td>\n",
              "      <td>212.0</td>\n",
              "      <td>64.5</td>\n",
              "    </tr>\n",
              "    <tr>\n",
              "      <th>1</th>\n",
              "      <td>1</td>\n",
              "      <td>Bpic6.jpg</td>\n",
              "      <td>279.289277</td>\n",
              "      <td>(227, 174, 841, 585)</td>\n",
              "      <td>411</td>\n",
              "      <td>614</td>\n",
              "      <td>252354</td>\n",
              "      <td>(405, 498, 910, 762)</td>\n",
              "      <td>264</td>\n",
              "      <td>505</td>\n",
              "      <td>...</td>\n",
              "      <td>405</td>\n",
              "      <td>498</td>\n",
              "      <td>910</td>\n",
              "      <td>762</td>\n",
              "      <td>379.5</td>\n",
              "      <td>534.0</td>\n",
              "      <td>630.0</td>\n",
              "      <td>657.5</td>\n",
              "      <td>250.5</td>\n",
              "      <td>123.5</td>\n",
              "    </tr>\n",
              "    <tr>\n",
              "      <th>2</th>\n",
              "      <td>2</td>\n",
              "      <td>Bpic7.jpeg</td>\n",
              "      <td>407.217694</td>\n",
              "      <td>(113, 0, 1027, 610)</td>\n",
              "      <td>610</td>\n",
              "      <td>914</td>\n",
              "      <td>557540</td>\n",
              "      <td>(251, 437, 1025, 976)</td>\n",
              "      <td>539</td>\n",
              "      <td>774</td>\n",
              "      <td>...</td>\n",
              "      <td>251</td>\n",
              "      <td>437</td>\n",
              "      <td>1025</td>\n",
              "      <td>976</td>\n",
              "      <td>305.0</td>\n",
              "      <td>570.0</td>\n",
              "      <td>706.5</td>\n",
              "      <td>638.0</td>\n",
              "      <td>401.5</td>\n",
              "      <td>68.0</td>\n",
              "    </tr>\n",
              "    <tr>\n",
              "      <th>3</th>\n",
              "      <td>3</td>\n",
              "      <td>c_photo2.jpg</td>\n",
              "      <td>321.840022</td>\n",
              "      <td>(155, 302, 477, 541)</td>\n",
              "      <td>239</td>\n",
              "      <td>322</td>\n",
              "      <td>76958</td>\n",
              "      <td>(225, 0, 1025, 1023)</td>\n",
              "      <td>1023</td>\n",
              "      <td>800</td>\n",
              "      <td>...</td>\n",
              "      <td>225</td>\n",
              "      <td>0</td>\n",
              "      <td>1025</td>\n",
              "      <td>1023</td>\n",
              "      <td>421.5</td>\n",
              "      <td>316.0</td>\n",
              "      <td>511.5</td>\n",
              "      <td>625.0</td>\n",
              "      <td>90.0</td>\n",
              "      <td>309.0</td>\n",
              "    </tr>\n",
              "    <tr>\n",
              "      <th>4</th>\n",
              "      <td>4</td>\n",
              "      <td>c_photo3.jpg</td>\n",
              "      <td>356.719778</td>\n",
              "      <td>(222, 528, 488, 630)</td>\n",
              "      <td>102</td>\n",
              "      <td>266</td>\n",
              "      <td>27132</td>\n",
              "      <td>(290, 516, 1020, 1028)</td>\n",
              "      <td>512</td>\n",
              "      <td>730</td>\n",
              "      <td>...</td>\n",
              "      <td>290</td>\n",
              "      <td>516</td>\n",
              "      <td>1020</td>\n",
              "      <td>1028</td>\n",
              "      <td>579.0</td>\n",
              "      <td>355.0</td>\n",
              "      <td>772.0</td>\n",
              "      <td>655.0</td>\n",
              "      <td>193.0</td>\n",
              "      <td>300.0</td>\n",
              "    </tr>\n",
              "  </tbody>\n",
              "</table>\n",
              "<p>5 rows × 27 columns</p>\n",
              "</div>\n",
              "      <button class=\"colab-df-convert\" onclick=\"convertToInteractive('df-859cb7dc-a094-4bb1-80fa-ccd453d2a6f5')\"\n",
              "              title=\"Convert this dataframe to an interactive table.\"\n",
              "              style=\"display:none;\">\n",
              "        \n",
              "  <svg xmlns=\"http://www.w3.org/2000/svg\" height=\"24px\"viewBox=\"0 0 24 24\"\n",
              "       width=\"24px\">\n",
              "    <path d=\"M0 0h24v24H0V0z\" fill=\"none\"/>\n",
              "    <path d=\"M18.56 5.44l.94 2.06.94-2.06 2.06-.94-2.06-.94-.94-2.06-.94 2.06-2.06.94zm-11 1L8.5 8.5l.94-2.06 2.06-.94-2.06-.94L8.5 2.5l-.94 2.06-2.06.94zm10 10l.94 2.06.94-2.06 2.06-.94-2.06-.94-.94-2.06-.94 2.06-2.06.94z\"/><path d=\"M17.41 7.96l-1.37-1.37c-.4-.4-.92-.59-1.43-.59-.52 0-1.04.2-1.43.59L10.3 9.45l-7.72 7.72c-.78.78-.78 2.05 0 2.83L4 21.41c.39.39.9.59 1.41.59.51 0 1.02-.2 1.41-.59l7.78-7.78 2.81-2.81c.8-.78.8-2.07 0-2.86zM5.41 20L4 18.59l7.72-7.72 1.47 1.35L5.41 20z\"/>\n",
              "  </svg>\n",
              "      </button>\n",
              "      \n",
              "  <style>\n",
              "    .colab-df-container {\n",
              "      display:flex;\n",
              "      flex-wrap:wrap;\n",
              "      gap: 12px;\n",
              "    }\n",
              "\n",
              "    .colab-df-convert {\n",
              "      background-color: #E8F0FE;\n",
              "      border: none;\n",
              "      border-radius: 50%;\n",
              "      cursor: pointer;\n",
              "      display: none;\n",
              "      fill: #1967D2;\n",
              "      height: 32px;\n",
              "      padding: 0 0 0 0;\n",
              "      width: 32px;\n",
              "    }\n",
              "\n",
              "    .colab-df-convert:hover {\n",
              "      background-color: #E2EBFA;\n",
              "      box-shadow: 0px 1px 2px rgba(60, 64, 67, 0.3), 0px 1px 3px 1px rgba(60, 64, 67, 0.15);\n",
              "      fill: #174EA6;\n",
              "    }\n",
              "\n",
              "    [theme=dark] .colab-df-convert {\n",
              "      background-color: #3B4455;\n",
              "      fill: #D2E3FC;\n",
              "    }\n",
              "\n",
              "    [theme=dark] .colab-df-convert:hover {\n",
              "      background-color: #434B5C;\n",
              "      box-shadow: 0px 1px 3px 1px rgba(0, 0, 0, 0.15);\n",
              "      filter: drop-shadow(0px 1px 2px rgba(0, 0, 0, 0.3));\n",
              "      fill: #FFFFFF;\n",
              "    }\n",
              "  </style>\n",
              "\n",
              "      <script>\n",
              "        const buttonEl =\n",
              "          document.querySelector('#df-859cb7dc-a094-4bb1-80fa-ccd453d2a6f5 button.colab-df-convert');\n",
              "        buttonEl.style.display =\n",
              "          google.colab.kernel.accessAllowed ? 'block' : 'none';\n",
              "\n",
              "        async function convertToInteractive(key) {\n",
              "          const element = document.querySelector('#df-859cb7dc-a094-4bb1-80fa-ccd453d2a6f5');\n",
              "          const dataTable =\n",
              "            await google.colab.kernel.invokeFunction('convertToInteractive',\n",
              "                                                     [key], {});\n",
              "          if (!dataTable) return;\n",
              "\n",
              "          const docLinkHtml = 'Like what you see? Visit the ' +\n",
              "            '<a target=\"_blank\" href=https://colab.research.google.com/notebooks/data_table.ipynb>data table notebook</a>'\n",
              "            + ' to learn more about interactive tables.';\n",
              "          element.innerHTML = '';\n",
              "          dataTable['output_type'] = 'display_data';\n",
              "          await google.colab.output.renderOutput(dataTable, element);\n",
              "          const docLink = document.createElement('div');\n",
              "          docLink.innerHTML = docLinkHtml;\n",
              "          element.appendChild(docLink);\n",
              "        }\n",
              "      </script>\n",
              "    </div>\n",
              "  </div>\n",
              "  "
            ]
          },
          "metadata": {},
          "execution_count": 7
        }
      ]
    },
    {
      "cell_type": "code",
      "source": [
        "training.columns"
      ],
      "metadata": {
        "colab": {
          "base_uri": "https://localhost:8080/"
        },
        "id": "UiGgvuHzA1dw",
        "outputId": "1c8e8e79-b7cb-43aa-8d34-90ec1f38f6ef"
      },
      "execution_count": null,
      "outputs": [
        {
          "output_type": "execute_result",
          "data": {
            "text/plain": [
              "Index(['Unnamed: 0', 'File Name', 'Closest Distance', 'Human Target',\n",
              "       'Human Width', 'Human Length', 'Human Area', 'Animal Taget',\n",
              "       'Animal Width', 'Animal Length', 'Animal Area', 'Area Ratio', 'Label',\n",
              "       'h_ymin', 'h_xmin', 'h_ymax', 'h_xmax', 'a_ymin', 'a_xmin', 'a_ymax',\n",
              "       'a_xmax', 'midx_h', 'midy_h', 'midx_a', 'midy_a', 'x_dif', 'y_dif'],\n",
              "      dtype='object')"
            ]
          },
          "metadata": {},
          "execution_count": 8
        }
      ]
    },
    {
      "cell_type": "code",
      "source": [
        "training_selection = training.drop(['Unnamed: 0', 'File Name', 'Human Target', 'Animal Taget', 'Label'], axis=1)\n",
        "training_label = training['Label']\n",
        "training_selection.head()"
      ],
      "metadata": {
        "colab": {
          "base_uri": "https://localhost:8080/",
          "height": 317
        },
        "id": "ITGXtFfXAwY2",
        "outputId": "da6bf872-9a89-46be-f236-63239ede3793"
      },
      "execution_count": null,
      "outputs": [
        {
          "output_type": "execute_result",
          "data": {
            "text/plain": [
              "   Closest Distance  Human Width  Human Length  Human Area  Animal Width  \\\n",
              "0        221.594788          969          1004      972876           597   \n",
              "1        279.289277          411           614      252354           264   \n",
              "2        407.217694          610           914      557540           539   \n",
              "3        321.840022          239           322       76958          1023   \n",
              "4        356.719778          102           266       27132           512   \n",
              "\n",
              "   Animal Length  Animal Area  Area Ratio  h_ymin  h_xmin  ...  a_ymin  \\\n",
              "0            583       348051    2.795211      24       3  ...     170   \n",
              "1            505       133320    1.892844     227     174  ...     405   \n",
              "2            774       417186    1.336430     113       0  ...     251   \n",
              "3            800       818400   10.634372     155     302  ...     225   \n",
              "4            730       373760   13.775616     222     528  ...     290   \n",
              "\n",
              "   a_xmin  a_ymax  a_xmax  midx_h  midy_h  midx_a  midy_a  x_dif  y_dif  \n",
              "0     401     753     998   487.5   526.0   699.5   461.5  212.0   64.5  \n",
              "1     498     910     762   379.5   534.0   630.0   657.5  250.5  123.5  \n",
              "2     437    1025     976   305.0   570.0   706.5   638.0  401.5   68.0  \n",
              "3       0    1025    1023   421.5   316.0   511.5   625.0   90.0  309.0  \n",
              "4     516    1020    1028   579.0   355.0   772.0   655.0  193.0  300.0  \n",
              "\n",
              "[5 rows x 22 columns]"
            ],
            "text/html": [
              "\n",
              "  <div id=\"df-1074fe28-8e41-4682-bfa8-40a178816425\">\n",
              "    <div class=\"colab-df-container\">\n",
              "      <div>\n",
              "<style scoped>\n",
              "    .dataframe tbody tr th:only-of-type {\n",
              "        vertical-align: middle;\n",
              "    }\n",
              "\n",
              "    .dataframe tbody tr th {\n",
              "        vertical-align: top;\n",
              "    }\n",
              "\n",
              "    .dataframe thead th {\n",
              "        text-align: right;\n",
              "    }\n",
              "</style>\n",
              "<table border=\"1\" class=\"dataframe\">\n",
              "  <thead>\n",
              "    <tr style=\"text-align: right;\">\n",
              "      <th></th>\n",
              "      <th>Closest Distance</th>\n",
              "      <th>Human Width</th>\n",
              "      <th>Human Length</th>\n",
              "      <th>Human Area</th>\n",
              "      <th>Animal Width</th>\n",
              "      <th>Animal Length</th>\n",
              "      <th>Animal Area</th>\n",
              "      <th>Area Ratio</th>\n",
              "      <th>h_ymin</th>\n",
              "      <th>h_xmin</th>\n",
              "      <th>...</th>\n",
              "      <th>a_ymin</th>\n",
              "      <th>a_xmin</th>\n",
              "      <th>a_ymax</th>\n",
              "      <th>a_xmax</th>\n",
              "      <th>midx_h</th>\n",
              "      <th>midy_h</th>\n",
              "      <th>midx_a</th>\n",
              "      <th>midy_a</th>\n",
              "      <th>x_dif</th>\n",
              "      <th>y_dif</th>\n",
              "    </tr>\n",
              "  </thead>\n",
              "  <tbody>\n",
              "    <tr>\n",
              "      <th>0</th>\n",
              "      <td>221.594788</td>\n",
              "      <td>969</td>\n",
              "      <td>1004</td>\n",
              "      <td>972876</td>\n",
              "      <td>597</td>\n",
              "      <td>583</td>\n",
              "      <td>348051</td>\n",
              "      <td>2.795211</td>\n",
              "      <td>24</td>\n",
              "      <td>3</td>\n",
              "      <td>...</td>\n",
              "      <td>170</td>\n",
              "      <td>401</td>\n",
              "      <td>753</td>\n",
              "      <td>998</td>\n",
              "      <td>487.5</td>\n",
              "      <td>526.0</td>\n",
              "      <td>699.5</td>\n",
              "      <td>461.5</td>\n",
              "      <td>212.0</td>\n",
              "      <td>64.5</td>\n",
              "    </tr>\n",
              "    <tr>\n",
              "      <th>1</th>\n",
              "      <td>279.289277</td>\n",
              "      <td>411</td>\n",
              "      <td>614</td>\n",
              "      <td>252354</td>\n",
              "      <td>264</td>\n",
              "      <td>505</td>\n",
              "      <td>133320</td>\n",
              "      <td>1.892844</td>\n",
              "      <td>227</td>\n",
              "      <td>174</td>\n",
              "      <td>...</td>\n",
              "      <td>405</td>\n",
              "      <td>498</td>\n",
              "      <td>910</td>\n",
              "      <td>762</td>\n",
              "      <td>379.5</td>\n",
              "      <td>534.0</td>\n",
              "      <td>630.0</td>\n",
              "      <td>657.5</td>\n",
              "      <td>250.5</td>\n",
              "      <td>123.5</td>\n",
              "    </tr>\n",
              "    <tr>\n",
              "      <th>2</th>\n",
              "      <td>407.217694</td>\n",
              "      <td>610</td>\n",
              "      <td>914</td>\n",
              "      <td>557540</td>\n",
              "      <td>539</td>\n",
              "      <td>774</td>\n",
              "      <td>417186</td>\n",
              "      <td>1.336430</td>\n",
              "      <td>113</td>\n",
              "      <td>0</td>\n",
              "      <td>...</td>\n",
              "      <td>251</td>\n",
              "      <td>437</td>\n",
              "      <td>1025</td>\n",
              "      <td>976</td>\n",
              "      <td>305.0</td>\n",
              "      <td>570.0</td>\n",
              "      <td>706.5</td>\n",
              "      <td>638.0</td>\n",
              "      <td>401.5</td>\n",
              "      <td>68.0</td>\n",
              "    </tr>\n",
              "    <tr>\n",
              "      <th>3</th>\n",
              "      <td>321.840022</td>\n",
              "      <td>239</td>\n",
              "      <td>322</td>\n",
              "      <td>76958</td>\n",
              "      <td>1023</td>\n",
              "      <td>800</td>\n",
              "      <td>818400</td>\n",
              "      <td>10.634372</td>\n",
              "      <td>155</td>\n",
              "      <td>302</td>\n",
              "      <td>...</td>\n",
              "      <td>225</td>\n",
              "      <td>0</td>\n",
              "      <td>1025</td>\n",
              "      <td>1023</td>\n",
              "      <td>421.5</td>\n",
              "      <td>316.0</td>\n",
              "      <td>511.5</td>\n",
              "      <td>625.0</td>\n",
              "      <td>90.0</td>\n",
              "      <td>309.0</td>\n",
              "    </tr>\n",
              "    <tr>\n",
              "      <th>4</th>\n",
              "      <td>356.719778</td>\n",
              "      <td>102</td>\n",
              "      <td>266</td>\n",
              "      <td>27132</td>\n",
              "      <td>512</td>\n",
              "      <td>730</td>\n",
              "      <td>373760</td>\n",
              "      <td>13.775616</td>\n",
              "      <td>222</td>\n",
              "      <td>528</td>\n",
              "      <td>...</td>\n",
              "      <td>290</td>\n",
              "      <td>516</td>\n",
              "      <td>1020</td>\n",
              "      <td>1028</td>\n",
              "      <td>579.0</td>\n",
              "      <td>355.0</td>\n",
              "      <td>772.0</td>\n",
              "      <td>655.0</td>\n",
              "      <td>193.0</td>\n",
              "      <td>300.0</td>\n",
              "    </tr>\n",
              "  </tbody>\n",
              "</table>\n",
              "<p>5 rows × 22 columns</p>\n",
              "</div>\n",
              "      <button class=\"colab-df-convert\" onclick=\"convertToInteractive('df-1074fe28-8e41-4682-bfa8-40a178816425')\"\n",
              "              title=\"Convert this dataframe to an interactive table.\"\n",
              "              style=\"display:none;\">\n",
              "        \n",
              "  <svg xmlns=\"http://www.w3.org/2000/svg\" height=\"24px\"viewBox=\"0 0 24 24\"\n",
              "       width=\"24px\">\n",
              "    <path d=\"M0 0h24v24H0V0z\" fill=\"none\"/>\n",
              "    <path d=\"M18.56 5.44l.94 2.06.94-2.06 2.06-.94-2.06-.94-.94-2.06-.94 2.06-2.06.94zm-11 1L8.5 8.5l.94-2.06 2.06-.94-2.06-.94L8.5 2.5l-.94 2.06-2.06.94zm10 10l.94 2.06.94-2.06 2.06-.94-2.06-.94-.94-2.06-.94 2.06-2.06.94z\"/><path d=\"M17.41 7.96l-1.37-1.37c-.4-.4-.92-.59-1.43-.59-.52 0-1.04.2-1.43.59L10.3 9.45l-7.72 7.72c-.78.78-.78 2.05 0 2.83L4 21.41c.39.39.9.59 1.41.59.51 0 1.02-.2 1.41-.59l7.78-7.78 2.81-2.81c.8-.78.8-2.07 0-2.86zM5.41 20L4 18.59l7.72-7.72 1.47 1.35L5.41 20z\"/>\n",
              "  </svg>\n",
              "      </button>\n",
              "      \n",
              "  <style>\n",
              "    .colab-df-container {\n",
              "      display:flex;\n",
              "      flex-wrap:wrap;\n",
              "      gap: 12px;\n",
              "    }\n",
              "\n",
              "    .colab-df-convert {\n",
              "      background-color: #E8F0FE;\n",
              "      border: none;\n",
              "      border-radius: 50%;\n",
              "      cursor: pointer;\n",
              "      display: none;\n",
              "      fill: #1967D2;\n",
              "      height: 32px;\n",
              "      padding: 0 0 0 0;\n",
              "      width: 32px;\n",
              "    }\n",
              "\n",
              "    .colab-df-convert:hover {\n",
              "      background-color: #E2EBFA;\n",
              "      box-shadow: 0px 1px 2px rgba(60, 64, 67, 0.3), 0px 1px 3px 1px rgba(60, 64, 67, 0.15);\n",
              "      fill: #174EA6;\n",
              "    }\n",
              "\n",
              "    [theme=dark] .colab-df-convert {\n",
              "      background-color: #3B4455;\n",
              "      fill: #D2E3FC;\n",
              "    }\n",
              "\n",
              "    [theme=dark] .colab-df-convert:hover {\n",
              "      background-color: #434B5C;\n",
              "      box-shadow: 0px 1px 3px 1px rgba(0, 0, 0, 0.15);\n",
              "      filter: drop-shadow(0px 1px 2px rgba(0, 0, 0, 0.3));\n",
              "      fill: #FFFFFF;\n",
              "    }\n",
              "  </style>\n",
              "\n",
              "      <script>\n",
              "        const buttonEl =\n",
              "          document.querySelector('#df-1074fe28-8e41-4682-bfa8-40a178816425 button.colab-df-convert');\n",
              "        buttonEl.style.display =\n",
              "          google.colab.kernel.accessAllowed ? 'block' : 'none';\n",
              "\n",
              "        async function convertToInteractive(key) {\n",
              "          const element = document.querySelector('#df-1074fe28-8e41-4682-bfa8-40a178816425');\n",
              "          const dataTable =\n",
              "            await google.colab.kernel.invokeFunction('convertToInteractive',\n",
              "                                                     [key], {});\n",
              "          if (!dataTable) return;\n",
              "\n",
              "          const docLinkHtml = 'Like what you see? Visit the ' +\n",
              "            '<a target=\"_blank\" href=https://colab.research.google.com/notebooks/data_table.ipynb>data table notebook</a>'\n",
              "            + ' to learn more about interactive tables.';\n",
              "          element.innerHTML = '';\n",
              "          dataTable['output_type'] = 'display_data';\n",
              "          await google.colab.output.renderOutput(dataTable, element);\n",
              "          const docLink = document.createElement('div');\n",
              "          docLink.innerHTML = docLinkHtml;\n",
              "          element.appendChild(docLink);\n",
              "        }\n",
              "      </script>\n",
              "    </div>\n",
              "  </div>\n",
              "  "
            ]
          },
          "metadata": {},
          "execution_count": 9
        }
      ]
    },
    {
      "cell_type": "code",
      "source": [
        "from sklearn.feature_selection import RFE\n",
        "from sklearn.tree import DecisionTreeRegressor"
      ],
      "metadata": {
        "id": "wRra6mkaBUW2"
      },
      "execution_count": null,
      "outputs": []
    },
    {
      "cell_type": "code",
      "source": [
        "print(training_selection.shape)\n",
        "print(training_label.shape)"
      ],
      "metadata": {
        "colab": {
          "base_uri": "https://localhost:8080/"
        },
        "id": "nCYoKasFCRoS",
        "outputId": "7263bf00-33d3-4f91-8576-a6f5e0b88a57"
      },
      "execution_count": null,
      "outputs": [
        {
          "output_type": "stream",
          "name": "stdout",
          "text": [
            "(210, 22)\n",
            "(210,)\n"
          ]
        }
      ]
    },
    {
      "cell_type": "code",
      "source": [
        "model = DecisionTreeRegressor()\n",
        "rfe = RFE(model, n_features_to_select=5)\n",
        "rfe.fit(training_selection, training_label)\n",
        "print(\"Num Features: %s\" % (rfe.n_features_))\n",
        "print(\"Selected Features: %s\" % (rfe.support_))\n",
        "print(\"Feature Ranking: %s\" % (rfe.ranking_))"
      ],
      "metadata": {
        "colab": {
          "base_uri": "https://localhost:8080/"
        },
        "id": "bISat-0rBaWc",
        "outputId": "a6dc33d9-f0c3-4a5b-ba52-771912c0984c"
      },
      "execution_count": null,
      "outputs": [
        {
          "output_type": "stream",
          "name": "stdout",
          "text": [
            "Num Features: 5\n",
            "Selected Features: [ True False  True  True False False False False False False False False\n",
            " False False False False False False  True  True False False]\n",
            "Feature Ranking: [ 1 13  1  1  7 12  2  6 14 16 17 15  3  4 11  9 10  5  1  1  8 18]\n"
          ]
        }
      ]
    },
    {
      "cell_type": "code",
      "source": [
        "result = [list(training_selection.columns)[x] for x in range(len(list(training_selection.columns))) if rfe.support_[x] == True in rfe.support_]\n",
        "result"
      ],
      "metadata": {
        "colab": {
          "base_uri": "https://localhost:8080/"
        },
        "id": "Pk97USNxEEVE",
        "outputId": "15efbb64-4f1c-421f-83c6-587a0624ff9e"
      },
      "execution_count": null,
      "outputs": [
        {
          "output_type": "execute_result",
          "data": {
            "text/plain": [
              "['Closest Distance', 'Human Length', 'Human Area', 'midx_a', 'midy_a']"
            ]
          },
          "metadata": {},
          "execution_count": 13
        }
      ]
    },
    {
      "cell_type": "markdown",
      "source": [
        "### Process the data table in order to use the selected features"
      ],
      "metadata": {
        "id": "UW0yGf7pE6Uq"
      }
    },
    {
      "cell_type": "code",
      "source": [
        "def process_attributes(image_feature):\n",
        "  h_ymin = []\n",
        "  h_xmin = []\n",
        "  h_ymax = [] \n",
        "  h_xmax = []\n",
        "  for i in image_feature['Human Target']:\n",
        "    goal = i[1:-1].split(\",\")\n",
        "    h_ymin.append(int(goal[0]))\n",
        "    h_xmin.append(int(goal[1]))\n",
        "    h_ymax.append(int(goal[2]))\n",
        "    h_xmax.append(int(goal[-1]))\n",
        "\n",
        "  image_feature['h_ymin'] = h_ymin\n",
        "  image_feature['h_xmin'] = h_xmin\n",
        "  image_feature['h_ymax'] = h_ymax\n",
        "  image_feature['h_xmax'] = h_xmax\n",
        "\n",
        "  a_ymin = []\n",
        "  a_xmin = []\n",
        "  a_ymax = [] \n",
        "  a_xmax = []\n",
        "  for i in image_feature['Animal Taget']:\n",
        "    goal = i[1:-1].split(\",\")\n",
        "    a_ymin.append(int(goal[0]))\n",
        "    a_xmin.append(int(goal[1]))\n",
        "    a_ymax.append(int(goal[2]))\n",
        "    a_xmax.append(int(goal[-1]))\n",
        "\n",
        "  image_feature['a_ymin'] = a_ymin\n",
        "  image_feature['a_xmin'] = a_xmin\n",
        "  image_feature['a_ymax'] = a_ymax\n",
        "  image_feature['a_xmax'] = a_xmax\n",
        "\n",
        "  image_feature['midx_h'] = (image_feature['h_xmin'] + image_feature['h_xmax'])/2\n",
        "  image_feature['midy_h'] = (image_feature['h_ymin'] + image_feature['h_ymax'])/2\n",
        "  image_feature['midx_a'] = (image_feature['a_xmin'] + image_feature['a_xmax'])/2\n",
        "  image_feature['midy_a'] = (image_feature['a_ymin'] + image_feature['a_ymax'])/2\n",
        "\n",
        "  image_feature['x_dif'] = abs(image_feature['midx_a'] - image_feature['midx_h'])\n",
        "  image_feature['y_dif'] = abs(image_feature['midy_a'] - image_feature['midy_h'])\n",
        "\n",
        "  cols = result\n",
        "  image_feature = image_feature[cols]\n",
        "  scaler = MinMaxScaler()\n",
        "  image_feature = scaler.fit_transform(image_feature)\n",
        "\n",
        "  return image_feature"
      ],
      "metadata": {
        "id": "KlwkZcrv-OXj"
      },
      "execution_count": null,
      "outputs": []
    },
    {
      "cell_type": "code",
      "source": [
        "# Use to train tabular data\n",
        "def create_mlp(dim, classify=False):\n",
        "\t# define our MLP network\n",
        "\tmodel = Sequential()\n",
        "\tmodel.add(Dense(16, input_dim=dim, activation=\"relu\"))\n",
        "\tmodel.add(Dense(8, activation=\"relu\"))\n",
        "\n",
        "\t# check to see if the regression node should be added\n",
        "\tif classify:\n",
        "\t\tmodel.add(Dense(1, activation='sigmoid'))\n",
        "\n",
        "\t# return our model\n",
        "\treturn model"
      ],
      "metadata": {
        "id": "JoI9XDyk-ti5"
      },
      "execution_count": null,
      "outputs": []
    },
    {
      "cell_type": "code",
      "source": [
        "from keras.applications.inception_v3 import InceptionV3\n",
        "from tensorflow.keras.optimizers import RMSprop\n",
        "from tensorflow.keras.optimizers import SGD\n",
        "from keras.models import Model"
      ],
      "metadata": {
        "id": "4JfJDuI6BiuW"
      },
      "execution_count": null,
      "outputs": []
    },
    {
      "cell_type": "code",
      "source": [
        "def create_inc(height, width, depth, classify = False):\n",
        "  inc_model = InceptionV3(input_shape = (height, width, depth), \n",
        "                                weights='imagenet',\n",
        "                                include_top = False)\n",
        "  for layer in inc_model.layers:\n",
        "    layer.trainable = False\n",
        "  x = tf.keras.layers.Flatten()(inc_model.output)\n",
        "  x = tf.keras.layers.Dense(32, activation='relu')(x)\n",
        "  x = tf.keras.layers.Dense(8, activation='relu')(x)\n",
        "  if classify:\n",
        "    x = tf.keras.layers.Dense(1, activation='sigmoid')(x)\n",
        "  model = Model(inputs = inc_model.input, outputs = x)\n",
        "  return model"
      ],
      "metadata": {
        "id": "GqgvQq4z_KJa"
      },
      "execution_count": null,
      "outputs": []
    },
    {
      "cell_type": "code",
      "source": [
        "def load_images(image_features, inputpath):\n",
        "  images_output = []\n",
        "  for i in image_features['File Name']:\n",
        "    image_path = os.path.join(inputpath, i)\n",
        "    image = cv2.imread(image_path)\n",
        "    image = cv2.resize(image, (200, 200))\n",
        "    images_output.append(np.array(image))\n",
        "    # print(images_output)\n",
        "  # images_output = np.array(images_output) / 255\n",
        "  # images_output.reshape(-1, 200, 200, 3)\n",
        "  return images_output"
      ],
      "metadata": {
        "id": "Wk4PfGcQ9A1p"
      },
      "execution_count": null,
      "outputs": []
    },
    {
      "cell_type": "code",
      "source": [
        "def model_ready(images_output):\n",
        "  images_output = np.array(images_output) / 255\n",
        "  images_output.reshape(-1, 200, 200, 3)\n",
        "  return images_output"
      ],
      "metadata": {
        "id": "NCvYaqYZKYRU"
      },
      "execution_count": null,
      "outputs": []
    },
    {
      "cell_type": "markdown",
      "source": [
        "### Organize the table for training, validation, testing classes"
      ],
      "metadata": {
        "id": "dT8Vll8YTf6U"
      }
    },
    {
      "cell_type": "code",
      "source": [
        "training_vio = pd.read_csv('/content/gdrive/MyDrive/Multi_input_data/Violation-training.csv')\n",
        "training_vio.shape"
      ],
      "metadata": {
        "colab": {
          "base_uri": "https://localhost:8080/"
        },
        "id": "6WNIGlc2Tbfg",
        "outputId": "6a47a2f9-81fe-4105-88d9-ab84af3bcbcc"
      },
      "execution_count": null,
      "outputs": [
        {
          "output_type": "execute_result",
          "data": {
            "text/plain": [
              "(110, 13)"
            ]
          },
          "metadata": {},
          "execution_count": 20
        }
      ]
    },
    {
      "cell_type": "code",
      "source": [
        "training_non = pd.read_csv('/content/gdrive/MyDrive/Multi_input_data/Non-violation-training.csv')\n",
        "training_non.shape"
      ],
      "metadata": {
        "colab": {
          "base_uri": "https://localhost:8080/"
        },
        "id": "cbqsHCXmTy35",
        "outputId": "6ec9eb77-4b6c-4b54-c92c-337db0ea775c"
      },
      "execution_count": null,
      "outputs": [
        {
          "output_type": "execute_result",
          "data": {
            "text/plain": [
              "(100, 13)"
            ]
          },
          "metadata": {},
          "execution_count": 21
        }
      ]
    },
    {
      "cell_type": "code",
      "source": [
        "training = pd.concat([training_vio, training_non], ignore_index=True)\n",
        "training.shape"
      ],
      "metadata": {
        "colab": {
          "base_uri": "https://localhost:8080/"
        },
        "id": "-nYoURP7T4H2",
        "outputId": "553d1c38-49c1-4302-8d4b-28c6c0c0d926"
      },
      "execution_count": null,
      "outputs": [
        {
          "output_type": "execute_result",
          "data": {
            "text/plain": [
              "(210, 13)"
            ]
          },
          "metadata": {},
          "execution_count": 22
        }
      ]
    },
    {
      "cell_type": "code",
      "source": [
        "training_features = process_attributes(training)\n",
        "training_features.shape"
      ],
      "metadata": {
        "id": "tZCvj3iFUIk-",
        "colab": {
          "base_uri": "https://localhost:8080/"
        },
        "outputId": "d312dcd8-5032-4dd1-e7d8-9e70dd62ecf9"
      },
      "execution_count": null,
      "outputs": [
        {
          "output_type": "execute_result",
          "data": {
            "text/plain": [
              "(210, 5)"
            ]
          },
          "metadata": {},
          "execution_count": 23
        }
      ]
    },
    {
      "cell_type": "code",
      "source": [
        "training_Y = training['Label']\n",
        "training_Y"
      ],
      "metadata": {
        "colab": {
          "base_uri": "https://localhost:8080/"
        },
        "id": "eDPwNttPLMMk",
        "outputId": "73dd7f8a-09cd-4725-9256-3835082ab842"
      },
      "execution_count": null,
      "outputs": [
        {
          "output_type": "execute_result",
          "data": {
            "text/plain": [
              "0      1\n",
              "1      1\n",
              "2      1\n",
              "3      1\n",
              "4      1\n",
              "      ..\n",
              "205    0\n",
              "206    0\n",
              "207    0\n",
              "208    0\n",
              "209    0\n",
              "Name: Label, Length: 210, dtype: int64"
            ]
          },
          "metadata": {},
          "execution_count": 24
        }
      ]
    },
    {
      "cell_type": "code",
      "source": [
        "validation_vio = pd.read_csv('/content/gdrive/MyDrive/Multi_input_data/Violation-validation.csv')\n",
        "validation_vio.shape"
      ],
      "metadata": {
        "colab": {
          "base_uri": "https://localhost:8080/"
        },
        "id": "OOKZmjn7Ue34",
        "outputId": "2fc3dbbb-79ce-4e52-a052-338983a669b8"
      },
      "execution_count": null,
      "outputs": [
        {
          "output_type": "execute_result",
          "data": {
            "text/plain": [
              "(28, 13)"
            ]
          },
          "metadata": {},
          "execution_count": 25
        }
      ]
    },
    {
      "cell_type": "code",
      "source": [
        "validation_non = pd.read_csv('/content/gdrive/MyDrive/Multi_input_data/Non-violation-validation.csv')\n",
        "validation_non.shape"
      ],
      "metadata": {
        "colab": {
          "base_uri": "https://localhost:8080/"
        },
        "id": "84gWSifZUsOM",
        "outputId": "d905d9de-2e7c-4ae6-82f7-ecacebbb05f8"
      },
      "execution_count": null,
      "outputs": [
        {
          "output_type": "execute_result",
          "data": {
            "text/plain": [
              "(25, 13)"
            ]
          },
          "metadata": {},
          "execution_count": 26
        }
      ]
    },
    {
      "cell_type": "code",
      "source": [
        "validation = pd.concat([validation_vio, validation_non], ignore_index=True)\n",
        "validation.shape"
      ],
      "metadata": {
        "colab": {
          "base_uri": "https://localhost:8080/"
        },
        "id": "8oGjdtrVUyh7",
        "outputId": "a2135755-45cc-4348-b517-6821ae371953"
      },
      "execution_count": null,
      "outputs": [
        {
          "output_type": "execute_result",
          "data": {
            "text/plain": [
              "(53, 13)"
            ]
          },
          "metadata": {},
          "execution_count": 27
        }
      ]
    },
    {
      "cell_type": "code",
      "source": [
        "validation_features = process_attributes(validation)\n",
        "validation_features.shape"
      ],
      "metadata": {
        "id": "j4ftGIKQKNs-",
        "colab": {
          "base_uri": "https://localhost:8080/"
        },
        "outputId": "b034d7c5-c827-4eae-a51c-a3859eaabbcf"
      },
      "execution_count": null,
      "outputs": [
        {
          "output_type": "execute_result",
          "data": {
            "text/plain": [
              "(53, 5)"
            ]
          },
          "metadata": {},
          "execution_count": 28
        }
      ]
    },
    {
      "cell_type": "code",
      "source": [
        "validation_Y = validation['Label']\n",
        "# validation_Y"
      ],
      "metadata": {
        "id": "LIr6Q4XbLSLz"
      },
      "execution_count": null,
      "outputs": []
    },
    {
      "cell_type": "code",
      "source": [
        "testing_vio = pd.read_csv('/content/gdrive/MyDrive/Multi_input_data/Violation-testing.csv')\n",
        "testing_vio.shape"
      ],
      "metadata": {
        "colab": {
          "base_uri": "https://localhost:8080/"
        },
        "id": "0hBxohScVFRR",
        "outputId": "b721c9a1-b475-44d1-84ad-94075fea880b"
      },
      "execution_count": null,
      "outputs": [
        {
          "output_type": "execute_result",
          "data": {
            "text/plain": [
              "(22, 13)"
            ]
          },
          "metadata": {},
          "execution_count": 30
        }
      ]
    },
    {
      "cell_type": "code",
      "source": [
        "testing_non = pd.read_csv('/content/gdrive/MyDrive/Multi_input_data/Non-violation-testing.csv')\n",
        "testing_non.shape"
      ],
      "metadata": {
        "colab": {
          "base_uri": "https://localhost:8080/"
        },
        "id": "0tbgtqlVVMQp",
        "outputId": "d6d21ca9-66c5-4fbd-aa75-984e13832a74"
      },
      "execution_count": null,
      "outputs": [
        {
          "output_type": "execute_result",
          "data": {
            "text/plain": [
              "(11, 13)"
            ]
          },
          "metadata": {},
          "execution_count": 31
        }
      ]
    },
    {
      "cell_type": "code",
      "source": [
        "elephant_vio = pd.read_csv('/content/gdrive/MyDrive/elephant/Violation_elephant.csv')\n",
        "elephant_vio.shape"
      ],
      "metadata": {
        "colab": {
          "base_uri": "https://localhost:8080/"
        },
        "id": "jmXd5oJzcToK",
        "outputId": "cbe45ff5-8872-4320-e74d-4f8f2813adc7"
      },
      "execution_count": null,
      "outputs": [
        {
          "output_type": "execute_result",
          "data": {
            "text/plain": [
              "(7, 13)"
            ]
          },
          "metadata": {},
          "execution_count": 32
        }
      ]
    },
    {
      "cell_type": "code",
      "source": [
        "elephant_non = pd.read_csv('/content/gdrive/MyDrive/elephant/Non_Violation_elephant.csv')\n",
        "elephant_non.shape"
      ],
      "metadata": {
        "colab": {
          "base_uri": "https://localhost:8080/"
        },
        "id": "XtDeP_JvccQU",
        "outputId": "24e25923-288e-4c9f-957c-ab243f3d8a35"
      },
      "execution_count": null,
      "outputs": [
        {
          "output_type": "execute_result",
          "data": {
            "text/plain": [
              "(6, 13)"
            ]
          },
          "metadata": {},
          "execution_count": 33
        }
      ]
    },
    {
      "cell_type": "code",
      "source": [
        "testing = pd.concat([testing_vio, testing_non, elephant_vio, elephant_non], ignore_index=True)\n",
        "testing.shape"
      ],
      "metadata": {
        "colab": {
          "base_uri": "https://localhost:8080/"
        },
        "id": "sfsNhFEBVRL5",
        "outputId": "1dc899c2-25be-4fa9-9f9e-8ca71e12d234"
      },
      "execution_count": null,
      "outputs": [
        {
          "output_type": "execute_result",
          "data": {
            "text/plain": [
              "(46, 13)"
            ]
          },
          "metadata": {},
          "execution_count": 34
        }
      ]
    },
    {
      "cell_type": "code",
      "source": [
        "testing_features = process_attributes(testing)\n",
        "testing_features.shape"
      ],
      "metadata": {
        "id": "wDNEe99iVZHG",
        "colab": {
          "base_uri": "https://localhost:8080/"
        },
        "outputId": "3605035d-b0c5-44bd-a3c7-70c36e84962c"
      },
      "execution_count": null,
      "outputs": [
        {
          "output_type": "execute_result",
          "data": {
            "text/plain": [
              "(46, 5)"
            ]
          },
          "metadata": {},
          "execution_count": 35
        }
      ]
    },
    {
      "cell_type": "code",
      "source": [
        "actual_Y = testing['Label']\n",
        "# actual_Y"
      ],
      "metadata": {
        "id": "2ndqg1v_VfLB"
      },
      "execution_count": null,
      "outputs": []
    },
    {
      "cell_type": "markdown",
      "source": [
        "### Organize the images for traing, validation, testing classes"
      ],
      "metadata": {
        "id": "KLiUuAdWVm5C"
      }
    },
    {
      "cell_type": "code",
      "source": [
        "training_images_vio = load_images(training_vio, '/content/gdrive/MyDrive/Multi_input_data/Violation-training-detected')"
      ],
      "metadata": {
        "id": "e2GE5teLVrtQ"
      },
      "execution_count": null,
      "outputs": []
    },
    {
      "cell_type": "code",
      "source": [
        "training_images_non = load_images(training_non, '/content/gdrive/MyDrive/Multi_input_data/Non-violation-training-detected')"
      ],
      "metadata": {
        "id": "uwMQ3HOFWTX5"
      },
      "execution_count": null,
      "outputs": []
    },
    {
      "cell_type": "code",
      "source": [
        "training_images = model_ready(training_images_vio+training_images_non)\n",
        "training_images.shape"
      ],
      "metadata": {
        "colab": {
          "base_uri": "https://localhost:8080/"
        },
        "id": "lHsY_M_AWaeI",
        "outputId": "404fbb96-dda2-4775-f9f5-65b46049a6bc"
      },
      "execution_count": null,
      "outputs": [
        {
          "output_type": "execute_result",
          "data": {
            "text/plain": [
              "(210, 200, 200, 3)"
            ]
          },
          "metadata": {},
          "execution_count": 39
        }
      ]
    },
    {
      "cell_type": "code",
      "source": [
        "validation_images_vio = load_images(validation_vio, '/content/gdrive/MyDrive/Multi_input_data/Violation-validation-detected')"
      ],
      "metadata": {
        "id": "h_LHkZL-W_XI"
      },
      "execution_count": null,
      "outputs": []
    },
    {
      "cell_type": "code",
      "source": [
        "validation_images_non = load_images(validation_non, '/content/gdrive/MyDrive/Multi_input_data/Non-violation-validation-detected')"
      ],
      "metadata": {
        "id": "Qt8vPgzaXIZD"
      },
      "execution_count": null,
      "outputs": []
    },
    {
      "cell_type": "code",
      "source": [
        "validation_images = model_ready(validation_images_vio+validation_images_non)\n",
        "validation_images.shape"
      ],
      "metadata": {
        "colab": {
          "base_uri": "https://localhost:8080/"
        },
        "id": "SBS96oCQXPRC",
        "outputId": "78a75f8c-78dc-48a6-e655-c4b6614ff160"
      },
      "execution_count": null,
      "outputs": [
        {
          "output_type": "execute_result",
          "data": {
            "text/plain": [
              "(53, 200, 200, 3)"
            ]
          },
          "metadata": {},
          "execution_count": 42
        }
      ]
    },
    {
      "cell_type": "code",
      "source": [
        "testing_images_vio = load_images(testing_vio, '/content/gdrive/MyDrive/Multi_input_data/Violation-testing-detected')"
      ],
      "metadata": {
        "id": "qybFqpUiXWSd"
      },
      "execution_count": null,
      "outputs": []
    },
    {
      "cell_type": "code",
      "source": [
        "testing_images_non = load_images(testing_non, '/content/gdrive/MyDrive/Multi_input_data/Non-violation-testing-detected')"
      ],
      "metadata": {
        "id": "k7gK0A8UXcvg"
      },
      "execution_count": null,
      "outputs": []
    },
    {
      "cell_type": "code",
      "source": [
        "elephant_images_vio = load_images(elephant_vio, '/content/gdrive/MyDrive/elephant/Violation_detected')"
      ],
      "metadata": {
        "id": "irskA66kdT54"
      },
      "execution_count": null,
      "outputs": []
    },
    {
      "cell_type": "code",
      "source": [
        "elephant_images_non = load_images(elephant_non, '/content/gdrive/MyDrive/elephant/Non_violation_detected')"
      ],
      "metadata": {
        "id": "9ZDvrvyJdira"
      },
      "execution_count": null,
      "outputs": []
    },
    {
      "cell_type": "code",
      "source": [
        "testing_images = model_ready(testing_images_vio+testing_images_non+elephant_images_vio+elephant_images_non)\n",
        "testing_images.shape"
      ],
      "metadata": {
        "colab": {
          "base_uri": "https://localhost:8080/"
        },
        "id": "wA-0vALsXjwP",
        "outputId": "8c258a17-ea7e-4650-aecf-581304b21548"
      },
      "execution_count": null,
      "outputs": [
        {
          "output_type": "execute_result",
          "data": {
            "text/plain": [
              "(46, 200, 200, 3)"
            ]
          },
          "metadata": {},
          "execution_count": 48
        }
      ]
    },
    {
      "cell_type": "code",
      "source": [
        "mlp = create_mlp(training_features.shape[1])\n",
        "inc = create_inc(200, 200, 3)"
      ],
      "metadata": {
        "id": "ZXhTLi10EwUx",
        "colab": {
          "base_uri": "https://localhost:8080/"
        },
        "outputId": "490c17de-189c-488b-e79e-8fa8d16c65c5"
      },
      "execution_count": null,
      "outputs": [
        {
          "output_type": "stream",
          "name": "stdout",
          "text": [
            "Downloading data from https://storage.googleapis.com/tensorflow/keras-applications/inception_v3/inception_v3_weights_tf_dim_ordering_tf_kernels_notop.h5\n",
            "87916544/87910968 [==============================] - 1s 0us/step\n",
            "87924736/87910968 [==============================] - 1s 0us/step\n"
          ]
        }
      ]
    },
    {
      "cell_type": "code",
      "source": [
        "inc.output"
      ],
      "metadata": {
        "colab": {
          "base_uri": "https://localhost:8080/"
        },
        "id": "Ehqt2UlBIM0P",
        "outputId": "ce670902-df90-4934-fa5b-385a35ee9909"
      },
      "execution_count": null,
      "outputs": [
        {
          "output_type": "execute_result",
          "data": {
            "text/plain": [
              "<KerasTensor: shape=(None, 8) dtype=float32 (created by layer 'dense_3')>"
            ]
          },
          "metadata": {},
          "execution_count": 50
        }
      ]
    },
    {
      "cell_type": "code",
      "source": [
        "combinedInput = concatenate([mlp.output, inc.output])\n",
        "x = Dense(4, activation=\"relu\")(combinedInput)\n",
        "x = Dense(1, activation=\"sigmoid\")(x)\n"
      ],
      "metadata": {
        "id": "Ip-4x2OsK1-k"
      },
      "execution_count": null,
      "outputs": []
    },
    {
      "cell_type": "code",
      "source": [
        "model = Model(inputs=[mlp.input, inc.input], outputs=x)"
      ],
      "metadata": {
        "id": "loRKrMoDLIrU"
      },
      "execution_count": null,
      "outputs": []
    },
    {
      "cell_type": "code",
      "source": [
        "model.compile(loss='binary_crossentropy',\n",
        "              optimizer = SGD(learning_rate=0.001, momentum=0.9),\n",
        "              metrics=['accuracy'])"
      ],
      "metadata": {
        "id": "QQJncMGSLKO2"
      },
      "execution_count": null,
      "outputs": []
    },
    {
      "cell_type": "code",
      "source": [
        "model.fit(\n",
        "\tx=[training_features, training_images], y=training_Y,\n",
        "\tvalidation_data=([validation_features, validation_images], validation_Y),\n",
        "\tepochs=15, batch_size=32)"
      ],
      "metadata": {
        "colab": {
          "base_uri": "https://localhost:8080/"
        },
        "id": "x3jBZVVQLqjR",
        "outputId": "af486a02-02bc-4f2a-a00e-e3394fdfd6a9"
      },
      "execution_count": null,
      "outputs": [
        {
          "output_type": "stream",
          "name": "stdout",
          "text": [
            "Epoch 1/15\n",
            "7/7 [==============================] - 26s 3s/step - loss: 0.6979 - accuracy: 0.6571 - val_loss: 0.5213 - val_accuracy: 0.7736\n",
            "Epoch 2/15\n",
            "7/7 [==============================] - 19s 3s/step - loss: 0.3337 - accuracy: 0.8524 - val_loss: 0.2357 - val_accuracy: 0.9245\n",
            "Epoch 3/15\n",
            "7/7 [==============================] - 19s 3s/step - loss: 0.1339 - accuracy: 0.9476 - val_loss: 0.0871 - val_accuracy: 0.9811\n",
            "Epoch 4/15\n",
            "7/7 [==============================] - 19s 3s/step - loss: 0.0436 - accuracy: 0.9905 - val_loss: 0.0919 - val_accuracy: 0.9434\n",
            "Epoch 5/15\n",
            "7/7 [==============================] - 20s 3s/step - loss: 0.0125 - accuracy: 1.0000 - val_loss: 0.0401 - val_accuracy: 1.0000\n",
            "Epoch 6/15\n",
            "7/7 [==============================] - 19s 3s/step - loss: 0.0069 - accuracy: 1.0000 - val_loss: 0.0549 - val_accuracy: 0.9623\n",
            "Epoch 7/15\n",
            "7/7 [==============================] - 19s 3s/step - loss: 0.0042 - accuracy: 1.0000 - val_loss: 0.0602 - val_accuracy: 0.9623\n",
            "Epoch 8/15\n",
            "7/7 [==============================] - 19s 3s/step - loss: 0.0032 - accuracy: 1.0000 - val_loss: 0.0555 - val_accuracy: 0.9623\n",
            "Epoch 9/15\n",
            "7/7 [==============================] - 19s 3s/step - loss: 0.0026 - accuracy: 1.0000 - val_loss: 0.0542 - val_accuracy: 0.9623\n",
            "Epoch 10/15\n",
            "7/7 [==============================] - 20s 3s/step - loss: 0.0022 - accuracy: 1.0000 - val_loss: 0.0493 - val_accuracy: 0.9811\n",
            "Epoch 11/15\n",
            "7/7 [==============================] - 19s 3s/step - loss: 0.0020 - accuracy: 1.0000 - val_loss: 0.0489 - val_accuracy: 0.9811\n",
            "Epoch 12/15\n",
            "7/7 [==============================] - 19s 3s/step - loss: 0.0018 - accuracy: 1.0000 - val_loss: 0.0507 - val_accuracy: 0.9811\n",
            "Epoch 13/15\n",
            "7/7 [==============================] - 19s 3s/step - loss: 0.0016 - accuracy: 1.0000 - val_loss: 0.0513 - val_accuracy: 0.9811\n",
            "Epoch 14/15\n",
            "7/7 [==============================] - 19s 3s/step - loss: 0.0015 - accuracy: 1.0000 - val_loss: 0.0508 - val_accuracy: 0.9811\n",
            "Epoch 15/15\n",
            "7/7 [==============================] - 19s 3s/step - loss: 0.0014 - accuracy: 1.0000 - val_loss: 0.0498 - val_accuracy: 0.9811\n"
          ]
        },
        {
          "output_type": "execute_result",
          "data": {
            "text/plain": [
              "<keras.callbacks.History at 0x7f748f086b50>"
            ]
          },
          "metadata": {},
          "execution_count": 54
        }
      ]
    },
    {
      "cell_type": "code",
      "source": [
        "preds = model.predict([testing_features, testing_images])\n",
        "preds"
      ],
      "metadata": {
        "colab": {
          "base_uri": "https://localhost:8080/"
        },
        "id": "6mVVMRJ9aVU0",
        "outputId": "57697da5-ed0e-4e34-a30a-38bebf040397"
      },
      "execution_count": null,
      "outputs": [
        {
          "output_type": "execute_result",
          "data": {
            "text/plain": [
              "array([[9.9417424e-01],\n",
              "       [9.9999106e-01],\n",
              "       [7.0227867e-01],\n",
              "       [9.9976921e-01],\n",
              "       [9.7819626e-01],\n",
              "       [9.9340373e-01],\n",
              "       [9.9996018e-01],\n",
              "       [9.8814189e-01],\n",
              "       [9.9536979e-01],\n",
              "       [9.9997294e-01],\n",
              "       [9.9328899e-01],\n",
              "       [4.0310568e-01],\n",
              "       [9.9650139e-01],\n",
              "       [9.9985319e-01],\n",
              "       [9.9791873e-01],\n",
              "       [9.9956274e-01],\n",
              "       [9.9923551e-01],\n",
              "       [9.8843443e-01],\n",
              "       [9.9999636e-01],\n",
              "       [9.9972177e-01],\n",
              "       [9.9889910e-01],\n",
              "       [9.9966586e-01],\n",
              "       [1.7146468e-03],\n",
              "       [1.1603167e-04],\n",
              "       [3.6546448e-05],\n",
              "       [3.4689798e-05],\n",
              "       [1.9979332e-05],\n",
              "       [5.0679850e-05],\n",
              "       [1.2442725e-05],\n",
              "       [1.8293560e-03],\n",
              "       [6.7156553e-04],\n",
              "       [5.1847100e-04],\n",
              "       [1.9378066e-03],\n",
              "       [6.7902881e-01],\n",
              "       [9.8791474e-01],\n",
              "       [8.7268448e-01],\n",
              "       [9.6606666e-01],\n",
              "       [9.4833636e-01],\n",
              "       [8.0639744e-01],\n",
              "       [9.9717820e-01],\n",
              "       [9.5760059e-01],\n",
              "       [9.8563516e-01],\n",
              "       [5.4706722e-01],\n",
              "       [8.9205432e-01],\n",
              "       [3.1460613e-02],\n",
              "       [9.3551207e-01]], dtype=float32)"
            ]
          },
          "metadata": {},
          "execution_count": 55
        }
      ]
    },
    {
      "cell_type": "code",
      "source": [
        "preds = [1 if i > 0.5 else 0 for i in preds ]\n",
        "preds"
      ],
      "metadata": {
        "colab": {
          "base_uri": "https://localhost:8080/"
        },
        "id": "WbNoCZlGaqbp",
        "outputId": "6c167747-549f-4ecd-f47b-0ceef2b405d1"
      },
      "execution_count": null,
      "outputs": [
        {
          "output_type": "execute_result",
          "data": {
            "text/plain": [
              "[1,\n",
              " 1,\n",
              " 1,\n",
              " 1,\n",
              " 1,\n",
              " 1,\n",
              " 1,\n",
              " 1,\n",
              " 1,\n",
              " 1,\n",
              " 1,\n",
              " 0,\n",
              " 1,\n",
              " 1,\n",
              " 1,\n",
              " 1,\n",
              " 1,\n",
              " 1,\n",
              " 1,\n",
              " 1,\n",
              " 1,\n",
              " 1,\n",
              " 0,\n",
              " 0,\n",
              " 0,\n",
              " 0,\n",
              " 0,\n",
              " 0,\n",
              " 0,\n",
              " 0,\n",
              " 0,\n",
              " 0,\n",
              " 0,\n",
              " 1,\n",
              " 1,\n",
              " 1,\n",
              " 1,\n",
              " 1,\n",
              " 1,\n",
              " 1,\n",
              " 1,\n",
              " 1,\n",
              " 1,\n",
              " 1,\n",
              " 0,\n",
              " 1]"
            ]
          },
          "metadata": {},
          "execution_count": 56
        }
      ]
    },
    {
      "cell_type": "code",
      "source": [
        "from sklearn.metrics import confusion_matrix\n",
        "\n",
        "#Generate the confusion matrix\n",
        "cf_matrix = confusion_matrix(actual_Y.tolist(), preds)\n",
        "\n",
        "print(cf_matrix)"
      ],
      "metadata": {
        "colab": {
          "base_uri": "https://localhost:8080/"
        },
        "id": "SQil7zJfbJbk",
        "outputId": "909fcb1a-5856-4eb8-f084-a0a94bd40dca"
      },
      "execution_count": null,
      "outputs": [
        {
          "output_type": "stream",
          "name": "stdout",
          "text": [
            "[[12  5]\n",
            " [ 1 28]]\n"
          ]
        }
      ]
    },
    {
      "cell_type": "code",
      "source": [
        "import seaborn as sns\n",
        "\n",
        "ax = sns.heatmap(cf_matrix, annot=True, cmap='Blues')\n",
        "\n",
        "ax.set_title('Seaborn Confusion Matrix with labels\\n\\n');\n",
        "ax.set_xlabel('\\nPredicted Values')\n",
        "ax.set_ylabel('Actual Values ');\n",
        "\n",
        "## Ticket labels - List must be in alphabetical order\n",
        "ax.xaxis.set_ticklabels(['Non-Violation','Violation'])\n",
        "ax.yaxis.set_ticklabels(['Non-Violation','Violation'])\n",
        "\n",
        "## Display the visualization of the Confusion Matrix.\n",
        "plt.show()"
      ],
      "metadata": {
        "colab": {
          "base_uri": "https://localhost:8080/",
          "height": 337
        },
        "id": "A_QuP6YObPSO",
        "outputId": "8da339d1-90fd-42ab-a832-67da85508cc5"
      },
      "execution_count": null,
      "outputs": [
        {
          "output_type": "display_data",
          "data": {
            "text/plain": [
              "<Figure size 432x288 with 2 Axes>"
            ],
            "image/png": "[encoded data removed]"
          },
          "metadata": {
            "needs_background": "light"
          }
        }
      ]
    }
  ]
}