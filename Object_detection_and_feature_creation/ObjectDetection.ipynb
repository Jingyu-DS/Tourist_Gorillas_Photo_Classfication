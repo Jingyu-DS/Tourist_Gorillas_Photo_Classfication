{
  "cells": [
    {
      "cell_type": "markdown",
      "id": "8d1297de",
      "metadata": {
        "id": "8d1297de"
      },
      "source": [
        "# Object Detection"
      ]
    },
    {
      "cell_type": "markdown",
      "id": "3fc6880f",
      "metadata": {
        "id": "3fc6880f"
      },
      "source": [
        "Code Adapted From: https://towardsdatascience.com/object-detection-with-tensorflow-model-and-opencv-d839f3e42849"
      ]
    },
    {
      "cell_type": "code",
      "source": [
        "from google.colab import drive\n",
        "drive.mount('/content/gdrive')"
      ],
      "metadata": {
        "colab": {
          "base_uri": "https://localhost:8080/"
        },
        "id": "EU-FtCuNDIIN",
        "outputId": "22520759-40ba-4369-839c-ab9e4f43ef14"
      },
      "id": "EU-FtCuNDIIN",
      "execution_count": null,
      "outputs": [
        {
          "output_type": "stream",
          "name": "stdout",
          "text": [
            "Mounted at /content/gdrive\n"
          ]
        }
      ]
    },
    {
      "cell_type": "code",
      "execution_count": null,
      "id": "c6e2e35f",
      "metadata": {
        "id": "c6e2e35f"
      },
      "outputs": [],
      "source": [
        "from scipy.spatial import distance as dist\n",
        "import tensorflow_hub as hub\n",
        "import cv2\n",
        "import glob\n",
        "import numpy\n",
        "import pandas as pd\n",
        "import tensorflow as tf\n",
        "import matplotlib.pyplot as plt\n",
        "import matplotlib.image as mpimg\n",
        "import os"
      ]
    },
    {
      "cell_type": "code",
      "execution_count": null,
      "id": "42362419",
      "metadata": {
        "id": "42362419"
      },
      "outputs": [],
      "source": [
        "detector = hub.load(\"https://tfhub.dev/tensorflow/efficientdet/lite4/detection/1\") #link with image classifier\n",
        "#link is subject to change due to updates.\n",
        "#If this cell throws an error, increase the number in front of \"lite\" by 1. \n",
        "#Ex: lite4 -> lite5"
      ]
    },
    {
      "cell_type": "code",
      "source": [
        "labels = pd.read_csv('/content/gdrive/MyDrive/labels.csv', sep=';', index_col='ID') # Download the label file from github\n",
        "labels = labels['SUPER CATEGORY']"
      ],
      "metadata": {
        "id": "lD0g5q8B6q9K"
      },
      "id": "lD0g5q8B6q9K",
      "execution_count": null,
      "outputs": []
    },
    {
      "cell_type": "code",
      "source": [
        "def check_animal_person(pred_labels, pred_scores):\n",
        "  prob_greater_0_5 = [index for index,value in enumerate(pred_scores) if value > 0.5]\n",
        "  final_label = []\n",
        "  for i in prob_greater_0_5:\n",
        "    final_label.append(pred_labels[i])\n",
        "  \n",
        "  return set(['person', 'animal']) <= set(final_label)"
      ],
      "metadata": {
        "id": "9s4VA3W962DT"
      },
      "id": "9s4VA3W962DT",
      "execution_count": null,
      "outputs": []
    },
    {
      "cell_type": "code",
      "execution_count": null,
      "id": "096a66ab",
      "metadata": {
        "id": "096a66ab"
      },
      "outputs": [],
      "source": [
        "def detect_objects(input_filepath, output_filepath, width=1028, height=1028, show=False):\n",
        "  # load data and preprocessing\n",
        "  img = cv2.imread(input_filepath)\n",
        "  if width is None or height == None:\n",
        "    inp = img\n",
        "  else:\n",
        "    inp = cv2.resize(img, (width, height))\n",
        "  rgb = cv2.cvtColor(inp, cv2.COLOR_BGR2RGB)\n",
        "  rgb_tensor = tf.convert_to_tensor(rgb, dtype = tf.uint8)\n",
        "  rgb_tensor = tf.expand_dims(rgb_tensor, 0)\n",
        "\n",
        "  # run model\n",
        "  boxes, scores, classes, num_detection = detector(rgb_tensor)\n",
        "\n",
        "  # post processing\n",
        "  pred_labels = classes.numpy().astype('int')[0] \n",
        "  pred_labels = [labels[i] for i in pred_labels]\n",
        "  pred_boxes = boxes.numpy()[0].astype('int')\n",
        "  pred_scores = scores.numpy()[0]\n",
        "  \n",
        "  # checker = check_animal_person(pred_labels, pred_scores)\n",
        "  if True:\n",
        "    # draw boxes on the figure\n",
        "    output_image = rgb\n",
        "    for score, (ymin, xmin, ymax, xmax), label in zip(pred_scores, pred_boxes, pred_labels):\n",
        "      if score < 0.25:\n",
        "        continue\n",
        "\n",
        "      # draw box    \n",
        "      # i am thinking just \n",
        "      # score_txt = f'{100 * round(score)}%'\n",
        "      score_txt = f'{round(100 * score)}%'\n",
        "      output_image = cv2.rectangle(output_image, (xmin, ymax),(xmax, ymin),(0,255,0),2)\n",
        "  \n",
        "\n",
        "      # put text\n",
        "      font = cv2.FONT_HERSHEY_SIMPLEX\n",
        "      output_image = cv2.putText(output_image, label, (xmin, ymax-10), font, 1.5, (255,0,0), 2, cv2.LINE_AA)\n",
        "      # output_image = cv2.putText(output_image, score_txt, (xmax, ymax-10), font, 1.5, (255,0,0), 2, cv2.LINE_AA)\n",
        "      \n",
        "    # save figure to the specified path\n",
        "    ### if the predicted labels do not contain human and animals at the same time \n",
        "    ### we will not save the image to the output file\n",
        "    cv2_output_image = cv2.cvtColor(output_image, cv2.COLOR_RGB2BGR)\n",
        "    cv2.imwrite(output_filepath, cv2_output_image)\n",
        "  \n",
        "    # show figure if \"show\" is true\n",
        "    if show:\n",
        "      plt.figure(figsize=(10,10))\n",
        "      plt.imshow(output_image)"
      ]
    },
    {
      "cell_type": "code",
      "execution_count": null,
      "id": "c97937c2",
      "metadata": {
        "colab": {
          "base_uri": "https://localhost:8080/"
        },
        "id": "c97937c2",
        "outputId": "621a76e7-68f9-46af-b4c6-c72b6f25a3c0"
      },
      "outputs": [
        {
          "output_type": "execute_result",
          "data": {
            "text/plain": [
              "4"
            ]
          },
          "metadata": {},
          "execution_count": 16
        }
      ],
      "source": [
        "input_folder = \"/content/gdrive/MyDrive/OD_Images/RawImages\" # Set to the location of input file\n",
        "filenames = os.listdir(input_folder)\n",
        "extensions = ['jpg', 'bmp', 'png', 'JPG', 'JPEG', 'jpeg']\n",
        "filenames = [filename for filename in filenames if any(filename.endswith(ext) for ext in extensions)] #if image type is not .jpg, replace with appropirate photo type\n",
        "len(filenames)"
      ]
    },
    {
      "cell_type": "code",
      "execution_count": null,
      "id": "e5b81897",
      "metadata": {
        "id": "e5b81897"
      },
      "outputs": [],
      "source": [
        "output_folder = \"/content/gdrive/MyDrive/OD_Images/Detected\" # Create a destination folder for images with objects detected\n",
        "os.makedirs(output_folder, exist_ok=True)"
      ]
    },
    {
      "cell_type": "code",
      "execution_count": null,
      "id": "757f514e",
      "metadata": {
        "colab": {
          "base_uri": "https://localhost:8080/"
        },
        "id": "757f514e",
        "outputId": "93537f77-d2f5-43e6-8504-d1b8672a2294"
      },
      "outputs": [
        {
          "output_type": "stream",
          "name": "stdout",
          "text": [
            "Processing 1 / 4 - images.jpg\n",
            "Processing 2 / 4 - download.jpg\n",
            "Processing 3 / 4 - images (1).jpg\n",
            "Processing 4 / 4 - images (2).jpg\n"
          ]
        }
      ],
      "source": [
        "for index, filename in enumerate(filenames, 1):\n",
        "  print(\"Processing {} / {} - {}\".format(index, len(filenames), filename))\n",
        "  detect_objects(\n",
        "    input_filepath = os.path.join(input_folder, filename),\n",
        "    output_filepath = os.path.join(output_folder, filename),\n",
        "    show=False, # you can turn this on if needed \n",
        "  )"
      ]
    }
  ],
  "metadata": {
    "kernelspec": {
      "display_name": "Python 3 (ipykernel)",
      "language": "python",
      "name": "python3"
    },
    "language_info": {
      "codemirror_mode": {
        "name": "ipython",
        "version": 3
      },
      "file_extension": ".py",
      "mimetype": "text/x-python",
      "name": "python",
      "nbconvert_exporter": "python",
      "pygments_lexer": "ipython3",
      "version": "3.9.7"
    },
    "colab": {
      "name": "ObjectDetection.ipynb",
      "provenance": [],
      "collapsed_sections": []
    }
  },
  "nbformat": 4,
  "nbformat_minor": 5
}