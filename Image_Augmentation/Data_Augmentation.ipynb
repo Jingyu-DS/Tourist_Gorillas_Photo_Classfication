{
  "nbformat": 4,
  "nbformat_minor": 0,
  "metadata": {
    "colab": {
      "name": "Data_Augmentation",
      "provenance": []
    },
    "kernelspec": {
      "name": "python3",
      "display_name": "Python 3"
    },
    "language_info": {
      "name": "python"
    }
  },
  "cells": [
    {
      "cell_type": "code",
      "source": [
        "from google.colab import drive\n",
        "drive.mount('/content/gdrive')"
      ],
      "metadata": {
        "colab": {
          "base_uri": "https://localhost:8080/"
        },
        "id": "92ptIt_-0KVY",
        "outputId": "8bf2d038-6564-445b-97d7-82c379966fac"
      },
      "execution_count": null,
      "outputs": [
        {
          "output_type": "stream",
          "name": "stdout",
          "text": [
            "Mounted at /content/gdrive\n"
          ]
        }
      ]
    },
    {
      "cell_type": "code",
      "execution_count": null,
      "metadata": {
        "colab": {
          "base_uri": "https://localhost:8080/"
        },
        "id": "lMoAwElj0IZL",
        "outputId": "e20d42ff-02e0-4600-e970-2cbd6dc6b155"
      },
      "outputs": [
        {
          "output_type": "stream",
          "name": "stdout",
          "text": [
            "Found 12 images belonging to 1 classes.\n"
          ]
        }
      ],
      "source": [
        "import cv2 as cv\n",
        "import os\n",
        "from tensorflow.keras.preprocessing.image import ImageDataGenerator\n",
        "#instantiate the ImageDataGenerator class\n",
        "datagen = ImageDataGenerator(\n",
        "        rotation_range=5,\n",
        "        height_shift_range=0.1,\n",
        "        width_shift_range=0.1,\n",
        "        shear_range=0.1,\n",
        "        zoom_range=0.15,\n",
        "        horizontal_flip=True,\n",
        "        fill_mode='nearest')\n",
        "#loop over the data in batches and this automatically saves the images\n",
        "i = 0\n",
        "for batch in datagen.flow_from_directory(os.path.join('/content/gdrive/MyDrive/Non_violation_original'), batch_size=6,\n",
        "                          save_to_dir='/content/gdrive/MyDrive/data_aug', save_format='jpg'):\n",
        "    i += 1\n",
        "    if i > 10:\n",
        "        break"
      ]
    }
  ]
}